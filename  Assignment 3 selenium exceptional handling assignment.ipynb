{
 "cells": [
  {
   "cell_type": "code",
   "execution_count": 1,
   "id": "43a8135a",
   "metadata": {},
   "outputs": [
    {
     "name": "stdout",
     "output_type": "stream",
     "text": [
      "Requirement already satisfied: selenium in c:\\users\\mauna\\anaconda3\\lib\\site-packages (4.8.3)\n",
      "Requirement already satisfied: trio~=0.17 in c:\\users\\mauna\\anaconda3\\lib\\site-packages (from selenium) (0.22.0)\n",
      "Requirement already satisfied: trio-websocket~=0.9 in c:\\users\\mauna\\anaconda3\\lib\\site-packages (from selenium) (0.10.2)\n",
      "Requirement already satisfied: urllib3[socks]~=1.26 in c:\\users\\mauna\\anaconda3\\lib\\site-packages (from selenium) (1.26.11)\n",
      "Requirement already satisfied: certifi>=2021.10.8 in c:\\users\\mauna\\anaconda3\\lib\\site-packages (from selenium) (2022.9.14)\n",
      "Requirement already satisfied: sortedcontainers in c:\\users\\mauna\\anaconda3\\lib\\site-packages (from trio~=0.17->selenium) (2.4.0)\n",
      "Requirement already satisfied: sniffio in c:\\users\\mauna\\anaconda3\\lib\\site-packages (from trio~=0.17->selenium) (1.2.0)\n",
      "Requirement already satisfied: attrs>=19.2.0 in c:\\users\\mauna\\anaconda3\\lib\\site-packages (from trio~=0.17->selenium) (21.4.0)\n",
      "Requirement already satisfied: idna in c:\\users\\mauna\\anaconda3\\lib\\site-packages (from trio~=0.17->selenium) (3.3)\n",
      "Requirement already satisfied: async-generator>=1.9 in c:\\users\\mauna\\anaconda3\\lib\\site-packages (from trio~=0.17->selenium) (1.10)\n",
      "Requirement already satisfied: cffi>=1.14 in c:\\users\\mauna\\anaconda3\\lib\\site-packages (from trio~=0.17->selenium) (1.15.1)\n",
      "Requirement already satisfied: exceptiongroup>=1.0.0rc9 in c:\\users\\mauna\\anaconda3\\lib\\site-packages (from trio~=0.17->selenium) (1.1.1)\n",
      "Requirement already satisfied: outcome in c:\\users\\mauna\\anaconda3\\lib\\site-packages (from trio~=0.17->selenium) (1.2.0)\n",
      "Requirement already satisfied: wsproto>=0.14 in c:\\users\\mauna\\anaconda3\\lib\\site-packages (from trio-websocket~=0.9->selenium) (1.2.0)\n",
      "Requirement already satisfied: PySocks!=1.5.7,<2.0,>=1.5.6 in c:\\users\\mauna\\anaconda3\\lib\\site-packages (from urllib3[socks]~=1.26->selenium) (1.7.1)\n",
      "Requirement already satisfied: pycparser in c:\\users\\mauna\\anaconda3\\lib\\site-packages (from cffi>=1.14->trio~=0.17->selenium) (2.21)\n",
      "Requirement already satisfied: h11<1,>=0.9.0 in c:\\users\\mauna\\anaconda3\\lib\\site-packages (from wsproto>=0.14->trio-websocket~=0.9->selenium) (0.14.0)\n",
      "Note: you may need to restart the kernel to use updated packages.\n"
     ]
    }
   ],
   "source": [
    "pip install selenium"
   ]
  },
  {
   "cell_type": "code",
   "execution_count": 2,
   "id": "b7c5e256",
   "metadata": {},
   "outputs": [],
   "source": [
    "import pandas as pd\n",
    "import selenium\n",
    "from selenium import webdriver\n",
    "import warnings \n",
    "warnings.filterwarnings('ignore')\n",
    "from selenium.webdriver.common.by import By \n",
    "import time\n",
    "from selenium.common.exceptions import StaleElementReferenceException, NoSuchElementException\n",
    "from selenium.webdriver.support.ui import WebDriverWait\n",
    "from selenium.webdriver.support import expected_conditions as EC\n",
    "from selenium.common.exceptions import ElementNotInteractableException\n",
    "from selenium.common.exceptions import SessionNotCreatedException\n",
    "from selenium.common.exceptions import TimeoutException\n",
    "from selenium.webdriver.chrome.options import Options\n",
    "import requests\n",
    "import re"
   ]
  },
  {
   "cell_type": "markdown",
   "id": "8dd4f226",
   "metadata": {},
   "source": [
    "# Q1 Program for a particular product search"
   ]
  },
  {
   "cell_type": "code",
   "execution_count": 3,
   "id": "7effdd16",
   "metadata": {},
   "outputs": [],
   "source": [
    "driver=webdriver.Chrome(r\"C:\\Users\\Mauna\\Downloads\\chromedriver_win32\\chromedriver.exe\")"
   ]
  },
  {
   "cell_type": "code",
   "execution_count": 4,
   "id": "7b7fb269",
   "metadata": {},
   "outputs": [],
   "source": [
    "driver.get(\"https://www.amazon.in\")"
   ]
  },
  {
   "cell_type": "code",
   "execution_count": 5,
   "id": "7411d8ca",
   "metadata": {},
   "outputs": [
    {
     "name": "stdout",
     "output_type": "stream",
     "text": [
      "enter your product name:smartwatch\n"
     ]
    }
   ],
   "source": [
    "item=input(\"enter your product name:\")"
   ]
  },
  {
   "cell_type": "markdown",
   "id": "7f5716c0",
   "metadata": {},
   "source": [
    "# Q2 scrapping details brand name,etc"
   ]
  },
  {
   "cell_type": "code",
   "execution_count": 6,
   "id": "bc980663",
   "metadata": {},
   "outputs": [],
   "source": [
    "search=driver.find_element(By.ID,\"twotabsearchtextbox\")\n",
    "search.send_keys(item)\n",
    "search_button=driver.find_element(By.XPATH,'/html/body/div[1]/header/div/div[1]/div[2]/div/form/div[3]/div/span/input')\n",
    "search_button.click()"
   ]
  },
  {
   "cell_type": "code",
   "execution_count": 7,
   "id": "f2aaa74d",
   "metadata": {},
   "outputs": [],
   "source": [
    "Name_Product=[]\n",
    "Price=[]\n",
    "Return_Exchange=[]\n",
    "Expected_Delivery=[]\n",
    "Availability=[] \n",
    "Product_URL=[]"
   ]
  },
  {
   "cell_type": "code",
   "execution_count": 8,
   "id": "92495a64",
   "metadata": {},
   "outputs": [
    {
     "data": {
      "text/plain": [
       "['https://www.amazon.in/sspa/click?ie=UTF8&spc=MTo2NDEwNzE5ODE2NzE3NTc3OjE2ODIwMDkwODY6c3BfYXRmOjIwMDk1OTEzOTk4NDk4OjowOjo&url=%2FFire-Boltt-Bluetooth-Calling-Assistance-Resolution%2Fdp%2FB0BF57RN3K%2Fref%3Dsr_1_1_sspa%3Fkeywords%3Dsmartwatch%26qid%3D1682009086%26sr%3D8-1-spons%26sp_csd%3Dd2lkZ2V0TmFtZT1zcF9hdGY%26psc%3D1',\n",
       " 'https://www.amazon.in/sspa/click?ie=UTF8&spc=MTo2NDEwNzE5ODE2NzE3NTc3OjE2ODIwMDkwODY6c3BfYXRmOjIwMDYwNjcyMDU1MDk4OjowOjo&url=%2FFire-Boltt-Smartwatch-Resolution-Connection-Assistance%2Fdp%2FB0B3N7LR6K%2Fref%3Dsr_1_2_sspa%3Fkeywords%3Dsmartwatch%26qid%3D1682009086%26sr%3D8-2-spons%26sp_csd%3Dd2lkZ2V0TmFtZT1zcF9hdGY%26psc%3D1',\n",
       " 'https://www.amazon.in/Fire-Boltt-Bluetooth-Smartwatch-Assistant-Monitoring/dp/B0BRKXXPZ7/ref=sr_1_3?keywords=smartwatch&qid=1682009086&sr=8-3',\n",
       " 'https://www.amazon.in/Fire-Boltt-Display-Smartwatch-Sports-Tracking/dp/B0BRQFF4HN/ref=sr_1_4?keywords=smartwatch&qid=1682009086&sr=8-4',\n",
       " 'https://www.amazon.in/Fire-Boltt-Smartwatch-Bluetooth-Technology-Resolution/dp/B0BRN5HLXW/ref=sr_1_5?keywords=smartwatch&qid=1682009086&sr=8-5',\n",
       " 'https://aax-eu.amazon.in/x/c/REeYxO5_pm1AoRrCfoGV5IYAAAGHn43ZDwMAAAH2AQBvbm9fdHhuX2JpZDIgICBvbm9fdHhuX2ltcDEgICDYDWXq/https://www.amazon.in/beatXP-Unbound-Display-One-Tap-Smartwatch/dp/B0BZVGHPCJ/ref=sxin_16_sbv_search_btf?content-id=amzn1.sym.dd2aa9b8-d653-4b22-af5d-81cb48e44028%3Aamzn1.sym.dd2aa9b8-d653-4b22-af5d-81cb48e44028&cv_ct_cx=smartwatch&keywords=smartwatch&pd_rd_i=B0BZVGHPCJ&pd_rd_r=a8f42ee6-208e-4b2a-9ec5-d71f9fdd0034&pd_rd_w=cMj1n&pd_rd_wg=XScD9&pf_rd_p=dd2aa9b8-d653-4b22-af5d-81cb48e44028&pf_rd_r=9CPY07ASB08953J54HD8&qid=1682009086&sbo=RZvfv%2F%2FHxDF%2BO5021pAnSA%3D%3D&sr=1-1-9131241a-a358-4619-a7b8-0f5a65d91d81',\n",
       " 'https://www.amazon.in/Noise-Advanced-Bluetooth-Brightness-Smartwatch/dp/B0B6BPX5S9/ref=sr_1_6?keywords=smartwatch&qid=1682009086&sr=8-6',\n",
       " 'https://www.amazon.in/Fire-Boltt-Display-Smartwatch-Sports-Tracking/dp/B0BRQF411D/ref=sr_1_7?keywords=smartwatch&qid=1682009086&sr=8-7',\n",
       " 'https://www.amazon.in/boAt-Display-Multiple-Monitoring-Charcoal/dp/B09MQSCJQ1/ref=sr_1_8?keywords=smartwatch&qid=1682009086&sr=8-8',\n",
       " 'https://www.amazon.in/boAt-Wave-Lite-Smartwatch-Activity/dp/B09V12K8NT/ref=sr_1_9?keywords=smartwatch&qid=1682009086&sr=8-9',\n",
       " 'https://www.amazon.in/Fire-Boltt-Ninja-Smartwatch-Sports-Tracking/dp/B09YV4RG4D/ref=sr_1_10?keywords=smartwatch&qid=1682009086&sr=8-10',\n",
       " 'https://www.amazon.in/sspa/click?ie=UTF8&spc=MTo2NDEwNzE5ODE2NzE3NTc3OjE2ODIwMDkwODY6c3BfbXRmOjIwMDUwMzE0NTMxNTk4OjowOjo&url=%2FFire-Boltt-Smartwatch-Bluetooth-Calling-Assistance%2Fdp%2FB09YV4MW2T%2Fref%3Dsr_1_11_sspa%3Fkeywords%3Dsmartwatch%26qid%3D1682009086%26sr%3D8-11-spons%26sp_csd%3Dd2lkZ2V0TmFtZT1zcF9tdGY%26psc%3D1',\n",
       " 'https://www.amazon.in/sspa/click?ie=UTF8&spc=MTo2NDEwNzE5ODE2NzE3NTc3OjE2ODIwMDkwODY6c3BfbXRmOjIwMTE0OTg2NzkxNzk4OjowOjo&url=%2FFire-Boltt-Smartwatch-Bluetooth-Technology-Resolution%2Fdp%2FB0BRN5HLXW%2Fref%3Dsr_1_12_sspa%3Fkeywords%3Dsmartwatch%26qid%3D1682009086%26sr%3D8-12-spons%26sp_csd%3Dd2lkZ2V0TmFtZT1zcF9tdGY%26psc%3D1',\n",
       " 'https://www.amazon.in/boAt-Smartwatch-Multiple-Monitoring-Resistance/dp/B096VF5YYF/ref=sr_1_13?keywords=smartwatch&qid=1682009086&sr=8-13',\n",
       " 'https://www.amazon.in/beatXP-Unbound-Display-One-Tap-Smartwatch/dp/B0BZVGHPCJ/ref=sr_1_14?keywords=smartwatch&qid=1682009086&sr=8-14',\n",
       " 'https://www.amazon.in/Fire-Boltt-Smartwatch-Resolution-Connection-Assistance/dp/B0B3N7LR6K/ref=sr_1_15?keywords=smartwatch&qid=1682009086&sr=8-15',\n",
       " 'https://www.amazon.in/Noise-Launched-Bluetooth-Calling-Tracking/dp/B0BJ72WZQ7/ref=sr_1_16?keywords=smartwatch&qid=1682009086&sr=8-16',\n",
       " 'https://www.amazon.in/boAt-Flash-Smartwatch-Activity-Resistance/dp/B094BLFQTM/ref=sr_1_17?keywords=smartwatch&qid=1682009086&sr=8-17',\n",
       " 'https://www.amazon.in/Fire-Boltt-Smartwatch-Bluetooth-Calling-Assistance/dp/B09YV4MW2T/ref=sr_1_18?keywords=smartwatch&qid=1682009086&sr=8-18',\n",
       " 'https://www.amazon.in/Fastrack-reflex-Rectangle-activity-tracker/dp/B09QKLM2VK/ref=sr_1_19?keywords=smartwatch&qid=1682009086&sr=8-19',\n",
       " 'https://www.amazon.in/Fire-Boltt-Phoenix-Bluetooth-Calling-Monitoring/dp/B0B3RRWSF6/ref=sr_1_20?keywords=smartwatch&qid=1682009086&sr=8-20',\n",
       " 'https://www.amazon.in/sspa/click?ie=UTF8&spc=MTo2NDEwNzE5ODE2NzE3NTc3OjE2ODIwMDkwODY6c3BfYnRmOjIwMDU3NzEyNzcyMjk4OjowOjo&url=%2FFire-Boltt-Bluetooth-Assistance-Calculator-Monitoring%2Fdp%2FB0B3MWYCHQ%2Fref%3Dsr_1_21_sspa%3Fkeywords%3Dsmartwatch%26qid%3D1682009086%26sr%3D8-21-spons%26sp_csd%3Dd2lkZ2V0TmFtZT1zcF9idGY%26psc%3D1',\n",
       " 'https://www.amazon.in/sspa/click?ie=UTF8&spc=MTo2NDEwNzE5ODE2NzE3NTc3OjE2ODIwMDkwODY6c3BfYnRmOjIwMTIyNjU1NDgxOTk4OjowOjo&url=%2FFire-Boltt-Bluetooth-Smartwatch-Assistant-Monitoring%2Fdp%2FB0BRKXXPZ7%2Fref%3Dsr_1_22_sspa%3Fkeywords%3Dsmartwatch%26qid%3D1682009086%26sr%3D8-22-spons%26sp_csd%3Dd2lkZ2V0TmFtZT1zcF9idGY%26psc%3D1',\n",
       " 'https://www.amazon.in/sspa/click?ie=UTF8&spc=MTo2NDEwNzE5ODE2NzE3NTc3OjE2ODIwMDkwODY6c3BfYXRmOjIwMDk1OTEzOTk4NDk4OjowOjo&url=%2FFire-Boltt-Bluetooth-Calling-Assistance-Resolution%2Fdp%2FB0BF57RN3K%2Fref%3Dsr_1_1_sspa%3Fkeywords%3Dsmartwatch%26qid%3D1682009086%26sr%3D8-1-spons%26sp_csd%3Dd2lkZ2V0TmFtZT1zcF9hdGY%26psc%3D1',\n",
       " 'https://www.amazon.in/sspa/click?ie=UTF8&spc=MTo2NDEwNzE5ODE2NzE3NTc3OjE2ODIwMDkwODY6c3BfYXRmOjIwMDYwNjcyMDU1MDk4OjowOjo&url=%2FFire-Boltt-Smartwatch-Resolution-Connection-Assistance%2Fdp%2FB0B3N7LR6K%2Fref%3Dsr_1_2_sspa%3Fkeywords%3Dsmartwatch%26qid%3D1682009086%26sr%3D8-2-spons%26sp_csd%3Dd2lkZ2V0TmFtZT1zcF9hdGY%26psc%3D1',\n",
       " 'https://www.amazon.in/Fire-Boltt-Bluetooth-Smartwatch-Assistant-Monitoring/dp/B0BRKXXPZ7/ref=sr_1_3?keywords=smartwatch&qid=1682009086&sr=8-3',\n",
       " 'https://www.amazon.in/Fire-Boltt-Display-Smartwatch-Sports-Tracking/dp/B0BRQFF4HN/ref=sr_1_4?keywords=smartwatch&qid=1682009086&sr=8-4',\n",
       " 'https://www.amazon.in/Fire-Boltt-Smartwatch-Bluetooth-Technology-Resolution/dp/B0BRN5HLXW/ref=sr_1_5?keywords=smartwatch&qid=1682009086&sr=8-5',\n",
       " 'https://aax-eu.amazon.in/x/c/REeYxO5_pm1AoRrCfoGV5IYAAAGHn43ZDwMAAAH2AQBvbm9fdHhuX2JpZDIgICBvbm9fdHhuX2ltcDEgICDYDWXq/https://www.amazon.in/beatXP-Unbound-Display-One-Tap-Smartwatch/dp/B0BZVGHPCJ/ref=sxin_16_sbv_search_btf?content-id=amzn1.sym.dd2aa9b8-d653-4b22-af5d-81cb48e44028%3Aamzn1.sym.dd2aa9b8-d653-4b22-af5d-81cb48e44028&cv_ct_cx=smartwatch&keywords=smartwatch&pd_rd_i=B0BZVGHPCJ&pd_rd_r=a8f42ee6-208e-4b2a-9ec5-d71f9fdd0034&pd_rd_w=cMj1n&pd_rd_wg=XScD9&pf_rd_p=dd2aa9b8-d653-4b22-af5d-81cb48e44028&pf_rd_r=9CPY07ASB08953J54HD8&qid=1682009086&sbo=RZvfv%2F%2FHxDF%2BO5021pAnSA%3D%3D&sr=1-1-9131241a-a358-4619-a7b8-0f5a65d91d81',\n",
       " 'https://www.amazon.in/Noise-Advanced-Bluetooth-Brightness-Smartwatch/dp/B0B6BPX5S9/ref=sr_1_6?keywords=smartwatch&qid=1682009086&sr=8-6',\n",
       " 'https://www.amazon.in/Fire-Boltt-Display-Smartwatch-Sports-Tracking/dp/B0BRQF411D/ref=sr_1_7?keywords=smartwatch&qid=1682009086&sr=8-7',\n",
       " 'https://www.amazon.in/boAt-Display-Multiple-Monitoring-Charcoal/dp/B09MQSCJQ1/ref=sr_1_8?keywords=smartwatch&qid=1682009086&sr=8-8',\n",
       " 'https://www.amazon.in/boAt-Wave-Lite-Smartwatch-Activity/dp/B09V12K8NT/ref=sr_1_9?keywords=smartwatch&qid=1682009086&sr=8-9',\n",
       " 'https://www.amazon.in/Fire-Boltt-Ninja-Smartwatch-Sports-Tracking/dp/B09YV4RG4D/ref=sr_1_10?keywords=smartwatch&qid=1682009086&sr=8-10',\n",
       " 'https://www.amazon.in/sspa/click?ie=UTF8&spc=MTo2NDEwNzE5ODE2NzE3NTc3OjE2ODIwMDkwODY6c3BfbXRmOjIwMDUwMzE0NTMxNTk4OjowOjo&url=%2FFire-Boltt-Smartwatch-Bluetooth-Calling-Assistance%2Fdp%2FB09YV4MW2T%2Fref%3Dsr_1_11_sspa%3Fkeywords%3Dsmartwatch%26qid%3D1682009086%26sr%3D8-11-spons%26sp_csd%3Dd2lkZ2V0TmFtZT1zcF9tdGY%26psc%3D1',\n",
       " 'https://www.amazon.in/sspa/click?ie=UTF8&spc=MTo2NDEwNzE5ODE2NzE3NTc3OjE2ODIwMDkwODY6c3BfbXRmOjIwMTE0OTg2NzkxNzk4OjowOjo&url=%2FFire-Boltt-Smartwatch-Bluetooth-Technology-Resolution%2Fdp%2FB0BRN5HLXW%2Fref%3Dsr_1_12_sspa%3Fkeywords%3Dsmartwatch%26qid%3D1682009086%26sr%3D8-12-spons%26sp_csd%3Dd2lkZ2V0TmFtZT1zcF9tdGY%26psc%3D1',\n",
       " 'https://www.amazon.in/boAt-Smartwatch-Multiple-Monitoring-Resistance/dp/B096VF5YYF/ref=sr_1_13?keywords=smartwatch&qid=1682009086&sr=8-13',\n",
       " 'https://www.amazon.in/beatXP-Unbound-Display-One-Tap-Smartwatch/dp/B0BZVGHPCJ/ref=sr_1_14?keywords=smartwatch&qid=1682009086&sr=8-14',\n",
       " 'https://www.amazon.in/Fire-Boltt-Smartwatch-Resolution-Connection-Assistance/dp/B0B3N7LR6K/ref=sr_1_15?keywords=smartwatch&qid=1682009086&sr=8-15',\n",
       " 'https://www.amazon.in/Noise-Launched-Bluetooth-Calling-Tracking/dp/B0BJ72WZQ7/ref=sr_1_16?keywords=smartwatch&qid=1682009086&sr=8-16',\n",
       " 'https://www.amazon.in/boAt-Flash-Smartwatch-Activity-Resistance/dp/B094BLFQTM/ref=sr_1_17?keywords=smartwatch&qid=1682009086&sr=8-17',\n",
       " 'https://www.amazon.in/Fire-Boltt-Smartwatch-Bluetooth-Calling-Assistance/dp/B09YV4MW2T/ref=sr_1_18?keywords=smartwatch&qid=1682009086&sr=8-18',\n",
       " 'https://www.amazon.in/Fastrack-reflex-Rectangle-activity-tracker/dp/B09QKLM2VK/ref=sr_1_19?keywords=smartwatch&qid=1682009086&sr=8-19',\n",
       " 'https://www.amazon.in/Fire-Boltt-Phoenix-Bluetooth-Calling-Monitoring/dp/B0B3RRWSF6/ref=sr_1_20?keywords=smartwatch&qid=1682009086&sr=8-20',\n",
       " 'https://www.amazon.in/sspa/click?ie=UTF8&spc=MTo2NDEwNzE5ODE2NzE3NTc3OjE2ODIwMDkwODY6c3BfYnRmOjIwMDU3NzEyNzcyMjk4OjowOjo&url=%2FFire-Boltt-Bluetooth-Assistance-Calculator-Monitoring%2Fdp%2FB0B3MWYCHQ%2Fref%3Dsr_1_21_sspa%3Fkeywords%3Dsmartwatch%26qid%3D1682009086%26sr%3D8-21-spons%26sp_csd%3Dd2lkZ2V0TmFtZT1zcF9idGY%26psc%3D1',\n",
       " 'https://www.amazon.in/sspa/click?ie=UTF8&spc=MTo2NDEwNzE5ODE2NzE3NTc3OjE2ODIwMDkwODY6c3BfYnRmOjIwMTIyNjU1NDgxOTk4OjowOjo&url=%2FFire-Boltt-Bluetooth-Smartwatch-Assistant-Monitoring%2Fdp%2FB0BRKXXPZ7%2Fref%3Dsr_1_22_sspa%3Fkeywords%3Dsmartwatch%26qid%3D1682009086%26sr%3D8-22-spons%26sp_csd%3Dd2lkZ2V0TmFtZT1zcF9idGY%26psc%3D1',\n",
       " 'https://www.amazon.in/sspa/click?ie=UTF8&spc=MTo2NDEwNzE5ODE2NzE3NTc3OjE2ODIwMDkwODY6c3BfYXRmOjIwMDk1OTEzOTk4NDk4OjowOjo&url=%2FFire-Boltt-Bluetooth-Calling-Assistance-Resolution%2Fdp%2FB0BF57RN3K%2Fref%3Dsr_1_1_sspa%3Fkeywords%3Dsmartwatch%26qid%3D1682009086%26sr%3D8-1-spons%26sp_csd%3Dd2lkZ2V0TmFtZT1zcF9hdGY%26psc%3D1',\n",
       " 'https://www.amazon.in/sspa/click?ie=UTF8&spc=MTo2NDEwNzE5ODE2NzE3NTc3OjE2ODIwMDkwODY6c3BfYXRmOjIwMDYwNjcyMDU1MDk4OjowOjo&url=%2FFire-Boltt-Smartwatch-Resolution-Connection-Assistance%2Fdp%2FB0B3N7LR6K%2Fref%3Dsr_1_2_sspa%3Fkeywords%3Dsmartwatch%26qid%3D1682009086%26sr%3D8-2-spons%26sp_csd%3Dd2lkZ2V0TmFtZT1zcF9hdGY%26psc%3D1',\n",
       " 'https://www.amazon.in/Fire-Boltt-Bluetooth-Smartwatch-Assistant-Monitoring/dp/B0BRKXXPZ7/ref=sr_1_3?keywords=smartwatch&qid=1682009086&sr=8-3',\n",
       " 'https://www.amazon.in/Fire-Boltt-Display-Smartwatch-Sports-Tracking/dp/B0BRQFF4HN/ref=sr_1_4?keywords=smartwatch&qid=1682009086&sr=8-4',\n",
       " 'https://www.amazon.in/Fire-Boltt-Smartwatch-Bluetooth-Technology-Resolution/dp/B0BRN5HLXW/ref=sr_1_5?keywords=smartwatch&qid=1682009086&sr=8-5',\n",
       " 'https://aax-eu.amazon.in/x/c/REeYxO5_pm1AoRrCfoGV5IYAAAGHn43ZDwMAAAH2AQBvbm9fdHhuX2JpZDIgICBvbm9fdHhuX2ltcDEgICDYDWXq/https://www.amazon.in/beatXP-Unbound-Display-One-Tap-Smartwatch/dp/B0BZVGHPCJ/ref=sxin_16_sbv_search_btf?content-id=amzn1.sym.dd2aa9b8-d653-4b22-af5d-81cb48e44028%3Aamzn1.sym.dd2aa9b8-d653-4b22-af5d-81cb48e44028&cv_ct_cx=smartwatch&keywords=smartwatch&pd_rd_i=B0BZVGHPCJ&pd_rd_r=a8f42ee6-208e-4b2a-9ec5-d71f9fdd0034&pd_rd_w=cMj1n&pd_rd_wg=XScD9&pf_rd_p=dd2aa9b8-d653-4b22-af5d-81cb48e44028&pf_rd_r=9CPY07ASB08953J54HD8&qid=1682009086&sbo=RZvfv%2F%2FHxDF%2BO5021pAnSA%3D%3D&sr=1-1-9131241a-a358-4619-a7b8-0f5a65d91d81',\n",
       " 'https://www.amazon.in/Noise-Advanced-Bluetooth-Brightness-Smartwatch/dp/B0B6BPX5S9/ref=sr_1_6?keywords=smartwatch&qid=1682009086&sr=8-6',\n",
       " 'https://www.amazon.in/Fire-Boltt-Display-Smartwatch-Sports-Tracking/dp/B0BRQF411D/ref=sr_1_7?keywords=smartwatch&qid=1682009086&sr=8-7',\n",
       " 'https://www.amazon.in/boAt-Display-Multiple-Monitoring-Charcoal/dp/B09MQSCJQ1/ref=sr_1_8?keywords=smartwatch&qid=1682009086&sr=8-8',\n",
       " 'https://www.amazon.in/boAt-Wave-Lite-Smartwatch-Activity/dp/B09V12K8NT/ref=sr_1_9?keywords=smartwatch&qid=1682009086&sr=8-9',\n",
       " 'https://www.amazon.in/Fire-Boltt-Ninja-Smartwatch-Sports-Tracking/dp/B09YV4RG4D/ref=sr_1_10?keywords=smartwatch&qid=1682009086&sr=8-10',\n",
       " 'https://www.amazon.in/sspa/click?ie=UTF8&spc=MTo2NDEwNzE5ODE2NzE3NTc3OjE2ODIwMDkwODY6c3BfbXRmOjIwMDUwMzE0NTMxNTk4OjowOjo&url=%2FFire-Boltt-Smartwatch-Bluetooth-Calling-Assistance%2Fdp%2FB09YV4MW2T%2Fref%3Dsr_1_11_sspa%3Fkeywords%3Dsmartwatch%26qid%3D1682009086%26sr%3D8-11-spons%26sp_csd%3Dd2lkZ2V0TmFtZT1zcF9tdGY%26psc%3D1',\n",
       " 'https://www.amazon.in/sspa/click?ie=UTF8&spc=MTo2NDEwNzE5ODE2NzE3NTc3OjE2ODIwMDkwODY6c3BfbXRmOjIwMTE0OTg2NzkxNzk4OjowOjo&url=%2FFire-Boltt-Smartwatch-Bluetooth-Technology-Resolution%2Fdp%2FB0BRN5HLXW%2Fref%3Dsr_1_12_sspa%3Fkeywords%3Dsmartwatch%26qid%3D1682009086%26sr%3D8-12-spons%26sp_csd%3Dd2lkZ2V0TmFtZT1zcF9tdGY%26psc%3D1',\n",
       " 'https://www.amazon.in/boAt-Smartwatch-Multiple-Monitoring-Resistance/dp/B096VF5YYF/ref=sr_1_13?keywords=smartwatch&qid=1682009086&sr=8-13',\n",
       " 'https://www.amazon.in/beatXP-Unbound-Display-One-Tap-Smartwatch/dp/B0BZVGHPCJ/ref=sr_1_14?keywords=smartwatch&qid=1682009086&sr=8-14',\n",
       " 'https://www.amazon.in/Fire-Boltt-Smartwatch-Resolution-Connection-Assistance/dp/B0B3N7LR6K/ref=sr_1_15?keywords=smartwatch&qid=1682009086&sr=8-15',\n",
       " 'https://www.amazon.in/Noise-Launched-Bluetooth-Calling-Tracking/dp/B0BJ72WZQ7/ref=sr_1_16?keywords=smartwatch&qid=1682009086&sr=8-16',\n",
       " 'https://www.amazon.in/boAt-Flash-Smartwatch-Activity-Resistance/dp/B094BLFQTM/ref=sr_1_17?keywords=smartwatch&qid=1682009086&sr=8-17',\n",
       " 'https://www.amazon.in/Fire-Boltt-Smartwatch-Bluetooth-Calling-Assistance/dp/B09YV4MW2T/ref=sr_1_18?keywords=smartwatch&qid=1682009086&sr=8-18',\n",
       " 'https://www.amazon.in/Fastrack-reflex-Rectangle-activity-tracker/dp/B09QKLM2VK/ref=sr_1_19?keywords=smartwatch&qid=1682009086&sr=8-19',\n",
       " 'https://www.amazon.in/Fire-Boltt-Phoenix-Bluetooth-Calling-Monitoring/dp/B0B3RRWSF6/ref=sr_1_20?keywords=smartwatch&qid=1682009086&sr=8-20',\n",
       " 'https://www.amazon.in/sspa/click?ie=UTF8&spc=MTo2NDEwNzE5ODE2NzE3NTc3OjE2ODIwMDkwODY6c3BfYnRmOjIwMDU3NzEyNzcyMjk4OjowOjo&url=%2FFire-Boltt-Bluetooth-Assistance-Calculator-Monitoring%2Fdp%2FB0B3MWYCHQ%2Fref%3Dsr_1_21_sspa%3Fkeywords%3Dsmartwatch%26qid%3D1682009086%26sr%3D8-21-spons%26sp_csd%3Dd2lkZ2V0TmFtZT1zcF9idGY%26psc%3D1',\n",
       " 'https://www.amazon.in/sspa/click?ie=UTF8&spc=MTo2NDEwNzE5ODE2NzE3NTc3OjE2ODIwMDkwODY6c3BfYnRmOjIwMTIyNjU1NDgxOTk4OjowOjo&url=%2FFire-Boltt-Bluetooth-Smartwatch-Assistant-Monitoring%2Fdp%2FB0BRKXXPZ7%2Fref%3Dsr_1_22_sspa%3Fkeywords%3Dsmartwatch%26qid%3D1682009086%26sr%3D8-22-spons%26sp_csd%3Dd2lkZ2V0TmFtZT1zcF9idGY%26psc%3D1']"
      ]
     },
     "execution_count": 8,
     "metadata": {},
     "output_type": "execute_result"
    }
   ],
   "source": [
    "start=0\n",
    "end=3\n",
    "for page in range(start,end):\n",
    "    url=driver.find_elements(By.XPATH,'//a[@ class=\"a-link-normal s-underline-text s-underline-link-text s-link-style a-text-normal\"]')\n",
    "    for i in url:\n",
    "        Product_URL.append(i.get_attribute(\"href\"))\n",
    "    next_button=driver.find_elements(By.XPATH,'/html/body/div[1]/div[2]/div[1]/div[1]/div/span[1]/div[1]/div[23]/div/div/span/a[3]')\n",
    "Product_URL"
   ]
  },
  {
   "cell_type": "code",
   "execution_count": 9,
   "id": "276c7bfb",
   "metadata": {},
   "outputs": [
    {
     "data": {
      "text/plain": [
       "69"
      ]
     },
     "execution_count": 9,
     "metadata": {},
     "output_type": "execute_result"
    }
   ],
   "source": [
    "\n",
    "len(Product_URL)"
   ]
  },
  {
   "cell_type": "code",
   "execution_count": 19,
   "id": "98eeaac7",
   "metadata": {},
   "outputs": [
    {
     "data": {
      "text/plain": [
       "['Fire-Boltt',\n",
       " 'Fire-Boltt',\n",
       " 'Fire-Boltt',\n",
       " 'Fire-Boltt',\n",
       " 'Fire-Boltt',\n",
       " '--',\n",
       " 'Noise',\n",
       " '--',\n",
       " '--',\n",
       " 'BoAt',\n",
       " 'Fire-Boltt',\n",
       " 'Fire-Boltt',\n",
       " 'Fire-Boltt',\n",
       " 'BoAt',\n",
       " '--',\n",
       " '--',\n",
       " '--',\n",
       " 'BoAt',\n",
       " 'Fire-Boltt',\n",
       " '--',\n",
       " 'Fire-Boltt',\n",
       " 'Fire-Boltt',\n",
       " '--',\n",
       " '--',\n",
       " 'Fire-Boltt',\n",
       " 'Fire-Boltt',\n",
       " 'Fire-Boltt',\n",
       " 'Fire-Boltt',\n",
       " '--',\n",
       " 'Noise',\n",
       " 'Fire-Boltt',\n",
       " 'BoAt',\n",
       " 'BoAt',\n",
       " '--',\n",
       " '--',\n",
       " '--',\n",
       " '--',\n",
       " '--',\n",
       " '--',\n",
       " '--',\n",
       " '--',\n",
       " '--',\n",
       " '--',\n",
       " 'Fire-Boltt',\n",
       " 'Fire-Boltt',\n",
       " 'Fire-Boltt',\n",
       " 'Fire-Boltt',\n",
       " 'Fire-Boltt',\n",
       " 'Fire-Boltt',\n",
       " 'Fire-Boltt',\n",
       " 'Fire-Boltt',\n",
       " '--',\n",
       " 'Noise',\n",
       " 'Fire-Boltt',\n",
       " 'BoAt',\n",
       " 'BoAt',\n",
       " 'Fire-Boltt',\n",
       " 'Fire-Boltt',\n",
       " '--',\n",
       " 'BoAt',\n",
       " '--',\n",
       " 'Fire-Boltt',\n",
       " '--',\n",
       " 'BoAt',\n",
       " 'Fire-Boltt',\n",
       " '--',\n",
       " 'Fire-Boltt',\n",
       " 'Fire-Boltt',\n",
       " 'Fire-Boltt']"
      ]
     },
     "execution_count": 19,
     "metadata": {},
     "output_type": "execute_result"
    }
   ],
   "source": [
    "Brand_Name=[]\n",
    "for i in Product_URL:\n",
    "    driver.get(i)\n",
    "    time.sleep(2)\n",
    "    try:\n",
    "        Brand=driver.find_element(By.XPATH,'/html/body/div[2]/div[2]/div[5]/div[3]/div[4]/div[43]/div/table/tbody/tr[1]/td[2]/span')\n",
    "        Brand_Name.append(Brand.text)\n",
    "    except NoSuchElementException:\n",
    "        Brand_Name.append(\"--\")\n",
    "Brand_Name"
   ]
  },
  {
   "cell_type": "code",
   "execution_count": 20,
   "id": "d5c1ba96",
   "metadata": {},
   "outputs": [
    {
     "data": {
      "text/plain": [
       "69"
      ]
     },
     "execution_count": 20,
     "metadata": {},
     "output_type": "execute_result"
    }
   ],
   "source": [
    "len(Brand_Name)"
   ]
  },
  {
   "cell_type": "code",
   "execution_count": 22,
   "id": "e48a4bb8",
   "metadata": {},
   "outputs": [
    {
     "data": {
      "text/plain": [
       "['Fire-Boltt Ninja Call Pro Plus 1.83\" Smart Watch with Bluetooth Calling, AI Voice Assistance, 100 Sports Modes IP67 Rating, 240 * 280 Pixel High Resolution (Black)',\n",
       " 'Fire-Boltt Visionary 1.78\" AMOLED Bluetooth Calling Smartwatch with 368 * 448 Pixel Resolution, Rotating Crown & 60Hz Refresh Rate 100+ Sports Mode, TWS Connection, Voice Assistance (Black)',\n",
       " 'Fire-Boltt Phoenix Pro 1.39\" Bluetooth Calling Smartwatch, AI Voice Assistant, Metal Body with 120+ Sports Modes, SpO2, Heart Rate Monitoring (Black)',\n",
       " 'Fire-Boltt Ninja 3 1.83\" Display Smartwatch Full Touch with 100+ Sports Modes with IP68, Sp02 Tracking, Over 100 Cloud Based Watch Faces (Black)',\n",
       " 'Fire-Boltt Astro 1.78\" AMOLED Display Smartwatch, Always On Display, Bluetooth Calling with AI Voice, 110+ Sports Modes, Rotating Button Technology, High Resolution of 368 * 448 Pixels (Black)',\n",
       " 'beatXP Unbound NEO 1.8\" Super AMOLED 2.5D Curved Display, One-Tap BT Calling Smartwatch (Black)',\n",
       " \"Noise Pulse 2 Max Advanced Bluetooth Calling Smart Watch with 1.85'' TFT and 550 Nits Brightness, Smart DND, 10 Days Battery, 100 Sports Mode, Smartwatch for Men and Women - (Midnight Blue)\",\n",
       " 'Fire-Boltt Ninja 3 1.83\" Display Smartwatch Full Touch with 100+ Sports Modes with IP68, Sp02 Tracking, Over 100 Cloud Based Watch Faces (Beige)',\n",
       " 'boAt Xtend Smartwatch with Alexa Built-in, 1.69” HD Display, Multiple Watch Faces, Stress Monitor, Heart & SpO2 Monitoring, 14 Sports Modes, Sleep Monitor, 5 ATM & 7 Days Battery(Charcoal Black)',\n",
       " 'boAt Wave Lite Smartwatch with 1.69\" HD Display, Sleek Metal Body, HR & SpO2 Level Monitor, 140+ Watch Faces, Activity Tracker, Multiple Sports Modes, IP68 & 7 Days Battery Life(Active Black)',\n",
       " 'Fire-Boltt Ninja 3 Smartwatch Full Touch 1.69 & 60 Sports Modes with IP68, Sp02 Tracking, Over 100 Cloud based watch faces (Black)',\n",
       " \"Fire-Boltt India's No 1 Smartwatch Brand Talk 2 Bluetooth Calling Smartwatch with Dual Button, Hands On Voice Assistance, 120 Sports Modes, in Built Mic & Speaker with IP68 Rating (Black)\",\n",
       " 'Fire-Boltt Astro 1.78\" AMOLED Display Smartwatch, Always On Display, Bluetooth Calling with AI Voice, 110+ Sports Modes, Rotating Button Technology, High Resolution of 368 * 448 Pixels (Black)',\n",
       " 'boAt Xtend Smartwatch with Alexa Built-in, 1.69” HD Display, Multiple Watch Faces, Stress Monitor, Heart & SpO2 Monitoring, 14 Sports Modes, Sleep Monitor, 5 ATM & 7 Days Battery(Pitch Black)',\n",
       " 'beatXP Unbound NEO 1.8\" Super AMOLED 2.5D Curved Display, One-Tap BT Calling Smartwatch (Black)',\n",
       " 'Fire-Boltt Visionary 1.78\" AMOLED Bluetooth Calling Smartwatch with 368 * 448 Pixel Resolution, Rotating Crown & 60Hz Refresh Rate 100+ Sports Mode, TWS Connection, Voice Assistance (Black)',\n",
       " 'Noise Newly Launched Twist Bluetooth Calling Smart Watch with 1.38\" TFT Biggest Display, Up-to 7 Days Battery, 100+ Watch Faces, IP68, Heart Rate Monitor, Sleep Tracking (Jet Black)',\n",
       " 'boAt Flash Edition Smartwatch with Activity Tracker,Multiple Sports Modes,Full Touch 3.30 cm (1.3\") Screen,Gesture, Sleep Monitor,Camera & Music Control,IP68 Dust,Sweat & Splash Resistance(Moon Red)',\n",
       " \"Fire-Boltt India's No 1 Smartwatch Brand Talk 2 Bluetooth Calling Smartwatch with Dual Button, Hands On Voice Assistance, 120 Sports Modes, in Built Mic & Speaker with IP68 Rating (Black)\",\n",
       " 'Fastrack Reflex Vox Smartwatch|Alexa Built-in|Bright HD Display|Upto 10 Days Battery|5 ATM Water Resistance|Multiple Sports Modes|100+ Watchfaces|24x7 HRM|Sp02|Stress Monitor|Camera & Music Control',\n",
       " 'Fire-Boltt Phoenix Smart Watch with Bluetooth Calling 1.3\",120+ Sports Modes, 240 * 240 PX High Res with SpO2, Heart Rate Monitoring & IP67 Rating, Rs 100 Off on UPI (Black)',\n",
       " 'Fire-Boltt Ring 3 Smart Watch 1.8 Biggest Display with Advanced Bluetooth Calling Chip, Voice Assistance,118 Sports Modes, in Built Calculator & Games, SpO2, Heart Rate Monitoring (Black)',\n",
       " 'Fire-Boltt Phoenix Pro 1.39\" Bluetooth Calling Smartwatch, AI Voice Assistant, Metal Body with 120+ Sports Modes, SpO2, Heart Rate Monitoring (Black)',\n",
       " 'Fire-Boltt Ninja Call Pro Plus 1.83\" Smart Watch with Bluetooth Calling, AI Voice Assistance, 100 Sports Modes IP67 Rating, 240 * 280 Pixel High Resolution (Black)',\n",
       " 'Fire-Boltt Visionary 1.78\" AMOLED Bluetooth Calling Smartwatch with 368 * 448 Pixel Resolution, Rotating Crown & 60Hz Refresh Rate 100+ Sports Mode, TWS Connection, Voice Assistance (Black)',\n",
       " 'Fire-Boltt Phoenix Pro 1.39\" Bluetooth Calling Smartwatch, AI Voice Assistant, Metal Body with 120+ Sports Modes, SpO2, Heart Rate Monitoring (Black)',\n",
       " 'Fire-Boltt Ninja 3 1.83\" Display Smartwatch Full Touch with 100+ Sports Modes with IP68, Sp02 Tracking, Over 100 Cloud Based Watch Faces (Black)',\n",
       " 'Fire-Boltt Astro 1.78\" AMOLED Display Smartwatch, Always On Display, Bluetooth Calling with AI Voice, 110+ Sports Modes, Rotating Button Technology, High Resolution of 368 * 448 Pixels (Black)',\n",
       " 'beatXP Unbound NEO 1.8\" Super AMOLED 2.5D Curved Display, One-Tap BT Calling Smartwatch (Black)',\n",
       " \"Noise Pulse 2 Max Advanced Bluetooth Calling Smart Watch with 1.85'' TFT and 550 Nits Brightness, Smart DND, 10 Days Battery, 100 Sports Mode, Smartwatch for Men and Women - (Midnight Blue)\",\n",
       " 'Fire-Boltt Ninja 3 1.83\" Display Smartwatch Full Touch with 100+ Sports Modes with IP68, Sp02 Tracking, Over 100 Cloud Based Watch Faces (Beige)',\n",
       " 'boAt Xtend Smartwatch with Alexa Built-in, 1.69” HD Display, Multiple Watch Faces, Stress Monitor, Heart & SpO2 Monitoring, 14 Sports Modes, Sleep Monitor, 5 ATM & 7 Days Battery(Charcoal Black)',\n",
       " 'boAt Wave Lite Smartwatch with 1.69\" HD Display, Sleek Metal Body, HR & SpO2 Level Monitor, 140+ Watch Faces, Activity Tracker, Multiple Sports Modes, IP68 & 7 Days Battery Life(Active Black)',\n",
       " 'Fire-Boltt Ninja 3 Smartwatch Full Touch 1.69 & 60 Sports Modes with IP68, Sp02 Tracking, Over 100 Cloud based watch faces (Black)',\n",
       " \"Fire-Boltt India's No 1 Smartwatch Brand Talk 2 Bluetooth Calling Smartwatch with Dual Button, Hands On Voice Assistance, 120 Sports Modes, in Built Mic & Speaker with IP68 Rating (Black)\",\n",
       " 'Fire-Boltt Astro 1.78\" AMOLED Display Smartwatch, Always On Display, Bluetooth Calling with AI Voice, 110+ Sports Modes, Rotating Button Technology, High Resolution of 368 * 448 Pixels (Black)',\n",
       " 'boAt Xtend Smartwatch with Alexa Built-in, 1.69” HD Display, Multiple Watch Faces, Stress Monitor, Heart & SpO2 Monitoring, 14 Sports Modes, Sleep Monitor, 5 ATM & 7 Days Battery(Pitch Black)',\n",
       " 'beatXP Unbound NEO 1.8\" Super AMOLED 2.5D Curved Display, One-Tap BT Calling Smartwatch (Black)',\n",
       " 'Fire-Boltt Visionary 1.78\" AMOLED Bluetooth Calling Smartwatch with 368 * 448 Pixel Resolution, Rotating Crown & 60Hz Refresh Rate 100+ Sports Mode, TWS Connection, Voice Assistance (Black)',\n",
       " 'Noise Newly Launched Twist Bluetooth Calling Smart Watch with 1.38\" TFT Biggest Display, Up-to 7 Days Battery, 100+ Watch Faces, IP68, Heart Rate Monitor, Sleep Tracking (Jet Black)',\n",
       " 'boAt Flash Edition Smartwatch with Activity Tracker,Multiple Sports Modes,Full Touch 3.30 cm (1.3\") Screen,Gesture, Sleep Monitor,Camera & Music Control,IP68 Dust,Sweat & Splash Resistance(Moon Red)',\n",
       " \"Fire-Boltt India's No 1 Smartwatch Brand Talk 2 Bluetooth Calling Smartwatch with Dual Button, Hands On Voice Assistance, 120 Sports Modes, in Built Mic & Speaker with IP68 Rating (Black)\",\n",
       " 'Fastrack Reflex Vox Smartwatch|Alexa Built-in|Bright HD Display|Upto 10 Days Battery|5 ATM Water Resistance|Multiple Sports Modes|100+ Watchfaces|24x7 HRM|Sp02|Stress Monitor|Camera & Music Control',\n",
       " 'Fire-Boltt Phoenix Smart Watch with Bluetooth Calling 1.3\",120+ Sports Modes, 240 * 240 PX High Res with SpO2, Heart Rate Monitoring & IP67 Rating, Rs 100 Off on UPI (Black)',\n",
       " 'Fire-Boltt Ring 3 Smart Watch 1.8 Biggest Display with Advanced Bluetooth Calling Chip, Voice Assistance,118 Sports Modes, in Built Calculator & Games, SpO2, Heart Rate Monitoring (Black)',\n",
       " 'Fire-Boltt Phoenix Pro 1.39\" Bluetooth Calling Smartwatch, AI Voice Assistant, Metal Body with 120+ Sports Modes, SpO2, Heart Rate Monitoring (Black)',\n",
       " 'Fire-Boltt Ninja Call Pro Plus 1.83\" Smart Watch with Bluetooth Calling, AI Voice Assistance, 100 Sports Modes IP67 Rating, 240 * 280 Pixel High Resolution (Black)',\n",
       " 'Fire-Boltt Visionary 1.78\" AMOLED Bluetooth Calling Smartwatch with 368 * 448 Pixel Resolution, Rotating Crown & 60Hz Refresh Rate 100+ Sports Mode, TWS Connection, Voice Assistance (Black)',\n",
       " 'Fire-Boltt Phoenix Pro 1.39\" Bluetooth Calling Smartwatch, AI Voice Assistant, Metal Body with 120+ Sports Modes, SpO2, Heart Rate Monitoring (Black)',\n",
       " 'Fire-Boltt Ninja 3 1.83\" Display Smartwatch Full Touch with 100+ Sports Modes with IP68, Sp02 Tracking, Over 100 Cloud Based Watch Faces (Black)',\n",
       " 'Fire-Boltt Astro 1.78\" AMOLED Display Smartwatch, Always On Display, Bluetooth Calling with AI Voice, 110+ Sports Modes, Rotating Button Technology, High Resolution of 368 * 448 Pixels (Black)',\n",
       " 'beatXP Unbound NEO 1.8\" Super AMOLED 2.5D Curved Display, One-Tap BT Calling Smartwatch (Black)',\n",
       " \"Noise Pulse 2 Max Advanced Bluetooth Calling Smart Watch with 1.85'' TFT and 550 Nits Brightness, Smart DND, 10 Days Battery, 100 Sports Mode, Smartwatch for Men and Women - (Midnight Blue)\",\n",
       " 'Fire-Boltt Ninja 3 1.83\" Display Smartwatch Full Touch with 100+ Sports Modes with IP68, Sp02 Tracking, Over 100 Cloud Based Watch Faces (Beige)',\n",
       " 'boAt Xtend Smartwatch with Alexa Built-in, 1.69” HD Display, Multiple Watch Faces, Stress Monitor, Heart & SpO2 Monitoring, 14 Sports Modes, Sleep Monitor, 5 ATM & 7 Days Battery(Charcoal Black)',\n",
       " 'boAt Wave Lite Smartwatch with 1.69\" HD Display, Sleek Metal Body, HR & SpO2 Level Monitor, 140+ Watch Faces, Activity Tracker, Multiple Sports Modes, IP68 & 7 Days Battery Life(Active Black)',\n",
       " 'Fire-Boltt Ninja 3 Smartwatch Full Touch 1.69 & 60 Sports Modes with IP68, Sp02 Tracking, Over 100 Cloud based watch faces (Black)',\n",
       " \"Fire-Boltt India's No 1 Smartwatch Brand Talk 2 Bluetooth Calling Smartwatch with Dual Button, Hands On Voice Assistance, 120 Sports Modes, in Built Mic & Speaker with IP68 Rating (Black)\",\n",
       " 'Fire-Boltt Astro 1.78\" AMOLED Display Smartwatch, Always On Display, Bluetooth Calling with AI Voice, 110+ Sports Modes, Rotating Button Technology, High Resolution of 368 * 448 Pixels (Black)',\n",
       " 'boAt Xtend Smartwatch with Alexa Built-in, 1.69” HD Display, Multiple Watch Faces, Stress Monitor, Heart & SpO2 Monitoring, 14 Sports Modes, Sleep Monitor, 5 ATM & 7 Days Battery(Pitch Black)',\n",
       " 'beatXP Unbound NEO 1.8\" Super AMOLED 2.5D Curved Display, One-Tap BT Calling Smartwatch (Black)',\n",
       " 'Fire-Boltt Visionary 1.78\" AMOLED Bluetooth Calling Smartwatch with 368 * 448 Pixel Resolution, Rotating Crown & 60Hz Refresh Rate 100+ Sports Mode, TWS Connection, Voice Assistance (Black)',\n",
       " 'Noise Newly Launched Twist Bluetooth Calling Smart Watch with 1.38\" TFT Biggest Display, Up-to 7 Days Battery, 100+ Watch Faces, IP68, Heart Rate Monitor, Sleep Tracking (Jet Black)',\n",
       " 'boAt Flash Edition Smartwatch with Activity Tracker,Multiple Sports Modes,Full Touch 3.30 cm (1.3\") Screen,Gesture, Sleep Monitor,Camera & Music Control,IP68 Dust,Sweat & Splash Resistance(Moon Red)',\n",
       " \"Fire-Boltt India's No 1 Smartwatch Brand Talk 2 Bluetooth Calling Smartwatch with Dual Button, Hands On Voice Assistance, 120 Sports Modes, in Built Mic & Speaker with IP68 Rating (Black)\",\n",
       " 'Fastrack Reflex Vox Smartwatch|Alexa Built-in|Bright HD Display|Upto 10 Days Battery|5 ATM Water Resistance|Multiple Sports Modes|100+ Watchfaces|24x7 HRM|Sp02|Stress Monitor|Camera & Music Control',\n",
       " 'Fire-Boltt Phoenix Smart Watch with Bluetooth Calling 1.3\",120+ Sports Modes, 240 * 240 PX High Res with SpO2, Heart Rate Monitoring & IP67 Rating, Rs 100 Off on UPI (Black)',\n",
       " 'Fire-Boltt Ring 3 Smart Watch 1.8 Biggest Display with Advanced Bluetooth Calling Chip, Voice Assistance,118 Sports Modes, in Built Calculator & Games, SpO2, Heart Rate Monitoring (Black)',\n",
       " 'Fire-Boltt Phoenix Pro 1.39\" Bluetooth Calling Smartwatch, AI Voice Assistant, Metal Body with 120+ Sports Modes, SpO2, Heart Rate Monitoring (Black)']"
      ]
     },
     "execution_count": 22,
     "metadata": {},
     "output_type": "execute_result"
    }
   ],
   "source": [
    "for i in Product_URL:\n",
    "    driver.get(i)\n",
    "    time.sleep(2)\n",
    "    try:\n",
    "        product1=driver.find_element(By.ID,\"productTitle\")\n",
    "        Name_Product.append(product1.text)\n",
    "    except NoSuchElementException:\n",
    "        Name_Product.append(\"--\")\n",
    "Name_Product"
   ]
  },
  {
   "cell_type": "code",
   "execution_count": 23,
   "id": "a7537833",
   "metadata": {},
   "outputs": [
    {
     "data": {
      "text/plain": [
       "69"
      ]
     },
     "execution_count": 23,
     "metadata": {},
     "output_type": "execute_result"
    }
   ],
   "source": [
    "len(Name_Product)"
   ]
  },
  {
   "cell_type": "code",
   "execution_count": 24,
   "id": "cb9d5f7a",
   "metadata": {},
   "outputs": [
    {
     "data": {
      "text/plain": [
       "['1,799',\n",
       " '--',\n",
       " '1,499',\n",
       " '1,099',\n",
       " '2,999',\n",
       " '1,999',\n",
       " '1,799',\n",
       " '1,099',\n",
       " '2,299',\n",
       " '1,299',\n",
       " '1,299',\n",
       " '1,799',\n",
       " '2,999',\n",
       " '2,299',\n",
       " '1,999',\n",
       " '3,799',\n",
       " '1,899',\n",
       " '1,599',\n",
       " '1,799',\n",
       " '--',\n",
       " '1,799',\n",
       " '1,499',\n",
       " '1,499',\n",
       " '1,799',\n",
       " '3,799',\n",
       " '1,499',\n",
       " '1,099',\n",
       " '2,999',\n",
       " '1,999',\n",
       " '1,799',\n",
       " '1,099',\n",
       " '2,299',\n",
       " '1,299',\n",
       " '1,299',\n",
       " '1,799',\n",
       " '--',\n",
       " '2,299',\n",
       " '1,999',\n",
       " '3,799',\n",
       " '1,899',\n",
       " '1,599',\n",
       " '1,799',\n",
       " '--',\n",
       " '1,799',\n",
       " '1,499',\n",
       " '1,499',\n",
       " '1,799',\n",
       " '3,799',\n",
       " '1,499',\n",
       " '1,099',\n",
       " '2,999',\n",
       " '1,999',\n",
       " '1,799',\n",
       " '1,099',\n",
       " '2,299',\n",
       " '1,299',\n",
       " '1,299',\n",
       " '1,799',\n",
       " '2,999',\n",
       " '2,299',\n",
       " '1,999',\n",
       " '3,799',\n",
       " '1,899',\n",
       " '1,599',\n",
       " '1,799',\n",
       " '--',\n",
       " '1,799',\n",
       " '1,499',\n",
       " '1,499']"
      ]
     },
     "execution_count": 24,
     "metadata": {},
     "output_type": "execute_result"
    }
   ],
   "source": [
    "for i in Product_URL:\n",
    "    driver.get(i)\n",
    "    time.sleep(2)\n",
    "    try:\n",
    "        COST=driver.find_element(By.XPATH,'/html/body/div[2]/div[2]/div[5]/div[3]/div[4]/div[9]/div[3]/div[1]/span[2]/span[2]/span[2]')\n",
    "        Price.append(COST.text)\n",
    "    except NoSuchElementException:\n",
    "        Price.append(\"--\")\n",
    "Price"
   ]
  },
  {
   "cell_type": "code",
   "execution_count": 26,
   "id": "1e6f48b2",
   "metadata": {},
   "outputs": [
    {
     "data": {
      "text/plain": [
       "69"
      ]
     },
     "execution_count": 26,
     "metadata": {},
     "output_type": "execute_result"
    }
   ],
   "source": [
    "len(Price)"
   ]
  },
  {
   "cell_type": "code",
   "execution_count": 27,
   "id": "4a621df0",
   "metadata": {},
   "outputs": [
    {
     "data": {
      "text/plain": [
       "['7 days Replacement',\n",
       " '7 days Replacement',\n",
       " '7 days Replacement',\n",
       " '7 days Replacement',\n",
       " '7 days Replacement',\n",
       " '7 days Replacement',\n",
       " '7 days Replacement',\n",
       " '7 days Replacement',\n",
       " '7 days Replacement',\n",
       " '7 days Replacement',\n",
       " '7 days Replacement',\n",
       " '7 days Replacement',\n",
       " '7 days Replacement',\n",
       " '7 days Replacement',\n",
       " '7 days Replacement',\n",
       " '7 days Replacement',\n",
       " '7 days Replacement',\n",
       " '7 days Replacement',\n",
       " '--',\n",
       " '--',\n",
       " '7 days Replacement',\n",
       " '7 days Replacement',\n",
       " '7 days Replacement',\n",
       " '7 days Replacement',\n",
       " '7 days Replacement',\n",
       " '7 days Replacement',\n",
       " '7 days Replacement',\n",
       " '7 days Replacement',\n",
       " '7 days Replacement',\n",
       " '7 days Replacement',\n",
       " '7 days Replacement',\n",
       " '7 days Replacement',\n",
       " '7 days Replacement',\n",
       " '7 days Replacement',\n",
       " '7 days Replacement',\n",
       " '7 days Replacement',\n",
       " '7 days Replacement',\n",
       " '7 days Replacement',\n",
       " '7 days Replacement',\n",
       " '7 days Replacement',\n",
       " '7 days Replacement',\n",
       " '7 days Replacement',\n",
       " '--',\n",
       " '7 days Replacement',\n",
       " '7 days Replacement',\n",
       " '7 days Replacement',\n",
       " '7 days Replacement',\n",
       " '7 days Replacement',\n",
       " '7 days Replacement',\n",
       " '7 days Replacement',\n",
       " '7 days Replacement',\n",
       " '7 days Replacement',\n",
       " '7 days Replacement',\n",
       " '7 days Replacement',\n",
       " '7 days Replacement',\n",
       " '7 days Replacement',\n",
       " '7 days Replacement',\n",
       " '7 days Replacement',\n",
       " '7 days Replacement',\n",
       " '7 days Replacement',\n",
       " '7 days Replacement',\n",
       " '7 days Replacement',\n",
       " '7 days Replacement',\n",
       " '7 days Replacement',\n",
       " '7 days Replacement',\n",
       " '--',\n",
       " '7 days Replacement',\n",
       " '7 days Replacement',\n",
       " '7 days Replacement']"
      ]
     },
     "execution_count": 27,
     "metadata": {},
     "output_type": "execute_result"
    }
   ],
   "source": [
    "for i in Product_URL:\n",
    "    driver.get(i)\n",
    "    time.sleep(2)\n",
    "    try:\n",
    "        RET=driver.find_element(By.XPATH,'/html/body/div[2]/div[2]/div[5]/div[3]/div[4]/div[21]/div[2]/div/div/div/div[2]/div/ol/li[3]/div/span/div[2]')\n",
    "        Return_Exchange.append(RET.text)\n",
    "    except NoSuchElementException:\n",
    "        Return_Exchange.append(\"--\")\n",
    "Return_Exchange"
   ]
  },
  {
   "cell_type": "code",
   "execution_count": 28,
   "id": "e9efe17d",
   "metadata": {},
   "outputs": [
    {
     "data": {
      "text/plain": [
       "69"
      ]
     },
     "execution_count": 28,
     "metadata": {},
     "output_type": "execute_result"
    }
   ],
   "source": [
    "len(Return_Exchange)"
   ]
  },
  {
   "cell_type": "code",
   "execution_count": 29,
   "id": "aa3aff03",
   "metadata": {},
   "outputs": [
    {
     "data": {
      "text/plain": [
       "['Monday, 24 April',\n",
       " 'Monday, 24 April',\n",
       " '--',\n",
       " 'Monday, 24 April',\n",
       " '--',\n",
       " 'Monday, 24 April',\n",
       " 'Monday, 24 April',\n",
       " 'Monday, 24 April',\n",
       " 'Monday, 24 April',\n",
       " 'Monday, 24 April',\n",
       " 'Monday, 24 April',\n",
       " 'Monday, 24 April',\n",
       " '--',\n",
       " 'Monday, 24 April',\n",
       " 'Monday, 24 April',\n",
       " 'Monday, 24 April',\n",
       " 'Monday, 24 April',\n",
       " 'Monday, 24 April',\n",
       " 'Monday, 24 April',\n",
       " '--',\n",
       " 'Monday, 24 April',\n",
       " 'Monday, 24 April',\n",
       " 'Monday, 24 April',\n",
       " 'Monday, 24 April',\n",
       " 'Monday, 24 April',\n",
       " 'Monday, 24 April',\n",
       " 'Monday, 24 April',\n",
       " '--',\n",
       " 'Monday, 24 April',\n",
       " 'Monday, 24 April',\n",
       " 'Monday, 24 April',\n",
       " 'Monday, 24 April',\n",
       " 'Monday, 24 April',\n",
       " 'Monday, 24 April',\n",
       " 'Monday, 24 April',\n",
       " '--',\n",
       " 'Monday, 24 April',\n",
       " 'Monday, 24 April',\n",
       " 'Monday, 24 April',\n",
       " 'Monday, 24 April',\n",
       " 'Monday, 24 April',\n",
       " 'Monday, 24 April',\n",
       " '--',\n",
       " 'Monday, 24 April',\n",
       " 'Monday, 24 April',\n",
       " 'Monday, 24 April',\n",
       " 'Monday, 24 April',\n",
       " 'Monday, 24 April',\n",
       " 'Monday, 24 April',\n",
       " 'Monday, 24 April',\n",
       " '--',\n",
       " 'Monday, 24 April',\n",
       " 'Monday, 24 April',\n",
       " 'Monday, 24 April',\n",
       " 'Monday, 24 April',\n",
       " 'Monday, 24 April',\n",
       " 'Monday, 24 April',\n",
       " 'Monday, 24 April',\n",
       " '--',\n",
       " 'Monday, 24 April',\n",
       " 'Monday, 24 April',\n",
       " 'Monday, 24 April',\n",
       " 'Monday, 24 April',\n",
       " 'Monday, 24 April',\n",
       " '--',\n",
       " '--',\n",
       " 'Monday, 24 April',\n",
       " 'Monday, 24 April',\n",
       " 'Monday, 24 April']"
      ]
     },
     "execution_count": 29,
     "metadata": {},
     "output_type": "execute_result"
    }
   ],
   "source": [
    "for i in Product_URL:\n",
    "    driver.get(i)\n",
    "    time.sleep(2)\n",
    "    try:\n",
    "        exp=driver.find_element(By.XPATH,'/html/body/div[2]/div[2]/div[5]/div[3]/div[1]/div[3]/div/div[1]/div/div/div/form/div/div/div/div/div[3]/div/div[2]/div[9]/div[1]/div/div/div[1]/span/span')\n",
    "        Expected_Delivery.append(exp.text)\n",
    "    except NoSuchElementException:\n",
    "        Expected_Delivery.append(\"--\")\n",
    "Expected_Delivery"
   ]
  },
  {
   "cell_type": "code",
   "execution_count": 30,
   "id": "cd98b392",
   "metadata": {},
   "outputs": [
    {
     "data": {
      "text/plain": [
       "69"
      ]
     },
     "execution_count": 30,
     "metadata": {},
     "output_type": "execute_result"
    }
   ],
   "source": [
    "len(Expected_Delivery)"
   ]
  },
  {
   "cell_type": "code",
   "execution_count": 31,
   "id": "a9d7a89e",
   "metadata": {},
   "outputs": [
    {
     "data": {
      "text/plain": [
       "['In stock',\n",
       " 'In stock',\n",
       " 'In stock',\n",
       " 'In stock',\n",
       " 'In stock',\n",
       " 'In stock',\n",
       " 'In stock',\n",
       " 'In stock',\n",
       " 'In stock',\n",
       " 'In stock',\n",
       " 'In stock',\n",
       " 'In stock',\n",
       " 'In stock',\n",
       " 'In stock',\n",
       " 'In stock',\n",
       " 'In stock',\n",
       " 'In stock',\n",
       " 'In stock',\n",
       " 'In stock',\n",
       " 'In stock',\n",
       " 'In stock',\n",
       " 'In stock',\n",
       " 'In stock',\n",
       " 'In stock',\n",
       " 'In stock',\n",
       " 'In stock',\n",
       " 'In stock',\n",
       " 'In stock',\n",
       " 'In stock',\n",
       " 'In stock',\n",
       " 'In stock',\n",
       " 'In stock',\n",
       " 'In stock',\n",
       " 'In stock',\n",
       " 'In stock',\n",
       " 'In stock',\n",
       " 'In stock',\n",
       " 'In stock',\n",
       " 'In stock',\n",
       " 'In stock',\n",
       " 'In stock',\n",
       " 'In stock',\n",
       " 'In stock',\n",
       " 'In stock',\n",
       " 'In stock',\n",
       " 'In stock',\n",
       " 'In stock',\n",
       " 'In stock',\n",
       " 'In stock',\n",
       " 'In stock',\n",
       " 'In stock',\n",
       " 'In stock',\n",
       " 'In stock',\n",
       " 'In stock',\n",
       " 'In stock',\n",
       " 'In stock',\n",
       " 'In stock',\n",
       " 'In stock',\n",
       " 'In stock',\n",
       " 'In stock',\n",
       " 'In stock',\n",
       " 'In stock',\n",
       " 'In stock',\n",
       " 'In stock',\n",
       " 'In stock',\n",
       " 'In stock',\n",
       " 'In stock',\n",
       " 'In stock',\n",
       " 'In stock']"
      ]
     },
     "execution_count": 31,
     "metadata": {},
     "output_type": "execute_result"
    }
   ],
   "source": [
    " for i in Product_URL:\n",
    "    driver.get(i)\n",
    "    time.sleep(2)\n",
    "    try:\n",
    "        avl=driver.find_element(By.XPATH,'//div[@ id=\"availability\"]')\n",
    "        Availability.append(avl.text)\n",
    "    except NoSuchElementException:\n",
    "        Availability.append(\"--\")\n",
    "Availability"
   ]
  },
  {
   "cell_type": "code",
   "execution_count": 32,
   "id": "20df6912",
   "metadata": {},
   "outputs": [
    {
     "data": {
      "text/plain": [
       "69"
      ]
     },
     "execution_count": 32,
     "metadata": {},
     "output_type": "execute_result"
    }
   ],
   "source": [
    "len(Availability)"
   ]
  },
  {
   "cell_type": "code",
   "execution_count": 33,
   "id": "b02d3233",
   "metadata": {},
   "outputs": [
    {
     "name": "stdout",
     "output_type": "stream",
     "text": [
      "69 69 69 69 69 69 69\n"
     ]
    }
   ],
   "source": [
    "print(len(Brand_Name),len(Name_Product),len(Price),len(Return_Exchange),len(Expected_Delivery),len(Availability),len(Product_URL))"
   ]
  },
  {
   "cell_type": "code",
   "execution_count": 34,
   "id": "5d73cc89",
   "metadata": {},
   "outputs": [
    {
     "name": "stdout",
     "output_type": "stream",
     "text": [
      "Scraped Details of a Product:\n"
     ]
    },
    {
     "data": {
      "text/html": [
       "<div>\n",
       "<style scoped>\n",
       "    .dataframe tbody tr th:only-of-type {\n",
       "        vertical-align: middle;\n",
       "    }\n",
       "\n",
       "    .dataframe tbody tr th {\n",
       "        vertical-align: top;\n",
       "    }\n",
       "\n",
       "    .dataframe thead th {\n",
       "        text-align: right;\n",
       "    }\n",
       "</style>\n",
       "<table border=\"1\" class=\"dataframe\">\n",
       "  <thead>\n",
       "    <tr style=\"text-align: right;\">\n",
       "      <th></th>\n",
       "      <th>BRAND</th>\n",
       "      <th>NAME</th>\n",
       "      <th>PRICE</th>\n",
       "      <th>RET/EXCH</th>\n",
       "      <th>DELIVERY</th>\n",
       "      <th>IN/OUT STOCK</th>\n",
       "      <th>URL</th>\n",
       "    </tr>\n",
       "  </thead>\n",
       "  <tbody>\n",
       "    <tr>\n",
       "      <th>0</th>\n",
       "      <td>Fire-Boltt</td>\n",
       "      <td>Fire-Boltt Ninja Call Pro Plus 1.83\" Smart Wat...</td>\n",
       "      <td>1,799</td>\n",
       "      <td>7 days Replacement</td>\n",
       "      <td>Monday, 24 April</td>\n",
       "      <td>In stock</td>\n",
       "      <td>https://www.amazon.in/sspa/click?ie=UTF8&amp;spc=M...</td>\n",
       "    </tr>\n",
       "    <tr>\n",
       "      <th>1</th>\n",
       "      <td>Fire-Boltt</td>\n",
       "      <td>Fire-Boltt Visionary 1.78\" AMOLED Bluetooth Ca...</td>\n",
       "      <td>--</td>\n",
       "      <td>7 days Replacement</td>\n",
       "      <td>Monday, 24 April</td>\n",
       "      <td>In stock</td>\n",
       "      <td>https://www.amazon.in/sspa/click?ie=UTF8&amp;spc=M...</td>\n",
       "    </tr>\n",
       "    <tr>\n",
       "      <th>2</th>\n",
       "      <td>Fire-Boltt</td>\n",
       "      <td>Fire-Boltt Phoenix Pro 1.39\" Bluetooth Calling...</td>\n",
       "      <td>1,499</td>\n",
       "      <td>7 days Replacement</td>\n",
       "      <td>--</td>\n",
       "      <td>In stock</td>\n",
       "      <td>https://www.amazon.in/Fire-Boltt-Bluetooth-Sma...</td>\n",
       "    </tr>\n",
       "    <tr>\n",
       "      <th>3</th>\n",
       "      <td>Fire-Boltt</td>\n",
       "      <td>Fire-Boltt Ninja 3 1.83\" Display Smartwatch Fu...</td>\n",
       "      <td>1,099</td>\n",
       "      <td>7 days Replacement</td>\n",
       "      <td>Monday, 24 April</td>\n",
       "      <td>In stock</td>\n",
       "      <td>https://www.amazon.in/Fire-Boltt-Display-Smart...</td>\n",
       "    </tr>\n",
       "    <tr>\n",
       "      <th>4</th>\n",
       "      <td>Fire-Boltt</td>\n",
       "      <td>Fire-Boltt Astro 1.78\" AMOLED Display Smartwat...</td>\n",
       "      <td>2,999</td>\n",
       "      <td>7 days Replacement</td>\n",
       "      <td>--</td>\n",
       "      <td>In stock</td>\n",
       "      <td>https://www.amazon.in/Fire-Boltt-Smartwatch-Bl...</td>\n",
       "    </tr>\n",
       "    <tr>\n",
       "      <th>...</th>\n",
       "      <td>...</td>\n",
       "      <td>...</td>\n",
       "      <td>...</td>\n",
       "      <td>...</td>\n",
       "      <td>...</td>\n",
       "      <td>...</td>\n",
       "      <td>...</td>\n",
       "    </tr>\n",
       "    <tr>\n",
       "      <th>64</th>\n",
       "      <td>Fire-Boltt</td>\n",
       "      <td>Fire-Boltt India's No 1 Smartwatch Brand Talk ...</td>\n",
       "      <td>1,799</td>\n",
       "      <td>7 days Replacement</td>\n",
       "      <td>--</td>\n",
       "      <td>In stock</td>\n",
       "      <td>https://www.amazon.in/Fire-Boltt-Smartwatch-Bl...</td>\n",
       "    </tr>\n",
       "    <tr>\n",
       "      <th>65</th>\n",
       "      <td>--</td>\n",
       "      <td>Fastrack Reflex Vox Smartwatch|Alexa Built-in|...</td>\n",
       "      <td>--</td>\n",
       "      <td>--</td>\n",
       "      <td>--</td>\n",
       "      <td>In stock</td>\n",
       "      <td>https://www.amazon.in/Fastrack-reflex-Rectangl...</td>\n",
       "    </tr>\n",
       "    <tr>\n",
       "      <th>66</th>\n",
       "      <td>Fire-Boltt</td>\n",
       "      <td>Fire-Boltt Phoenix Smart Watch with Bluetooth ...</td>\n",
       "      <td>1,799</td>\n",
       "      <td>7 days Replacement</td>\n",
       "      <td>Monday, 24 April</td>\n",
       "      <td>In stock</td>\n",
       "      <td>https://www.amazon.in/Fire-Boltt-Phoenix-Bluet...</td>\n",
       "    </tr>\n",
       "    <tr>\n",
       "      <th>67</th>\n",
       "      <td>Fire-Boltt</td>\n",
       "      <td>Fire-Boltt Ring 3 Smart Watch 1.8 Biggest Disp...</td>\n",
       "      <td>1,499</td>\n",
       "      <td>7 days Replacement</td>\n",
       "      <td>Monday, 24 April</td>\n",
       "      <td>In stock</td>\n",
       "      <td>https://www.amazon.in/sspa/click?ie=UTF8&amp;spc=M...</td>\n",
       "    </tr>\n",
       "    <tr>\n",
       "      <th>68</th>\n",
       "      <td>Fire-Boltt</td>\n",
       "      <td>Fire-Boltt Phoenix Pro 1.39\" Bluetooth Calling...</td>\n",
       "      <td>1,499</td>\n",
       "      <td>7 days Replacement</td>\n",
       "      <td>Monday, 24 April</td>\n",
       "      <td>In stock</td>\n",
       "      <td>https://www.amazon.in/sspa/click?ie=UTF8&amp;spc=M...</td>\n",
       "    </tr>\n",
       "  </tbody>\n",
       "</table>\n",
       "<p>69 rows × 7 columns</p>\n",
       "</div>"
      ],
      "text/plain": [
       "         BRAND                                               NAME  PRICE  \\\n",
       "0   Fire-Boltt  Fire-Boltt Ninja Call Pro Plus 1.83\" Smart Wat...  1,799   \n",
       "1   Fire-Boltt  Fire-Boltt Visionary 1.78\" AMOLED Bluetooth Ca...     --   \n",
       "2   Fire-Boltt  Fire-Boltt Phoenix Pro 1.39\" Bluetooth Calling...  1,499   \n",
       "3   Fire-Boltt  Fire-Boltt Ninja 3 1.83\" Display Smartwatch Fu...  1,099   \n",
       "4   Fire-Boltt  Fire-Boltt Astro 1.78\" AMOLED Display Smartwat...  2,999   \n",
       "..         ...                                                ...    ...   \n",
       "64  Fire-Boltt  Fire-Boltt India's No 1 Smartwatch Brand Talk ...  1,799   \n",
       "65          --  Fastrack Reflex Vox Smartwatch|Alexa Built-in|...     --   \n",
       "66  Fire-Boltt  Fire-Boltt Phoenix Smart Watch with Bluetooth ...  1,799   \n",
       "67  Fire-Boltt  Fire-Boltt Ring 3 Smart Watch 1.8 Biggest Disp...  1,499   \n",
       "68  Fire-Boltt  Fire-Boltt Phoenix Pro 1.39\" Bluetooth Calling...  1,499   \n",
       "\n",
       "              RET/EXCH          DELIVERY IN/OUT STOCK  \\\n",
       "0   7 days Replacement  Monday, 24 April     In stock   \n",
       "1   7 days Replacement  Monday, 24 April     In stock   \n",
       "2   7 days Replacement                --     In stock   \n",
       "3   7 days Replacement  Monday, 24 April     In stock   \n",
       "4   7 days Replacement                --     In stock   \n",
       "..                 ...               ...          ...   \n",
       "64  7 days Replacement                --     In stock   \n",
       "65                  --                --     In stock   \n",
       "66  7 days Replacement  Monday, 24 April     In stock   \n",
       "67  7 days Replacement  Monday, 24 April     In stock   \n",
       "68  7 days Replacement  Monday, 24 April     In stock   \n",
       "\n",
       "                                                  URL  \n",
       "0   https://www.amazon.in/sspa/click?ie=UTF8&spc=M...  \n",
       "1   https://www.amazon.in/sspa/click?ie=UTF8&spc=M...  \n",
       "2   https://www.amazon.in/Fire-Boltt-Bluetooth-Sma...  \n",
       "3   https://www.amazon.in/Fire-Boltt-Display-Smart...  \n",
       "4   https://www.amazon.in/Fire-Boltt-Smartwatch-Bl...  \n",
       "..                                                ...  \n",
       "64  https://www.amazon.in/Fire-Boltt-Smartwatch-Bl...  \n",
       "65  https://www.amazon.in/Fastrack-reflex-Rectangl...  \n",
       "66  https://www.amazon.in/Fire-Boltt-Phoenix-Bluet...  \n",
       "67  https://www.amazon.in/sspa/click?ie=UTF8&spc=M...  \n",
       "68  https://www.amazon.in/sspa/click?ie=UTF8&spc=M...  \n",
       "\n",
       "[69 rows x 7 columns]"
      ]
     },
     "execution_count": 34,
     "metadata": {},
     "output_type": "execute_result"
    }
   ],
   "source": [
    "import pandas as pd\n",
    "DF2=pd.DataFrame({'BRAND':Brand_Name,'NAME':Name_Product,'PRICE':Price,'RET/EXCH':Return_Exchange,'DELIVERY':Expected_Delivery,'IN/OUT STOCK':Availability,'URL':Product_URL})\n",
    "print('Scraped Details of a Product:')\n",
    "DF2"
   ]
  },
  {
   "cell_type": "markdown",
   "id": "f7d9b9f9",
   "metadata": {},
   "source": [
    "### note Q3 is done after q6"
   ]
  },
  {
   "cell_type": "markdown",
   "id": "df4d77a1",
   "metadata": {},
   "source": [
    "# Q4 smartphone details scrapping"
   ]
  },
  {
   "cell_type": "code",
   "execution_count": 4,
   "id": "17381332",
   "metadata": {},
   "outputs": [],
   "source": [
    "driver=webdriver.Chrome(r\"C:\\Users\\Mauna\\Downloads\\chromedriver_win32\\chromedriver.exe\")"
   ]
  },
  {
   "cell_type": "code",
   "execution_count": 5,
   "id": "5d0fb7a5",
   "metadata": {},
   "outputs": [],
   "source": [
    "web=\"https://www.flipkart.com/search?q=smartphone&otracker=search&otracker1=search&marketplace=FLIPKART&as-show=on&as=off\"\n",
    "driver.get(web)"
   ]
  },
  {
   "cell_type": "code",
   "execution_count": 111,
   "id": "4692968b",
   "metadata": {},
   "outputs": [],
   "source": [
    "Brand_Name=[]\n",
    "Colour=[]\n",
    "Storage_RAM_ROM=[]\n",
    "P_F_Camera=[]\n",
    "sec_camera=[]\n",
    "Display_size_Resolution=[]\n",
    "ProcessorAndCores=[]\n",
    "Battery=[]\n",
    "Price=[]\n",
    "Product_URL=[]\n"
   ]
  },
  {
   "cell_type": "code",
   "execution_count": 112,
   "id": "ff7fc90e",
   "metadata": {},
   "outputs": [
    {
     "name": "stdout",
     "output_type": "stream",
     "text": [
      "24 ['SAMSUNG Galaxy F13 (Nightsky Green, 64 GB)', 'SAMSUNG Galaxy F13 (Waterfall Blue, 128 GB)', 'SAMSUNG Galaxy F13 (Waterfall Blue, 64 GB)', 'SAMSUNG Galaxy F13 (Nightsky Green, 128 GB)', 'APPLE iPhone 13 (Midnight, 128 GB)', 'POCO C50 (Royal Blue, 32 GB)', 'POCO C50 (Country Green, 32 GB)', 'POCO C50 (Royal Blue, 32 GB)', 'realme C33 2023 (Night Sea, 64 GB)', 'realme C33 2023 (Sandy Gold, 64 GB)', 'realme C33 2023 (Aqua Blue, 64 GB)', 'SAMSUNG Galaxy F13 (Sunrise Copper, 64 GB)', 'Infinix HOT 30i (Mirror Black, 64 GB)', 'Infinix HOT 30i (Glacier Blue, 64 GB)', 'APPLE iPhone 13 (Green, 128 GB)', 'POCO C50 (Country Green, 32 GB)', 'SAMSUNG Galaxy F13 (Sunrise Copper, 128 GB)', 'Infinix HOT 30i (Glacier Blue, 128 GB)', 'POCO M4 5G (Cool Blue, 64 GB)', 'REDMI 10 (Pacific Blue, 64 GB)', 'POCO M4 Pro (Yellow, 128 GB)', 'APPLE iPhone 13 (Starlight, 128 GB)', 'POCO M4 5G (Power Black, 128 GB)', 'POCO M4 5G (Power Black, 64 GB)']\n"
     ]
    }
   ],
   "source": [
    "#scraping the Brand_Name \n",
    "BName=driver.find_elements(By.XPATH,\"//div[@class='_4rR01T']\")\n",
    "for i in BName:\n",
    "    if i.text is None :\n",
    "        Brand_Name.append(\"--\") \n",
    "    else:\n",
    "        Brand_Name.append(i.text)\n",
    "print(len(Brand_Name),Brand_Name)"
   ]
  },
  {
   "cell_type": "code",
   "execution_count": 113,
   "id": "418af7b8",
   "metadata": {},
   "outputs": [
    {
     "name": "stdout",
     "output_type": "stream",
     "text": [
      "24 ['(Nightsky', '(Waterfall', '(Waterfall', '(Nightsky', '(Midnight,', 'Blue,', 'Green,', 'Blue,', '(Night', '(Sandy', '(Aqua', '(Sunrise', '(Mirror', '(Glacier', '(Green,', 'Green,', '(Sunrise', '(Glacier', '(Cool', 'Blue,', '(Yellow,', '(Starlight,', '(Power', '(Power']\n"
     ]
    }
   ],
   "source": [
    "#scraping the Colour of the Smartphone\n",
    "ph_color=driver.find_elements(By.XPATH,\"//div[@class='_4rR01T'][1]\")\n",
    "for i in ph_color:\n",
    "    if i.text is None :\n",
    "        Colour.append(\"--\") \n",
    "    else:\n",
    "        Colour.append(i.text.split(' ')[3])\n",
    "print(len(Colour),Colour)"
   ]
  },
  {
   "cell_type": "code",
   "execution_count": 114,
   "id": "a00b1f1b",
   "metadata": {},
   "outputs": [
    {
     "name": "stdout",
     "output_type": "stream",
     "text": [
      "24 ['4 GB RAM | 64 GB ROM | Expandable Upto 1 TB', '4 GB RAM | 128 GB ROM | Expandable Upto 1 TB', '4 GB RAM | 64 GB ROM | Expandable Upto 1 TB', '4 GB RAM | 128 GB ROM | Expandable Upto 1 TB', '128 GB ROM', '2 GB RAM | 32 GB ROM | Expandable Upto 512 GB', '2 GB RAM | 32 GB ROM | Expandable Upto 512 GB', '3 GB RAM | 32 GB ROM | Expandable Upto 512 GB', '4 GB RAM | 64 GB ROM | Expandable Upto 1 TB', '4 GB RAM | 64 GB ROM | Expandable Upto 1 TB', '4 GB RAM | 64 GB ROM | Expandable Upto 1 TB', '4 GB RAM | 64 GB ROM | Expandable Upto 1 TB', '4 GB RAM | 64 GB ROM | Expandable Upto 1 TB', '4 GB RAM | 64 GB ROM | Expandable Upto 1 TB', '128 GB ROM', '3 GB RAM | 32 GB ROM | Expandable Upto 512 GB', '4 GB RAM | 128 GB ROM | Expandable Upto 1 TB', '8 GB RAM | 128 GB ROM | Expandable Upto 1 TB', '4 GB RAM | 64 GB ROM | Expandable Upto 512 GB', '4 GB RAM | 64 GB ROM | Expandable Upto 1 TB', '6 GB RAM | 128 GB ROM | Expandable Upto 1 TB', '128 GB ROM', '6 GB RAM | 128 GB ROM | Expandable Upto 512 GB', '4 GB RAM | 64 GB ROM | Expandable Upto 512 GB']\n"
     ]
    }
   ],
   "source": [
    "#scraping the Storage_RAM_ROM \n",
    "ram=driver.find_elements(By.XPATH,\"//ul[@class='_1xgFaf']//li[1]\")\n",
    "for i in ram:\n",
    "    if i.text is None :\n",
    "        Storage_RAM_ROM.append(\"--\") \n",
    "    else:\n",
    "        Storage_RAM_ROM.append(i.text)\n",
    "print(len(Storage_RAM_ROM),Storage_RAM_ROM)"
   ]
  },
  {
   "cell_type": "code",
   "execution_count": 115,
   "id": "c8103228",
   "metadata": {},
   "outputs": [
    {
     "name": "stdout",
     "output_type": "stream",
     "text": [
      "24 ['50MP + 5MP + 2MP ', '50MP + 5MP + 2MP ', '50MP + 5MP + 2MP ', '50MP + 5MP + 2MP ', '12MP + 12MP ', '8MP Dual Camera ', '8MP Dual Camera ', '8MP Dual Camera ', '50MP + 0.3MP ', '50MP + 0.3MP ', '50MP + 0.3MP ', '50MP + 5MP + 2MP ', '50MP + AI Lens ', '50MP + AI Lens ', '12MP + 12MP ', '8MP Dual Camera ', '50MP + 5MP + 2MP ', '50MP + AI Lens ', '50MP + 2MP ', '50MP + 2MP ', '64MP + 8MP + 2MP ', '12MP + 12MP ', '50MP + 2MP ', '50MP + 2MP ']\n"
     ]
    }
   ],
   "source": [
    "#scraping the P_F_Camera \n",
    "PC=driver.find_elements(By.XPATH,\"//ul[@class='_1xgFaf']//li[3]\")\n",
    "for i in PC:\n",
    "    if i.text is None :\n",
    "        P_F_Camera.append(\"--\") \n",
    "    else:\n",
    "        P_F_Camera.append(i.text.split('|')[0])\n",
    "print(len(P_F_Camera),P_F_Camera)"
   ]
  },
  {
   "cell_type": "code",
   "execution_count": 116,
   "id": "64f8b4cb",
   "metadata": {},
   "outputs": [
    {
     "name": "stdout",
     "output_type": "stream",
     "text": [
      "24 [' 8MP Front Camera', ' 8MP Front Camera', ' 8MP Front Camera', ' 8MP Front Camera', ' 12MP Front Camera', ' 5MP Front Camera', ' 5MP Front Camera', ' 5MP Front Camera', ' 5MP Front Camera', ' 5MP Front Camera', ' 5MP Front Camera', ' 8MP Front Camera', ' 5MP Front Camera', ' 5MP Front Camera', ' 12MP Front Camera', ' 5MP Front Camera', ' 8MP Front Camera', ' 5MP Front Camera', ' 8MP Front Camera', ' 5MP Front Camera', ' 16MP Front Camera', ' 12MP Front Camera', ' 8MP Front Camera', ' 8MP Front Camera']\n"
     ]
    }
   ],
   "source": [
    "#scraping the SEC CAMERA \n",
    "SEC=driver.find_elements(By.XPATH,\"//ul[@class='_1xgFaf']//li[3]\")\n",
    "for i in SEC:\n",
    "    if i.text is None :\n",
    "        sec_camera.append(\"--\") \n",
    "    else:\n",
    "        sec_camera.append(i.text.split('|')[1])\n",
    "print(len(sec_camera),sec_camera)"
   ]
  },
  {
   "cell_type": "code",
   "execution_count": 117,
   "id": "b9d7569f",
   "metadata": {},
   "outputs": [
    {
     "name": "stdout",
     "output_type": "stream",
     "text": [
      "24 ['16.76 cm (6.6 inch) Full HD+ Display', '16.76 cm (6.6 inch) Full HD+ Display', '16.76 cm (6.6 inch) Full HD+ Display', '16.76 cm (6.6 inch) Full HD+ Display', '15.49 cm (6.1 inch) Super Retina XDR Display', '16.56 cm (6.52 inch) HD+ Display', '16.56 cm (6.52 inch) HD+ Display', '16.56 cm (6.52 inch) HD+ Display', '16.51 cm (6.5 inch) HD+ Display', '16.51 cm (6.5 inch) HD+ Display', '16.51 cm (6.5 inch) HD+ Display', '16.76 cm (6.6 inch) Full HD+ Display', '16.76 cm (6.6 inch) HD+ Display', '16.76 cm (6.6 inch) HD+ Display', '15.49 cm (6.1 inch) Super Retina XDR Display', '16.56 cm (6.52 inch) HD+ Display', '16.76 cm (6.6 inch) Full HD+ Display', '16.76 cm (6.6 inch) HD+ Display', '16.71 cm (6.58 inch) Full HD+ Display', '17.02 cm (6.7 inch) HD+ Display', '16.33 cm (6.43 inch) Full HD+ AMOLED Display', '15.49 cm (6.1 inch) Super Retina XDR Display', '16.71 cm (6.58 inch) Full HD+ Display', '16.71 cm (6.58 inch) Full HD+ Display']\n"
     ]
    }
   ],
   "source": [
    "#scraping the DisplaySIZE \n",
    "DS=driver.find_elements(By.XPATH,\"//ul[@class='_1xgFaf']//li[2]\")\n",
    "for i in DS:\n",
    "    if i.text is None :\n",
    "        Display_size_Resolution.append(\"--\") \n",
    "    else:\n",
    "        Display_size_Resolution.append(i.text)\n",
    "print(len(Display_size_Resolution),Display_size_Resolution)"
   ]
  },
  {
   "cell_type": "code",
   "execution_count": 118,
   "id": "cb29d802",
   "metadata": {},
   "outputs": [
    {
     "name": "stdout",
     "output_type": "stream",
     "text": [
      "24 ['Exynos 850 Processor', 'Exynos 850 Processor', 'Exynos 850 Processor', 'Exynos 850 Processor', 'Brand Warranty for 1 Year', 'Mediatek Helio A22 Processor, Upto 2.0 GHz Processor', 'Mediatek Helio A22 Processor, Upto 2.0 GHz Processor', 'Mediatek Helio A22 Processor, Upto 2.0 GHz Processor', 'Unisoc T612 Processor', 'Unisoc T612 Processor', 'Unisoc T612 Processor', 'Exynos 850 Processor', 'G37 Processor', 'G37 Processor', 'Brand Warranty for 1 Year', 'Mediatek Helio A22 Processor, Upto 2.0 GHz Processor', 'Exynos 850 Processor', 'G37 Processor', 'Mediatek Dimensity 700 Processor', 'Qualcomm Snapdragon 680 Processor', 'Mediatek Helio G96 Processor', 'Brand Warranty for 1 Year', 'Mediatek Dimensity 700 Processor', 'Mediatek Dimensity 700 Processor']\n"
     ]
    }
   ],
   "source": [
    "#scraping the ProcessorAndCores \n",
    "P=driver.find_elements(By.XPATH,\"//ul[@class='_1xgFaf']//li[5]\")\n",
    "for i in P:\n",
    "    if i.text is None :\n",
    "        ProcessorAndCores.append(\"--\") \n",
    "    else:\n",
    "        ProcessorAndCores.append(i.text)\n",
    "print(len(ProcessorAndCores),ProcessorAndCores)"
   ]
  },
  {
   "cell_type": "code",
   "execution_count": 119,
   "id": "abbd8632",
   "metadata": {},
   "outputs": [
    {
     "name": "stdout",
     "output_type": "stream",
     "text": [
      "24 ['6000 mAh Lithium Ion Battery', '6000 mAh Lithium Ion Battery', '6000 mAh Lithium Ion Battery', '6000 mAh Lithium Ion Battery', 'A15 Bionic Chip Processor', '5000 mAh Lithium Polymer Battery', '5000 mAh Lithium Polymer Battery', '5000 mAh Lithium Polymer Battery', '5000 mAh Lithium Ion Battery', '5000 mAh Lithium Ion Battery', '5000 mAh Lithium Ion Battery', '6000 mAh Lithium Ion Battery', '5000 mAh Battery', '5000 mAh Battery', 'A15 Bionic Chip Processor', '5000 mAh Lithium Polymer Battery', '6000 mAh Lithium Ion Battery', '5000 mAh Battery', '5000 mAh Lithium Ion Polymer Battery', '6000 mAh Lithium Polymer Battery', '5000 mAh Lithium-ion Polymer Battery', 'A15 Bionic Chip Processor', '5000 mAh Lithium Ion Polymer Battery', '5000 mAh Lithium Ion Polymer Battery']\n"
     ]
    }
   ],
   "source": [
    "#scraping the Battery \n",
    "B=driver.find_elements(By.XPATH,\"//ul[@class='_1xgFaf']//li[4]\")\n",
    "for i in B:\n",
    "    if i.text is None :\n",
    "        Battery.append(\"--\") \n",
    "    else:\n",
    "        Battery.append(i.text)\n",
    "print(len(Battery),Battery)"
   ]
  },
  {
   "cell_type": "code",
   "execution_count": 120,
   "id": "9cb77ee1",
   "metadata": {},
   "outputs": [
    {
     "name": "stdout",
     "output_type": "stream",
     "text": [
      "24 ['₹10,999', '₹11,999', '₹10,999', '₹11,999', '₹58,999', '₹5,749', '₹5,749', '₹6,549', '₹9,999', '₹9,999', '₹9,999', '₹10,999', '₹8,399', '₹8,399', '₹58,999', '₹6,549', '₹11,999', '₹9,499', '₹11,999', '₹9,999', '₹12,999', '₹58,999', '₹13,999', '₹11,999']\n"
     ]
    }
   ],
   "source": [
    "#scraping the Price \n",
    "price=driver.find_elements(By.XPATH,\"//div[@class='_30jeq3 _1_WHN1']\")\n",
    "for i in price:\n",
    "    if i.text is None :\n",
    "        Price.append(\"--\") \n",
    "    else:\n",
    "        Price.append(i.text)\n",
    "print(len(Price),Price)"
   ]
  },
  {
   "cell_type": "code",
   "execution_count": 121,
   "id": "9e1e6d41",
   "metadata": {},
   "outputs": [
    {
     "name": "stdout",
     "output_type": "stream",
     "text": [
      "24 24 24 24 24 24 24 24 24\n"
     ]
    }
   ],
   "source": [
    "print(len(Brand_Name),len(Colour),len(Storage_RAM_ROM),len(P_F_Camera),len(sec_camera),len(Display_size_Resolution),len(ProcessorAndCores),len(Battery),len(Price))"
   ]
  },
  {
   "cell_type": "code",
   "execution_count": 122,
   "id": "58052bee",
   "metadata": {},
   "outputs": [
    {
     "data": {
      "text/html": [
       "<div>\n",
       "<style scoped>\n",
       "    .dataframe tbody tr th:only-of-type {\n",
       "        vertical-align: middle;\n",
       "    }\n",
       "\n",
       "    .dataframe tbody tr th {\n",
       "        vertical-align: top;\n",
       "    }\n",
       "\n",
       "    .dataframe thead th {\n",
       "        text-align: right;\n",
       "    }\n",
       "</style>\n",
       "<table border=\"1\" class=\"dataframe\">\n",
       "  <thead>\n",
       "    <tr style=\"text-align: right;\">\n",
       "      <th></th>\n",
       "      <th>Brand</th>\n",
       "      <th>phone_color</th>\n",
       "      <th>storage</th>\n",
       "      <th>primary_camera</th>\n",
       "      <th>Seccamera</th>\n",
       "      <th>Display</th>\n",
       "      <th>Processor</th>\n",
       "      <th>Battery</th>\n",
       "      <th>PRICE</th>\n",
       "    </tr>\n",
       "  </thead>\n",
       "  <tbody>\n",
       "    <tr>\n",
       "      <th>0</th>\n",
       "      <td>SAMSUNG Galaxy F13 (Nightsky Green, 64 GB)</td>\n",
       "      <td>(Nightsky</td>\n",
       "      <td>4 GB RAM | 64 GB ROM | Expandable Upto 1 TB</td>\n",
       "      <td>50MP + 5MP + 2MP</td>\n",
       "      <td>8MP Front Camera</td>\n",
       "      <td>16.76 cm (6.6 inch) Full HD+ Display</td>\n",
       "      <td>Exynos 850 Processor</td>\n",
       "      <td>6000 mAh Lithium Ion Battery</td>\n",
       "      <td>₹10,999</td>\n",
       "    </tr>\n",
       "    <tr>\n",
       "      <th>1</th>\n",
       "      <td>SAMSUNG Galaxy F13 (Waterfall Blue, 128 GB)</td>\n",
       "      <td>(Waterfall</td>\n",
       "      <td>4 GB RAM | 128 GB ROM | Expandable Upto 1 TB</td>\n",
       "      <td>50MP + 5MP + 2MP</td>\n",
       "      <td>8MP Front Camera</td>\n",
       "      <td>16.76 cm (6.6 inch) Full HD+ Display</td>\n",
       "      <td>Exynos 850 Processor</td>\n",
       "      <td>6000 mAh Lithium Ion Battery</td>\n",
       "      <td>₹11,999</td>\n",
       "    </tr>\n",
       "    <tr>\n",
       "      <th>2</th>\n",
       "      <td>SAMSUNG Galaxy F13 (Waterfall Blue, 64 GB)</td>\n",
       "      <td>(Waterfall</td>\n",
       "      <td>4 GB RAM | 64 GB ROM | Expandable Upto 1 TB</td>\n",
       "      <td>50MP + 5MP + 2MP</td>\n",
       "      <td>8MP Front Camera</td>\n",
       "      <td>16.76 cm (6.6 inch) Full HD+ Display</td>\n",
       "      <td>Exynos 850 Processor</td>\n",
       "      <td>6000 mAh Lithium Ion Battery</td>\n",
       "      <td>₹10,999</td>\n",
       "    </tr>\n",
       "    <tr>\n",
       "      <th>3</th>\n",
       "      <td>SAMSUNG Galaxy F13 (Nightsky Green, 128 GB)</td>\n",
       "      <td>(Nightsky</td>\n",
       "      <td>4 GB RAM | 128 GB ROM | Expandable Upto 1 TB</td>\n",
       "      <td>50MP + 5MP + 2MP</td>\n",
       "      <td>8MP Front Camera</td>\n",
       "      <td>16.76 cm (6.6 inch) Full HD+ Display</td>\n",
       "      <td>Exynos 850 Processor</td>\n",
       "      <td>6000 mAh Lithium Ion Battery</td>\n",
       "      <td>₹11,999</td>\n",
       "    </tr>\n",
       "    <tr>\n",
       "      <th>4</th>\n",
       "      <td>APPLE iPhone 13 (Midnight, 128 GB)</td>\n",
       "      <td>(Midnight,</td>\n",
       "      <td>128 GB ROM</td>\n",
       "      <td>12MP + 12MP</td>\n",
       "      <td>12MP Front Camera</td>\n",
       "      <td>15.49 cm (6.1 inch) Super Retina XDR Display</td>\n",
       "      <td>Brand Warranty for 1 Year</td>\n",
       "      <td>A15 Bionic Chip Processor</td>\n",
       "      <td>₹58,999</td>\n",
       "    </tr>\n",
       "    <tr>\n",
       "      <th>5</th>\n",
       "      <td>POCO C50 (Royal Blue, 32 GB)</td>\n",
       "      <td>Blue,</td>\n",
       "      <td>2 GB RAM | 32 GB ROM | Expandable Upto 512 GB</td>\n",
       "      <td>8MP Dual Camera</td>\n",
       "      <td>5MP Front Camera</td>\n",
       "      <td>16.56 cm (6.52 inch) HD+ Display</td>\n",
       "      <td>Mediatek Helio A22 Processor, Upto 2.0 GHz Pro...</td>\n",
       "      <td>5000 mAh Lithium Polymer Battery</td>\n",
       "      <td>₹5,749</td>\n",
       "    </tr>\n",
       "    <tr>\n",
       "      <th>6</th>\n",
       "      <td>POCO C50 (Country Green, 32 GB)</td>\n",
       "      <td>Green,</td>\n",
       "      <td>2 GB RAM | 32 GB ROM | Expandable Upto 512 GB</td>\n",
       "      <td>8MP Dual Camera</td>\n",
       "      <td>5MP Front Camera</td>\n",
       "      <td>16.56 cm (6.52 inch) HD+ Display</td>\n",
       "      <td>Mediatek Helio A22 Processor, Upto 2.0 GHz Pro...</td>\n",
       "      <td>5000 mAh Lithium Polymer Battery</td>\n",
       "      <td>₹5,749</td>\n",
       "    </tr>\n",
       "    <tr>\n",
       "      <th>7</th>\n",
       "      <td>POCO C50 (Royal Blue, 32 GB)</td>\n",
       "      <td>Blue,</td>\n",
       "      <td>3 GB RAM | 32 GB ROM | Expandable Upto 512 GB</td>\n",
       "      <td>8MP Dual Camera</td>\n",
       "      <td>5MP Front Camera</td>\n",
       "      <td>16.56 cm (6.52 inch) HD+ Display</td>\n",
       "      <td>Mediatek Helio A22 Processor, Upto 2.0 GHz Pro...</td>\n",
       "      <td>5000 mAh Lithium Polymer Battery</td>\n",
       "      <td>₹6,549</td>\n",
       "    </tr>\n",
       "    <tr>\n",
       "      <th>8</th>\n",
       "      <td>realme C33 2023 (Night Sea, 64 GB)</td>\n",
       "      <td>(Night</td>\n",
       "      <td>4 GB RAM | 64 GB ROM | Expandable Upto 1 TB</td>\n",
       "      <td>50MP + 0.3MP</td>\n",
       "      <td>5MP Front Camera</td>\n",
       "      <td>16.51 cm (6.5 inch) HD+ Display</td>\n",
       "      <td>Unisoc T612 Processor</td>\n",
       "      <td>5000 mAh Lithium Ion Battery</td>\n",
       "      <td>₹9,999</td>\n",
       "    </tr>\n",
       "    <tr>\n",
       "      <th>9</th>\n",
       "      <td>realme C33 2023 (Sandy Gold, 64 GB)</td>\n",
       "      <td>(Sandy</td>\n",
       "      <td>4 GB RAM | 64 GB ROM | Expandable Upto 1 TB</td>\n",
       "      <td>50MP + 0.3MP</td>\n",
       "      <td>5MP Front Camera</td>\n",
       "      <td>16.51 cm (6.5 inch) HD+ Display</td>\n",
       "      <td>Unisoc T612 Processor</td>\n",
       "      <td>5000 mAh Lithium Ion Battery</td>\n",
       "      <td>₹9,999</td>\n",
       "    </tr>\n",
       "    <tr>\n",
       "      <th>10</th>\n",
       "      <td>realme C33 2023 (Aqua Blue, 64 GB)</td>\n",
       "      <td>(Aqua</td>\n",
       "      <td>4 GB RAM | 64 GB ROM | Expandable Upto 1 TB</td>\n",
       "      <td>50MP + 0.3MP</td>\n",
       "      <td>5MP Front Camera</td>\n",
       "      <td>16.51 cm (6.5 inch) HD+ Display</td>\n",
       "      <td>Unisoc T612 Processor</td>\n",
       "      <td>5000 mAh Lithium Ion Battery</td>\n",
       "      <td>₹9,999</td>\n",
       "    </tr>\n",
       "    <tr>\n",
       "      <th>11</th>\n",
       "      <td>SAMSUNG Galaxy F13 (Sunrise Copper, 64 GB)</td>\n",
       "      <td>(Sunrise</td>\n",
       "      <td>4 GB RAM | 64 GB ROM | Expandable Upto 1 TB</td>\n",
       "      <td>50MP + 5MP + 2MP</td>\n",
       "      <td>8MP Front Camera</td>\n",
       "      <td>16.76 cm (6.6 inch) Full HD+ Display</td>\n",
       "      <td>Exynos 850 Processor</td>\n",
       "      <td>6000 mAh Lithium Ion Battery</td>\n",
       "      <td>₹10,999</td>\n",
       "    </tr>\n",
       "    <tr>\n",
       "      <th>12</th>\n",
       "      <td>Infinix HOT 30i (Mirror Black, 64 GB)</td>\n",
       "      <td>(Mirror</td>\n",
       "      <td>4 GB RAM | 64 GB ROM | Expandable Upto 1 TB</td>\n",
       "      <td>50MP + AI Lens</td>\n",
       "      <td>5MP Front Camera</td>\n",
       "      <td>16.76 cm (6.6 inch) HD+ Display</td>\n",
       "      <td>G37 Processor</td>\n",
       "      <td>5000 mAh Battery</td>\n",
       "      <td>₹8,399</td>\n",
       "    </tr>\n",
       "    <tr>\n",
       "      <th>13</th>\n",
       "      <td>Infinix HOT 30i (Glacier Blue, 64 GB)</td>\n",
       "      <td>(Glacier</td>\n",
       "      <td>4 GB RAM | 64 GB ROM | Expandable Upto 1 TB</td>\n",
       "      <td>50MP + AI Lens</td>\n",
       "      <td>5MP Front Camera</td>\n",
       "      <td>16.76 cm (6.6 inch) HD+ Display</td>\n",
       "      <td>G37 Processor</td>\n",
       "      <td>5000 mAh Battery</td>\n",
       "      <td>₹8,399</td>\n",
       "    </tr>\n",
       "    <tr>\n",
       "      <th>14</th>\n",
       "      <td>APPLE iPhone 13 (Green, 128 GB)</td>\n",
       "      <td>(Green,</td>\n",
       "      <td>128 GB ROM</td>\n",
       "      <td>12MP + 12MP</td>\n",
       "      <td>12MP Front Camera</td>\n",
       "      <td>15.49 cm (6.1 inch) Super Retina XDR Display</td>\n",
       "      <td>Brand Warranty for 1 Year</td>\n",
       "      <td>A15 Bionic Chip Processor</td>\n",
       "      <td>₹58,999</td>\n",
       "    </tr>\n",
       "    <tr>\n",
       "      <th>15</th>\n",
       "      <td>POCO C50 (Country Green, 32 GB)</td>\n",
       "      <td>Green,</td>\n",
       "      <td>3 GB RAM | 32 GB ROM | Expandable Upto 512 GB</td>\n",
       "      <td>8MP Dual Camera</td>\n",
       "      <td>5MP Front Camera</td>\n",
       "      <td>16.56 cm (6.52 inch) HD+ Display</td>\n",
       "      <td>Mediatek Helio A22 Processor, Upto 2.0 GHz Pro...</td>\n",
       "      <td>5000 mAh Lithium Polymer Battery</td>\n",
       "      <td>₹6,549</td>\n",
       "    </tr>\n",
       "    <tr>\n",
       "      <th>16</th>\n",
       "      <td>SAMSUNG Galaxy F13 (Sunrise Copper, 128 GB)</td>\n",
       "      <td>(Sunrise</td>\n",
       "      <td>4 GB RAM | 128 GB ROM | Expandable Upto 1 TB</td>\n",
       "      <td>50MP + 5MP + 2MP</td>\n",
       "      <td>8MP Front Camera</td>\n",
       "      <td>16.76 cm (6.6 inch) Full HD+ Display</td>\n",
       "      <td>Exynos 850 Processor</td>\n",
       "      <td>6000 mAh Lithium Ion Battery</td>\n",
       "      <td>₹11,999</td>\n",
       "    </tr>\n",
       "    <tr>\n",
       "      <th>17</th>\n",
       "      <td>Infinix HOT 30i (Glacier Blue, 128 GB)</td>\n",
       "      <td>(Glacier</td>\n",
       "      <td>8 GB RAM | 128 GB ROM | Expandable Upto 1 TB</td>\n",
       "      <td>50MP + AI Lens</td>\n",
       "      <td>5MP Front Camera</td>\n",
       "      <td>16.76 cm (6.6 inch) HD+ Display</td>\n",
       "      <td>G37 Processor</td>\n",
       "      <td>5000 mAh Battery</td>\n",
       "      <td>₹9,499</td>\n",
       "    </tr>\n",
       "    <tr>\n",
       "      <th>18</th>\n",
       "      <td>POCO M4 5G (Cool Blue, 64 GB)</td>\n",
       "      <td>(Cool</td>\n",
       "      <td>4 GB RAM | 64 GB ROM | Expandable Upto 512 GB</td>\n",
       "      <td>50MP + 2MP</td>\n",
       "      <td>8MP Front Camera</td>\n",
       "      <td>16.71 cm (6.58 inch) Full HD+ Display</td>\n",
       "      <td>Mediatek Dimensity 700 Processor</td>\n",
       "      <td>5000 mAh Lithium Ion Polymer Battery</td>\n",
       "      <td>₹11,999</td>\n",
       "    </tr>\n",
       "    <tr>\n",
       "      <th>19</th>\n",
       "      <td>REDMI 10 (Pacific Blue, 64 GB)</td>\n",
       "      <td>Blue,</td>\n",
       "      <td>4 GB RAM | 64 GB ROM | Expandable Upto 1 TB</td>\n",
       "      <td>50MP + 2MP</td>\n",
       "      <td>5MP Front Camera</td>\n",
       "      <td>17.02 cm (6.7 inch) HD+ Display</td>\n",
       "      <td>Qualcomm Snapdragon 680 Processor</td>\n",
       "      <td>6000 mAh Lithium Polymer Battery</td>\n",
       "      <td>₹9,999</td>\n",
       "    </tr>\n",
       "    <tr>\n",
       "      <th>20</th>\n",
       "      <td>POCO M4 Pro (Yellow, 128 GB)</td>\n",
       "      <td>(Yellow,</td>\n",
       "      <td>6 GB RAM | 128 GB ROM | Expandable Upto 1 TB</td>\n",
       "      <td>64MP + 8MP + 2MP</td>\n",
       "      <td>16MP Front Camera</td>\n",
       "      <td>16.33 cm (6.43 inch) Full HD+ AMOLED Display</td>\n",
       "      <td>Mediatek Helio G96 Processor</td>\n",
       "      <td>5000 mAh Lithium-ion Polymer Battery</td>\n",
       "      <td>₹12,999</td>\n",
       "    </tr>\n",
       "    <tr>\n",
       "      <th>21</th>\n",
       "      <td>APPLE iPhone 13 (Starlight, 128 GB)</td>\n",
       "      <td>(Starlight,</td>\n",
       "      <td>128 GB ROM</td>\n",
       "      <td>12MP + 12MP</td>\n",
       "      <td>12MP Front Camera</td>\n",
       "      <td>15.49 cm (6.1 inch) Super Retina XDR Display</td>\n",
       "      <td>Brand Warranty for 1 Year</td>\n",
       "      <td>A15 Bionic Chip Processor</td>\n",
       "      <td>₹58,999</td>\n",
       "    </tr>\n",
       "    <tr>\n",
       "      <th>22</th>\n",
       "      <td>POCO M4 5G (Power Black, 128 GB)</td>\n",
       "      <td>(Power</td>\n",
       "      <td>6 GB RAM | 128 GB ROM | Expandable Upto 512 GB</td>\n",
       "      <td>50MP + 2MP</td>\n",
       "      <td>8MP Front Camera</td>\n",
       "      <td>16.71 cm (6.58 inch) Full HD+ Display</td>\n",
       "      <td>Mediatek Dimensity 700 Processor</td>\n",
       "      <td>5000 mAh Lithium Ion Polymer Battery</td>\n",
       "      <td>₹13,999</td>\n",
       "    </tr>\n",
       "    <tr>\n",
       "      <th>23</th>\n",
       "      <td>POCO M4 5G (Power Black, 64 GB)</td>\n",
       "      <td>(Power</td>\n",
       "      <td>4 GB RAM | 64 GB ROM | Expandable Upto 512 GB</td>\n",
       "      <td>50MP + 2MP</td>\n",
       "      <td>8MP Front Camera</td>\n",
       "      <td>16.71 cm (6.58 inch) Full HD+ Display</td>\n",
       "      <td>Mediatek Dimensity 700 Processor</td>\n",
       "      <td>5000 mAh Lithium Ion Polymer Battery</td>\n",
       "      <td>₹11,999</td>\n",
       "    </tr>\n",
       "  </tbody>\n",
       "</table>\n",
       "</div>"
      ],
      "text/plain": [
       "                                          Brand  phone_color  \\\n",
       "0    SAMSUNG Galaxy F13 (Nightsky Green, 64 GB)    (Nightsky   \n",
       "1   SAMSUNG Galaxy F13 (Waterfall Blue, 128 GB)   (Waterfall   \n",
       "2    SAMSUNG Galaxy F13 (Waterfall Blue, 64 GB)   (Waterfall   \n",
       "3   SAMSUNG Galaxy F13 (Nightsky Green, 128 GB)    (Nightsky   \n",
       "4            APPLE iPhone 13 (Midnight, 128 GB)   (Midnight,   \n",
       "5                  POCO C50 (Royal Blue, 32 GB)        Blue,   \n",
       "6               POCO C50 (Country Green, 32 GB)       Green,   \n",
       "7                  POCO C50 (Royal Blue, 32 GB)        Blue,   \n",
       "8            realme C33 2023 (Night Sea, 64 GB)       (Night   \n",
       "9           realme C33 2023 (Sandy Gold, 64 GB)       (Sandy   \n",
       "10           realme C33 2023 (Aqua Blue, 64 GB)        (Aqua   \n",
       "11   SAMSUNG Galaxy F13 (Sunrise Copper, 64 GB)     (Sunrise   \n",
       "12        Infinix HOT 30i (Mirror Black, 64 GB)      (Mirror   \n",
       "13        Infinix HOT 30i (Glacier Blue, 64 GB)     (Glacier   \n",
       "14              APPLE iPhone 13 (Green, 128 GB)      (Green,   \n",
       "15              POCO C50 (Country Green, 32 GB)       Green,   \n",
       "16  SAMSUNG Galaxy F13 (Sunrise Copper, 128 GB)     (Sunrise   \n",
       "17       Infinix HOT 30i (Glacier Blue, 128 GB)     (Glacier   \n",
       "18                POCO M4 5G (Cool Blue, 64 GB)        (Cool   \n",
       "19               REDMI 10 (Pacific Blue, 64 GB)        Blue,   \n",
       "20                 POCO M4 Pro (Yellow, 128 GB)     (Yellow,   \n",
       "21          APPLE iPhone 13 (Starlight, 128 GB)  (Starlight,   \n",
       "22             POCO M4 5G (Power Black, 128 GB)       (Power   \n",
       "23              POCO M4 5G (Power Black, 64 GB)       (Power   \n",
       "\n",
       "                                           storage     primary_camera  \\\n",
       "0      4 GB RAM | 64 GB ROM | Expandable Upto 1 TB  50MP + 5MP + 2MP    \n",
       "1     4 GB RAM | 128 GB ROM | Expandable Upto 1 TB  50MP + 5MP + 2MP    \n",
       "2      4 GB RAM | 64 GB ROM | Expandable Upto 1 TB  50MP + 5MP + 2MP    \n",
       "3     4 GB RAM | 128 GB ROM | Expandable Upto 1 TB  50MP + 5MP + 2MP    \n",
       "4                                       128 GB ROM       12MP + 12MP    \n",
       "5    2 GB RAM | 32 GB ROM | Expandable Upto 512 GB   8MP Dual Camera    \n",
       "6    2 GB RAM | 32 GB ROM | Expandable Upto 512 GB   8MP Dual Camera    \n",
       "7    3 GB RAM | 32 GB ROM | Expandable Upto 512 GB   8MP Dual Camera    \n",
       "8      4 GB RAM | 64 GB ROM | Expandable Upto 1 TB      50MP + 0.3MP    \n",
       "9      4 GB RAM | 64 GB ROM | Expandable Upto 1 TB      50MP + 0.3MP    \n",
       "10     4 GB RAM | 64 GB ROM | Expandable Upto 1 TB      50MP + 0.3MP    \n",
       "11     4 GB RAM | 64 GB ROM | Expandable Upto 1 TB  50MP + 5MP + 2MP    \n",
       "12     4 GB RAM | 64 GB ROM | Expandable Upto 1 TB    50MP + AI Lens    \n",
       "13     4 GB RAM | 64 GB ROM | Expandable Upto 1 TB    50MP + AI Lens    \n",
       "14                                      128 GB ROM       12MP + 12MP    \n",
       "15   3 GB RAM | 32 GB ROM | Expandable Upto 512 GB   8MP Dual Camera    \n",
       "16    4 GB RAM | 128 GB ROM | Expandable Upto 1 TB  50MP + 5MP + 2MP    \n",
       "17    8 GB RAM | 128 GB ROM | Expandable Upto 1 TB    50MP + AI Lens    \n",
       "18   4 GB RAM | 64 GB ROM | Expandable Upto 512 GB        50MP + 2MP    \n",
       "19     4 GB RAM | 64 GB ROM | Expandable Upto 1 TB        50MP + 2MP    \n",
       "20    6 GB RAM | 128 GB ROM | Expandable Upto 1 TB  64MP + 8MP + 2MP    \n",
       "21                                      128 GB ROM       12MP + 12MP    \n",
       "22  6 GB RAM | 128 GB ROM | Expandable Upto 512 GB        50MP + 2MP    \n",
       "23   4 GB RAM | 64 GB ROM | Expandable Upto 512 GB        50MP + 2MP    \n",
       "\n",
       "             Seccamera                                       Display  \\\n",
       "0     8MP Front Camera          16.76 cm (6.6 inch) Full HD+ Display   \n",
       "1     8MP Front Camera          16.76 cm (6.6 inch) Full HD+ Display   \n",
       "2     8MP Front Camera          16.76 cm (6.6 inch) Full HD+ Display   \n",
       "3     8MP Front Camera          16.76 cm (6.6 inch) Full HD+ Display   \n",
       "4    12MP Front Camera  15.49 cm (6.1 inch) Super Retina XDR Display   \n",
       "5     5MP Front Camera              16.56 cm (6.52 inch) HD+ Display   \n",
       "6     5MP Front Camera              16.56 cm (6.52 inch) HD+ Display   \n",
       "7     5MP Front Camera              16.56 cm (6.52 inch) HD+ Display   \n",
       "8     5MP Front Camera               16.51 cm (6.5 inch) HD+ Display   \n",
       "9     5MP Front Camera               16.51 cm (6.5 inch) HD+ Display   \n",
       "10    5MP Front Camera               16.51 cm (6.5 inch) HD+ Display   \n",
       "11    8MP Front Camera          16.76 cm (6.6 inch) Full HD+ Display   \n",
       "12    5MP Front Camera               16.76 cm (6.6 inch) HD+ Display   \n",
       "13    5MP Front Camera               16.76 cm (6.6 inch) HD+ Display   \n",
       "14   12MP Front Camera  15.49 cm (6.1 inch) Super Retina XDR Display   \n",
       "15    5MP Front Camera              16.56 cm (6.52 inch) HD+ Display   \n",
       "16    8MP Front Camera          16.76 cm (6.6 inch) Full HD+ Display   \n",
       "17    5MP Front Camera               16.76 cm (6.6 inch) HD+ Display   \n",
       "18    8MP Front Camera         16.71 cm (6.58 inch) Full HD+ Display   \n",
       "19    5MP Front Camera               17.02 cm (6.7 inch) HD+ Display   \n",
       "20   16MP Front Camera  16.33 cm (6.43 inch) Full HD+ AMOLED Display   \n",
       "21   12MP Front Camera  15.49 cm (6.1 inch) Super Retina XDR Display   \n",
       "22    8MP Front Camera         16.71 cm (6.58 inch) Full HD+ Display   \n",
       "23    8MP Front Camera         16.71 cm (6.58 inch) Full HD+ Display   \n",
       "\n",
       "                                            Processor  \\\n",
       "0                                Exynos 850 Processor   \n",
       "1                                Exynos 850 Processor   \n",
       "2                                Exynos 850 Processor   \n",
       "3                                Exynos 850 Processor   \n",
       "4                           Brand Warranty for 1 Year   \n",
       "5   Mediatek Helio A22 Processor, Upto 2.0 GHz Pro...   \n",
       "6   Mediatek Helio A22 Processor, Upto 2.0 GHz Pro...   \n",
       "7   Mediatek Helio A22 Processor, Upto 2.0 GHz Pro...   \n",
       "8                               Unisoc T612 Processor   \n",
       "9                               Unisoc T612 Processor   \n",
       "10                              Unisoc T612 Processor   \n",
       "11                               Exynos 850 Processor   \n",
       "12                                      G37 Processor   \n",
       "13                                      G37 Processor   \n",
       "14                          Brand Warranty for 1 Year   \n",
       "15  Mediatek Helio A22 Processor, Upto 2.0 GHz Pro...   \n",
       "16                               Exynos 850 Processor   \n",
       "17                                      G37 Processor   \n",
       "18                   Mediatek Dimensity 700 Processor   \n",
       "19                  Qualcomm Snapdragon 680 Processor   \n",
       "20                       Mediatek Helio G96 Processor   \n",
       "21                          Brand Warranty for 1 Year   \n",
       "22                   Mediatek Dimensity 700 Processor   \n",
       "23                   Mediatek Dimensity 700 Processor   \n",
       "\n",
       "                                 Battery    PRICE  \n",
       "0           6000 mAh Lithium Ion Battery  ₹10,999  \n",
       "1           6000 mAh Lithium Ion Battery  ₹11,999  \n",
       "2           6000 mAh Lithium Ion Battery  ₹10,999  \n",
       "3           6000 mAh Lithium Ion Battery  ₹11,999  \n",
       "4              A15 Bionic Chip Processor  ₹58,999  \n",
       "5       5000 mAh Lithium Polymer Battery   ₹5,749  \n",
       "6       5000 mAh Lithium Polymer Battery   ₹5,749  \n",
       "7       5000 mAh Lithium Polymer Battery   ₹6,549  \n",
       "8           5000 mAh Lithium Ion Battery   ₹9,999  \n",
       "9           5000 mAh Lithium Ion Battery   ₹9,999  \n",
       "10          5000 mAh Lithium Ion Battery   ₹9,999  \n",
       "11          6000 mAh Lithium Ion Battery  ₹10,999  \n",
       "12                      5000 mAh Battery   ₹8,399  \n",
       "13                      5000 mAh Battery   ₹8,399  \n",
       "14             A15 Bionic Chip Processor  ₹58,999  \n",
       "15      5000 mAh Lithium Polymer Battery   ₹6,549  \n",
       "16          6000 mAh Lithium Ion Battery  ₹11,999  \n",
       "17                      5000 mAh Battery   ₹9,499  \n",
       "18  5000 mAh Lithium Ion Polymer Battery  ₹11,999  \n",
       "19      6000 mAh Lithium Polymer Battery   ₹9,999  \n",
       "20  5000 mAh Lithium-ion Polymer Battery  ₹12,999  \n",
       "21             A15 Bionic Chip Processor  ₹58,999  \n",
       "22  5000 mAh Lithium Ion Polymer Battery  ₹13,999  \n",
       "23  5000 mAh Lithium Ion Polymer Battery  ₹11,999  "
      ]
     },
     "execution_count": 122,
     "metadata": {},
     "output_type": "execute_result"
    }
   ],
   "source": [
    "DATAFRAME=pd.DataFrame({'Brand':Brand_Name,'phone_color':Colour,'storage':Storage_RAM_ROM,'primary_camera':P_F_Camera,'Seccamera':sec_camera,'Display':Display_size_Resolution,'Processor':ProcessorAndCores,'Battery':Battery,'PRICE':Price})\n",
    "DATAFRAME"
   ]
  },
  {
   "cell_type": "code",
   "execution_count": 124,
   "id": "1660f18b",
   "metadata": {},
   "outputs": [],
   "source": [
    "DATAFRAME.to_csv('lucky.csv')"
   ]
  },
  {
   "cell_type": "code",
   "execution_count": 126,
   "id": "6b72f030",
   "metadata": {},
   "outputs": [
    {
     "data": {
      "text/html": [
       "<div>\n",
       "<style scoped>\n",
       "    .dataframe tbody tr th:only-of-type {\n",
       "        vertical-align: middle;\n",
       "    }\n",
       "\n",
       "    .dataframe tbody tr th {\n",
       "        vertical-align: top;\n",
       "    }\n",
       "\n",
       "    .dataframe thead th {\n",
       "        text-align: right;\n",
       "    }\n",
       "</style>\n",
       "<table border=\"1\" class=\"dataframe\">\n",
       "  <thead>\n",
       "    <tr style=\"text-align: right;\">\n",
       "      <th></th>\n",
       "      <th>Unnamed: 0</th>\n",
       "      <th>Brand</th>\n",
       "      <th>phone_color</th>\n",
       "      <th>storage</th>\n",
       "      <th>primary_camera</th>\n",
       "      <th>Seccamera</th>\n",
       "      <th>Display</th>\n",
       "      <th>Processor</th>\n",
       "      <th>Battery</th>\n",
       "      <th>PRICE</th>\n",
       "    </tr>\n",
       "  </thead>\n",
       "  <tbody>\n",
       "    <tr>\n",
       "      <th>0</th>\n",
       "      <td>0</td>\n",
       "      <td>SAMSUNG Galaxy F13 (Nightsky Green, 64 GB)</td>\n",
       "      <td>(Nightsky</td>\n",
       "      <td>4 GB RAM | 64 GB ROM | Expandable Upto 1 TB</td>\n",
       "      <td>50MP + 5MP + 2MP</td>\n",
       "      <td>8MP Front Camera</td>\n",
       "      <td>16.76 cm (6.6 inch) Full HD+ Display</td>\n",
       "      <td>Exynos 850 Processor</td>\n",
       "      <td>6000 mAh Lithium Ion Battery</td>\n",
       "      <td>₹10,999</td>\n",
       "    </tr>\n",
       "    <tr>\n",
       "      <th>1</th>\n",
       "      <td>1</td>\n",
       "      <td>SAMSUNG Galaxy F13 (Waterfall Blue, 128 GB)</td>\n",
       "      <td>(Waterfall</td>\n",
       "      <td>4 GB RAM | 128 GB ROM | Expandable Upto 1 TB</td>\n",
       "      <td>50MP + 5MP + 2MP</td>\n",
       "      <td>8MP Front Camera</td>\n",
       "      <td>16.76 cm (6.6 inch) Full HD+ Display</td>\n",
       "      <td>Exynos 850 Processor</td>\n",
       "      <td>6000 mAh Lithium Ion Battery</td>\n",
       "      <td>₹11,999</td>\n",
       "    </tr>\n",
       "    <tr>\n",
       "      <th>2</th>\n",
       "      <td>2</td>\n",
       "      <td>SAMSUNG Galaxy F13 (Waterfall Blue, 64 GB)</td>\n",
       "      <td>(Waterfall</td>\n",
       "      <td>4 GB RAM | 64 GB ROM | Expandable Upto 1 TB</td>\n",
       "      <td>50MP + 5MP + 2MP</td>\n",
       "      <td>8MP Front Camera</td>\n",
       "      <td>16.76 cm (6.6 inch) Full HD+ Display</td>\n",
       "      <td>Exynos 850 Processor</td>\n",
       "      <td>6000 mAh Lithium Ion Battery</td>\n",
       "      <td>₹10,999</td>\n",
       "    </tr>\n",
       "    <tr>\n",
       "      <th>3</th>\n",
       "      <td>3</td>\n",
       "      <td>SAMSUNG Galaxy F13 (Nightsky Green, 128 GB)</td>\n",
       "      <td>(Nightsky</td>\n",
       "      <td>4 GB RAM | 128 GB ROM | Expandable Upto 1 TB</td>\n",
       "      <td>50MP + 5MP + 2MP</td>\n",
       "      <td>8MP Front Camera</td>\n",
       "      <td>16.76 cm (6.6 inch) Full HD+ Display</td>\n",
       "      <td>Exynos 850 Processor</td>\n",
       "      <td>6000 mAh Lithium Ion Battery</td>\n",
       "      <td>₹11,999</td>\n",
       "    </tr>\n",
       "    <tr>\n",
       "      <th>4</th>\n",
       "      <td>4</td>\n",
       "      <td>APPLE iPhone 13 (Midnight, 128 GB)</td>\n",
       "      <td>(Midnight,</td>\n",
       "      <td>128 GB ROM</td>\n",
       "      <td>12MP + 12MP</td>\n",
       "      <td>12MP Front Camera</td>\n",
       "      <td>15.49 cm (6.1 inch) Super Retina XDR Display</td>\n",
       "      <td>Brand Warranty for 1 Year</td>\n",
       "      <td>A15 Bionic Chip Processor</td>\n",
       "      <td>₹58,999</td>\n",
       "    </tr>\n",
       "    <tr>\n",
       "      <th>5</th>\n",
       "      <td>5</td>\n",
       "      <td>POCO C50 (Royal Blue, 32 GB)</td>\n",
       "      <td>Blue,</td>\n",
       "      <td>2 GB RAM | 32 GB ROM | Expandable Upto 512 GB</td>\n",
       "      <td>8MP Dual Camera</td>\n",
       "      <td>5MP Front Camera</td>\n",
       "      <td>16.56 cm (6.52 inch) HD+ Display</td>\n",
       "      <td>Mediatek Helio A22 Processor, Upto 2.0 GHz Pro...</td>\n",
       "      <td>5000 mAh Lithium Polymer Battery</td>\n",
       "      <td>₹5,749</td>\n",
       "    </tr>\n",
       "    <tr>\n",
       "      <th>6</th>\n",
       "      <td>6</td>\n",
       "      <td>POCO C50 (Country Green, 32 GB)</td>\n",
       "      <td>Green,</td>\n",
       "      <td>2 GB RAM | 32 GB ROM | Expandable Upto 512 GB</td>\n",
       "      <td>8MP Dual Camera</td>\n",
       "      <td>5MP Front Camera</td>\n",
       "      <td>16.56 cm (6.52 inch) HD+ Display</td>\n",
       "      <td>Mediatek Helio A22 Processor, Upto 2.0 GHz Pro...</td>\n",
       "      <td>5000 mAh Lithium Polymer Battery</td>\n",
       "      <td>₹5,749</td>\n",
       "    </tr>\n",
       "    <tr>\n",
       "      <th>7</th>\n",
       "      <td>7</td>\n",
       "      <td>POCO C50 (Royal Blue, 32 GB)</td>\n",
       "      <td>Blue,</td>\n",
       "      <td>3 GB RAM | 32 GB ROM | Expandable Upto 512 GB</td>\n",
       "      <td>8MP Dual Camera</td>\n",
       "      <td>5MP Front Camera</td>\n",
       "      <td>16.56 cm (6.52 inch) HD+ Display</td>\n",
       "      <td>Mediatek Helio A22 Processor, Upto 2.0 GHz Pro...</td>\n",
       "      <td>5000 mAh Lithium Polymer Battery</td>\n",
       "      <td>₹6,549</td>\n",
       "    </tr>\n",
       "    <tr>\n",
       "      <th>8</th>\n",
       "      <td>8</td>\n",
       "      <td>realme C33 2023 (Night Sea, 64 GB)</td>\n",
       "      <td>(Night</td>\n",
       "      <td>4 GB RAM | 64 GB ROM | Expandable Upto 1 TB</td>\n",
       "      <td>50MP + 0.3MP</td>\n",
       "      <td>5MP Front Camera</td>\n",
       "      <td>16.51 cm (6.5 inch) HD+ Display</td>\n",
       "      <td>Unisoc T612 Processor</td>\n",
       "      <td>5000 mAh Lithium Ion Battery</td>\n",
       "      <td>₹9,999</td>\n",
       "    </tr>\n",
       "    <tr>\n",
       "      <th>9</th>\n",
       "      <td>9</td>\n",
       "      <td>realme C33 2023 (Sandy Gold, 64 GB)</td>\n",
       "      <td>(Sandy</td>\n",
       "      <td>4 GB RAM | 64 GB ROM | Expandable Upto 1 TB</td>\n",
       "      <td>50MP + 0.3MP</td>\n",
       "      <td>5MP Front Camera</td>\n",
       "      <td>16.51 cm (6.5 inch) HD+ Display</td>\n",
       "      <td>Unisoc T612 Processor</td>\n",
       "      <td>5000 mAh Lithium Ion Battery</td>\n",
       "      <td>₹9,999</td>\n",
       "    </tr>\n",
       "    <tr>\n",
       "      <th>10</th>\n",
       "      <td>10</td>\n",
       "      <td>realme C33 2023 (Aqua Blue, 64 GB)</td>\n",
       "      <td>(Aqua</td>\n",
       "      <td>4 GB RAM | 64 GB ROM | Expandable Upto 1 TB</td>\n",
       "      <td>50MP + 0.3MP</td>\n",
       "      <td>5MP Front Camera</td>\n",
       "      <td>16.51 cm (6.5 inch) HD+ Display</td>\n",
       "      <td>Unisoc T612 Processor</td>\n",
       "      <td>5000 mAh Lithium Ion Battery</td>\n",
       "      <td>₹9,999</td>\n",
       "    </tr>\n",
       "    <tr>\n",
       "      <th>11</th>\n",
       "      <td>11</td>\n",
       "      <td>SAMSUNG Galaxy F13 (Sunrise Copper, 64 GB)</td>\n",
       "      <td>(Sunrise</td>\n",
       "      <td>4 GB RAM | 64 GB ROM | Expandable Upto 1 TB</td>\n",
       "      <td>50MP + 5MP + 2MP</td>\n",
       "      <td>8MP Front Camera</td>\n",
       "      <td>16.76 cm (6.6 inch) Full HD+ Display</td>\n",
       "      <td>Exynos 850 Processor</td>\n",
       "      <td>6000 mAh Lithium Ion Battery</td>\n",
       "      <td>₹10,999</td>\n",
       "    </tr>\n",
       "    <tr>\n",
       "      <th>12</th>\n",
       "      <td>12</td>\n",
       "      <td>Infinix HOT 30i (Mirror Black, 64 GB)</td>\n",
       "      <td>(Mirror</td>\n",
       "      <td>4 GB RAM | 64 GB ROM | Expandable Upto 1 TB</td>\n",
       "      <td>50MP + AI Lens</td>\n",
       "      <td>5MP Front Camera</td>\n",
       "      <td>16.76 cm (6.6 inch) HD+ Display</td>\n",
       "      <td>G37 Processor</td>\n",
       "      <td>5000 mAh Battery</td>\n",
       "      <td>₹8,399</td>\n",
       "    </tr>\n",
       "    <tr>\n",
       "      <th>13</th>\n",
       "      <td>13</td>\n",
       "      <td>Infinix HOT 30i (Glacier Blue, 64 GB)</td>\n",
       "      <td>(Glacier</td>\n",
       "      <td>4 GB RAM | 64 GB ROM | Expandable Upto 1 TB</td>\n",
       "      <td>50MP + AI Lens</td>\n",
       "      <td>5MP Front Camera</td>\n",
       "      <td>16.76 cm (6.6 inch) HD+ Display</td>\n",
       "      <td>G37 Processor</td>\n",
       "      <td>5000 mAh Battery</td>\n",
       "      <td>₹8,399</td>\n",
       "    </tr>\n",
       "    <tr>\n",
       "      <th>14</th>\n",
       "      <td>14</td>\n",
       "      <td>APPLE iPhone 13 (Green, 128 GB)</td>\n",
       "      <td>(Green,</td>\n",
       "      <td>128 GB ROM</td>\n",
       "      <td>12MP + 12MP</td>\n",
       "      <td>12MP Front Camera</td>\n",
       "      <td>15.49 cm (6.1 inch) Super Retina XDR Display</td>\n",
       "      <td>Brand Warranty for 1 Year</td>\n",
       "      <td>A15 Bionic Chip Processor</td>\n",
       "      <td>₹58,999</td>\n",
       "    </tr>\n",
       "    <tr>\n",
       "      <th>15</th>\n",
       "      <td>15</td>\n",
       "      <td>POCO C50 (Country Green, 32 GB)</td>\n",
       "      <td>Green,</td>\n",
       "      <td>3 GB RAM | 32 GB ROM | Expandable Upto 512 GB</td>\n",
       "      <td>8MP Dual Camera</td>\n",
       "      <td>5MP Front Camera</td>\n",
       "      <td>16.56 cm (6.52 inch) HD+ Display</td>\n",
       "      <td>Mediatek Helio A22 Processor, Upto 2.0 GHz Pro...</td>\n",
       "      <td>5000 mAh Lithium Polymer Battery</td>\n",
       "      <td>₹6,549</td>\n",
       "    </tr>\n",
       "    <tr>\n",
       "      <th>16</th>\n",
       "      <td>16</td>\n",
       "      <td>SAMSUNG Galaxy F13 (Sunrise Copper, 128 GB)</td>\n",
       "      <td>(Sunrise</td>\n",
       "      <td>4 GB RAM | 128 GB ROM | Expandable Upto 1 TB</td>\n",
       "      <td>50MP + 5MP + 2MP</td>\n",
       "      <td>8MP Front Camera</td>\n",
       "      <td>16.76 cm (6.6 inch) Full HD+ Display</td>\n",
       "      <td>Exynos 850 Processor</td>\n",
       "      <td>6000 mAh Lithium Ion Battery</td>\n",
       "      <td>₹11,999</td>\n",
       "    </tr>\n",
       "    <tr>\n",
       "      <th>17</th>\n",
       "      <td>17</td>\n",
       "      <td>Infinix HOT 30i (Glacier Blue, 128 GB)</td>\n",
       "      <td>(Glacier</td>\n",
       "      <td>8 GB RAM | 128 GB ROM | Expandable Upto 1 TB</td>\n",
       "      <td>50MP + AI Lens</td>\n",
       "      <td>5MP Front Camera</td>\n",
       "      <td>16.76 cm (6.6 inch) HD+ Display</td>\n",
       "      <td>G37 Processor</td>\n",
       "      <td>5000 mAh Battery</td>\n",
       "      <td>₹9,499</td>\n",
       "    </tr>\n",
       "    <tr>\n",
       "      <th>18</th>\n",
       "      <td>18</td>\n",
       "      <td>POCO M4 5G (Cool Blue, 64 GB)</td>\n",
       "      <td>(Cool</td>\n",
       "      <td>4 GB RAM | 64 GB ROM | Expandable Upto 512 GB</td>\n",
       "      <td>50MP + 2MP</td>\n",
       "      <td>8MP Front Camera</td>\n",
       "      <td>16.71 cm (6.58 inch) Full HD+ Display</td>\n",
       "      <td>Mediatek Dimensity 700 Processor</td>\n",
       "      <td>5000 mAh Lithium Ion Polymer Battery</td>\n",
       "      <td>₹11,999</td>\n",
       "    </tr>\n",
       "    <tr>\n",
       "      <th>19</th>\n",
       "      <td>19</td>\n",
       "      <td>REDMI 10 (Pacific Blue, 64 GB)</td>\n",
       "      <td>Blue,</td>\n",
       "      <td>4 GB RAM | 64 GB ROM | Expandable Upto 1 TB</td>\n",
       "      <td>50MP + 2MP</td>\n",
       "      <td>5MP Front Camera</td>\n",
       "      <td>17.02 cm (6.7 inch) HD+ Display</td>\n",
       "      <td>Qualcomm Snapdragon 680 Processor</td>\n",
       "      <td>6000 mAh Lithium Polymer Battery</td>\n",
       "      <td>₹9,999</td>\n",
       "    </tr>\n",
       "    <tr>\n",
       "      <th>20</th>\n",
       "      <td>20</td>\n",
       "      <td>POCO M4 Pro (Yellow, 128 GB)</td>\n",
       "      <td>(Yellow,</td>\n",
       "      <td>6 GB RAM | 128 GB ROM | Expandable Upto 1 TB</td>\n",
       "      <td>64MP + 8MP + 2MP</td>\n",
       "      <td>16MP Front Camera</td>\n",
       "      <td>16.33 cm (6.43 inch) Full HD+ AMOLED Display</td>\n",
       "      <td>Mediatek Helio G96 Processor</td>\n",
       "      <td>5000 mAh Lithium-ion Polymer Battery</td>\n",
       "      <td>₹12,999</td>\n",
       "    </tr>\n",
       "    <tr>\n",
       "      <th>21</th>\n",
       "      <td>21</td>\n",
       "      <td>APPLE iPhone 13 (Starlight, 128 GB)</td>\n",
       "      <td>(Starlight,</td>\n",
       "      <td>128 GB ROM</td>\n",
       "      <td>12MP + 12MP</td>\n",
       "      <td>12MP Front Camera</td>\n",
       "      <td>15.49 cm (6.1 inch) Super Retina XDR Display</td>\n",
       "      <td>Brand Warranty for 1 Year</td>\n",
       "      <td>A15 Bionic Chip Processor</td>\n",
       "      <td>₹58,999</td>\n",
       "    </tr>\n",
       "    <tr>\n",
       "      <th>22</th>\n",
       "      <td>22</td>\n",
       "      <td>POCO M4 5G (Power Black, 128 GB)</td>\n",
       "      <td>(Power</td>\n",
       "      <td>6 GB RAM | 128 GB ROM | Expandable Upto 512 GB</td>\n",
       "      <td>50MP + 2MP</td>\n",
       "      <td>8MP Front Camera</td>\n",
       "      <td>16.71 cm (6.58 inch) Full HD+ Display</td>\n",
       "      <td>Mediatek Dimensity 700 Processor</td>\n",
       "      <td>5000 mAh Lithium Ion Polymer Battery</td>\n",
       "      <td>₹13,999</td>\n",
       "    </tr>\n",
       "    <tr>\n",
       "      <th>23</th>\n",
       "      <td>23</td>\n",
       "      <td>POCO M4 5G (Power Black, 64 GB)</td>\n",
       "      <td>(Power</td>\n",
       "      <td>4 GB RAM | 64 GB ROM | Expandable Upto 512 GB</td>\n",
       "      <td>50MP + 2MP</td>\n",
       "      <td>8MP Front Camera</td>\n",
       "      <td>16.71 cm (6.58 inch) Full HD+ Display</td>\n",
       "      <td>Mediatek Dimensity 700 Processor</td>\n",
       "      <td>5000 mAh Lithium Ion Polymer Battery</td>\n",
       "      <td>₹11,999</td>\n",
       "    </tr>\n",
       "  </tbody>\n",
       "</table>\n",
       "</div>"
      ],
      "text/plain": [
       "    Unnamed: 0                                        Brand  phone_color  \\\n",
       "0            0   SAMSUNG Galaxy F13 (Nightsky Green, 64 GB)    (Nightsky   \n",
       "1            1  SAMSUNG Galaxy F13 (Waterfall Blue, 128 GB)   (Waterfall   \n",
       "2            2   SAMSUNG Galaxy F13 (Waterfall Blue, 64 GB)   (Waterfall   \n",
       "3            3  SAMSUNG Galaxy F13 (Nightsky Green, 128 GB)    (Nightsky   \n",
       "4            4           APPLE iPhone 13 (Midnight, 128 GB)   (Midnight,   \n",
       "5            5                 POCO C50 (Royal Blue, 32 GB)        Blue,   \n",
       "6            6              POCO C50 (Country Green, 32 GB)       Green,   \n",
       "7            7                 POCO C50 (Royal Blue, 32 GB)        Blue,   \n",
       "8            8           realme C33 2023 (Night Sea, 64 GB)       (Night   \n",
       "9            9          realme C33 2023 (Sandy Gold, 64 GB)       (Sandy   \n",
       "10          10           realme C33 2023 (Aqua Blue, 64 GB)        (Aqua   \n",
       "11          11   SAMSUNG Galaxy F13 (Sunrise Copper, 64 GB)     (Sunrise   \n",
       "12          12        Infinix HOT 30i (Mirror Black, 64 GB)      (Mirror   \n",
       "13          13        Infinix HOT 30i (Glacier Blue, 64 GB)     (Glacier   \n",
       "14          14              APPLE iPhone 13 (Green, 128 GB)      (Green,   \n",
       "15          15              POCO C50 (Country Green, 32 GB)       Green,   \n",
       "16          16  SAMSUNG Galaxy F13 (Sunrise Copper, 128 GB)     (Sunrise   \n",
       "17          17       Infinix HOT 30i (Glacier Blue, 128 GB)     (Glacier   \n",
       "18          18                POCO M4 5G (Cool Blue, 64 GB)        (Cool   \n",
       "19          19               REDMI 10 (Pacific Blue, 64 GB)        Blue,   \n",
       "20          20                 POCO M4 Pro (Yellow, 128 GB)     (Yellow,   \n",
       "21          21          APPLE iPhone 13 (Starlight, 128 GB)  (Starlight,   \n",
       "22          22             POCO M4 5G (Power Black, 128 GB)       (Power   \n",
       "23          23              POCO M4 5G (Power Black, 64 GB)       (Power   \n",
       "\n",
       "                                           storage     primary_camera  \\\n",
       "0      4 GB RAM | 64 GB ROM | Expandable Upto 1 TB  50MP + 5MP + 2MP    \n",
       "1     4 GB RAM | 128 GB ROM | Expandable Upto 1 TB  50MP + 5MP + 2MP    \n",
       "2      4 GB RAM | 64 GB ROM | Expandable Upto 1 TB  50MP + 5MP + 2MP    \n",
       "3     4 GB RAM | 128 GB ROM | Expandable Upto 1 TB  50MP + 5MP + 2MP    \n",
       "4                                       128 GB ROM       12MP + 12MP    \n",
       "5    2 GB RAM | 32 GB ROM | Expandable Upto 512 GB   8MP Dual Camera    \n",
       "6    2 GB RAM | 32 GB ROM | Expandable Upto 512 GB   8MP Dual Camera    \n",
       "7    3 GB RAM | 32 GB ROM | Expandable Upto 512 GB   8MP Dual Camera    \n",
       "8      4 GB RAM | 64 GB ROM | Expandable Upto 1 TB      50MP + 0.3MP    \n",
       "9      4 GB RAM | 64 GB ROM | Expandable Upto 1 TB      50MP + 0.3MP    \n",
       "10     4 GB RAM | 64 GB ROM | Expandable Upto 1 TB      50MP + 0.3MP    \n",
       "11     4 GB RAM | 64 GB ROM | Expandable Upto 1 TB  50MP + 5MP + 2MP    \n",
       "12     4 GB RAM | 64 GB ROM | Expandable Upto 1 TB    50MP + AI Lens    \n",
       "13     4 GB RAM | 64 GB ROM | Expandable Upto 1 TB    50MP + AI Lens    \n",
       "14                                      128 GB ROM       12MP + 12MP    \n",
       "15   3 GB RAM | 32 GB ROM | Expandable Upto 512 GB   8MP Dual Camera    \n",
       "16    4 GB RAM | 128 GB ROM | Expandable Upto 1 TB  50MP + 5MP + 2MP    \n",
       "17    8 GB RAM | 128 GB ROM | Expandable Upto 1 TB    50MP + AI Lens    \n",
       "18   4 GB RAM | 64 GB ROM | Expandable Upto 512 GB        50MP + 2MP    \n",
       "19     4 GB RAM | 64 GB ROM | Expandable Upto 1 TB        50MP + 2MP    \n",
       "20    6 GB RAM | 128 GB ROM | Expandable Upto 1 TB  64MP + 8MP + 2MP    \n",
       "21                                      128 GB ROM       12MP + 12MP    \n",
       "22  6 GB RAM | 128 GB ROM | Expandable Upto 512 GB        50MP + 2MP    \n",
       "23   4 GB RAM | 64 GB ROM | Expandable Upto 512 GB        50MP + 2MP    \n",
       "\n",
       "             Seccamera                                       Display  \\\n",
       "0     8MP Front Camera          16.76 cm (6.6 inch) Full HD+ Display   \n",
       "1     8MP Front Camera          16.76 cm (6.6 inch) Full HD+ Display   \n",
       "2     8MP Front Camera          16.76 cm (6.6 inch) Full HD+ Display   \n",
       "3     8MP Front Camera          16.76 cm (6.6 inch) Full HD+ Display   \n",
       "4    12MP Front Camera  15.49 cm (6.1 inch) Super Retina XDR Display   \n",
       "5     5MP Front Camera              16.56 cm (6.52 inch) HD+ Display   \n",
       "6     5MP Front Camera              16.56 cm (6.52 inch) HD+ Display   \n",
       "7     5MP Front Camera              16.56 cm (6.52 inch) HD+ Display   \n",
       "8     5MP Front Camera               16.51 cm (6.5 inch) HD+ Display   \n",
       "9     5MP Front Camera               16.51 cm (6.5 inch) HD+ Display   \n",
       "10    5MP Front Camera               16.51 cm (6.5 inch) HD+ Display   \n",
       "11    8MP Front Camera          16.76 cm (6.6 inch) Full HD+ Display   \n",
       "12    5MP Front Camera               16.76 cm (6.6 inch) HD+ Display   \n",
       "13    5MP Front Camera               16.76 cm (6.6 inch) HD+ Display   \n",
       "14   12MP Front Camera  15.49 cm (6.1 inch) Super Retina XDR Display   \n",
       "15    5MP Front Camera              16.56 cm (6.52 inch) HD+ Display   \n",
       "16    8MP Front Camera          16.76 cm (6.6 inch) Full HD+ Display   \n",
       "17    5MP Front Camera               16.76 cm (6.6 inch) HD+ Display   \n",
       "18    8MP Front Camera         16.71 cm (6.58 inch) Full HD+ Display   \n",
       "19    5MP Front Camera               17.02 cm (6.7 inch) HD+ Display   \n",
       "20   16MP Front Camera  16.33 cm (6.43 inch) Full HD+ AMOLED Display   \n",
       "21   12MP Front Camera  15.49 cm (6.1 inch) Super Retina XDR Display   \n",
       "22    8MP Front Camera         16.71 cm (6.58 inch) Full HD+ Display   \n",
       "23    8MP Front Camera         16.71 cm (6.58 inch) Full HD+ Display   \n",
       "\n",
       "                                            Processor  \\\n",
       "0                                Exynos 850 Processor   \n",
       "1                                Exynos 850 Processor   \n",
       "2                                Exynos 850 Processor   \n",
       "3                                Exynos 850 Processor   \n",
       "4                           Brand Warranty for 1 Year   \n",
       "5   Mediatek Helio A22 Processor, Upto 2.0 GHz Pro...   \n",
       "6   Mediatek Helio A22 Processor, Upto 2.0 GHz Pro...   \n",
       "7   Mediatek Helio A22 Processor, Upto 2.0 GHz Pro...   \n",
       "8                               Unisoc T612 Processor   \n",
       "9                               Unisoc T612 Processor   \n",
       "10                              Unisoc T612 Processor   \n",
       "11                               Exynos 850 Processor   \n",
       "12                                      G37 Processor   \n",
       "13                                      G37 Processor   \n",
       "14                          Brand Warranty for 1 Year   \n",
       "15  Mediatek Helio A22 Processor, Upto 2.0 GHz Pro...   \n",
       "16                               Exynos 850 Processor   \n",
       "17                                      G37 Processor   \n",
       "18                   Mediatek Dimensity 700 Processor   \n",
       "19                  Qualcomm Snapdragon 680 Processor   \n",
       "20                       Mediatek Helio G96 Processor   \n",
       "21                          Brand Warranty for 1 Year   \n",
       "22                   Mediatek Dimensity 700 Processor   \n",
       "23                   Mediatek Dimensity 700 Processor   \n",
       "\n",
       "                                 Battery    PRICE  \n",
       "0           6000 mAh Lithium Ion Battery  ₹10,999  \n",
       "1           6000 mAh Lithium Ion Battery  ₹11,999  \n",
       "2           6000 mAh Lithium Ion Battery  ₹10,999  \n",
       "3           6000 mAh Lithium Ion Battery  ₹11,999  \n",
       "4              A15 Bionic Chip Processor  ₹58,999  \n",
       "5       5000 mAh Lithium Polymer Battery   ₹5,749  \n",
       "6       5000 mAh Lithium Polymer Battery   ₹5,749  \n",
       "7       5000 mAh Lithium Polymer Battery   ₹6,549  \n",
       "8           5000 mAh Lithium Ion Battery   ₹9,999  \n",
       "9           5000 mAh Lithium Ion Battery   ₹9,999  \n",
       "10          5000 mAh Lithium Ion Battery   ₹9,999  \n",
       "11          6000 mAh Lithium Ion Battery  ₹10,999  \n",
       "12                      5000 mAh Battery   ₹8,399  \n",
       "13                      5000 mAh Battery   ₹8,399  \n",
       "14             A15 Bionic Chip Processor  ₹58,999  \n",
       "15      5000 mAh Lithium Polymer Battery   ₹6,549  \n",
       "16          6000 mAh Lithium Ion Battery  ₹11,999  \n",
       "17                      5000 mAh Battery   ₹9,499  \n",
       "18  5000 mAh Lithium Ion Polymer Battery  ₹11,999  \n",
       "19      6000 mAh Lithium Polymer Battery   ₹9,999  \n",
       "20  5000 mAh Lithium-ion Polymer Battery  ₹12,999  \n",
       "21             A15 Bionic Chip Processor  ₹58,999  \n",
       "22  5000 mAh Lithium Ion Polymer Battery  ₹13,999  \n",
       "23  5000 mAh Lithium Ion Polymer Battery  ₹11,999  "
      ]
     },
     "execution_count": 126,
     "metadata": {},
     "output_type": "execute_result"
    }
   ],
   "source": [
    "import pandas as pd\n",
    "data = pd.read_csv(\"lucky.csv\")\n",
    "data"
   ]
  },
  {
   "cell_type": "markdown",
   "id": "a1277a66",
   "metadata": {},
   "source": [
    "# Q5 scrapping data for lattitude and longitude"
   ]
  },
  {
   "cell_type": "code",
   "execution_count": 137,
   "id": "543e0906",
   "metadata": {},
   "outputs": [],
   "source": [
    "driver=webdriver.Chrome(r\"C:\\Users\\Mauna\\Downloads\\chromedriver_win32\\chromedriver.exe\")"
   ]
  },
  {
   "cell_type": "code",
   "execution_count": 139,
   "id": "ca31012d",
   "metadata": {},
   "outputs": [],
   "source": [
    "# google webpage \n",
    "driver.get(\"https://www.google.co.in/maps\")\n",
    "time.sleep(5)"
   ]
  },
  {
   "cell_type": "code",
   "execution_count": 149,
   "id": "d9340801",
   "metadata": {},
   "outputs": [
    {
     "name": "stdout",
     "output_type": "stream",
     "text": [
      "Enter City Name : vijayawada\n",
      "URL Extracted:  https://www.google.co.in/maps/place/%E1%89%AA%E1%8C%83%E1%8B%AB%E1%8B%8B%E1%8B%B3,+%E1%8A%A0%E1%8A%95%E1%8B%B5%E1%88%A8+%E1%8D%95%E1%88%A8%E1%8B%B0%E1%88%BD,+%E1%88%85%E1%8A%95%E1%8B%B5/@16.5101002,80.4800631,11z/data=!3m1!4b1!4m6!3m5!1s0x3a35eff9482d944b:0x939b7e84ab4a0265!8m2!3d16.5061743!4d80.6480153!16zL20vMDM4NWs3\n",
      "Latitude = 16.5101002, Longitude = 80.4800631\n"
     ]
    }
   ],
   "source": [
    "# google webpage \n",
    "driver.get(\"https://www.google.co.in/maps\")\n",
    "time.sleep(5)\n",
    "\n",
    "city = input('Enter City Name : ')                                         # Enter city name\n",
    "search = driver.find_element(By.ID,\"searchboxinput\")                       # finding  search bar\n",
    "search.clear()                                                             # empty the search bar\n",
    "time.sleep(4)\n",
    "search.send_keys(city)                                                     # entering values in search bar\n",
    "button = driver.find_element(By.ID,\"searchbox-searchbutton\")               # locating search button\n",
    "button.click()                                                             # clicking search button\n",
    "time.sleep(3)\n",
    "\n",
    "try:\n",
    "    url_string = driver.current_url\n",
    "    print(\"URL Extracted: \", url_string)\n",
    "    lat_lng = re.findall(r'@(.*)data',url_string)\n",
    "    if len(lat_lng):\n",
    "        lat_lng_list = lat_lng[0].split(\",\")\n",
    "        if len(lat_lng_list)>=2:\n",
    "            lat = lat_lng_list[0]\n",
    "            lng = lat_lng_list[1]\n",
    "        print(\"Latitude = {}, Longitude = {}\".format(lat, lng))\n",
    "\n",
    "except Exception as e:\n",
    "        print(\"Error: \", str(e))"
   ]
  },
  {
   "cell_type": "markdown",
   "id": "b3eb7870",
   "metadata": {},
   "source": [
    " # Q6. Write a program to scrap all the available details of best gaming laptops from digit.in. "
   ]
  },
  {
   "cell_type": "code",
   "execution_count": 150,
   "id": "5aa798e8",
   "metadata": {},
   "outputs": [],
   "source": [
    "driver=webdriver.Chrome(r\"C:\\Users\\Mauna\\Downloads\\chromedriver_win32\\chromedriver.exe\")"
   ]
  },
  {
   "cell_type": "code",
   "execution_count": 151,
   "id": "f22c43c5",
   "metadata": {},
   "outputs": [],
   "source": [
    "url=\"https://www.digit.in/top-products/best-gaming-laptops-40.html\""
   ]
  },
  {
   "cell_type": "code",
   "execution_count": 152,
   "id": "638f3286",
   "metadata": {},
   "outputs": [],
   "source": [
    "driver.get(url)"
   ]
  },
  {
   "cell_type": "code",
   "execution_count": 167,
   "id": "6ed84724",
   "metadata": {},
   "outputs": [],
   "source": [
    "Brands=[]\n",
    "Products_Description=[]\n",
    "Specification=[]\n",
    "Price=[]"
   ]
  },
  {
   "cell_type": "code",
   "execution_count": 168,
   "id": "bab6116d",
   "metadata": {},
   "outputs": [
    {
     "data": {
      "text/plain": [
       "11"
      ]
     },
     "execution_count": 168,
     "metadata": {},
     "output_type": "execute_result"
    }
   ],
   "source": [
    "br=driver.find_elements(By.XPATH,'//div[@ class=\"left_side\"]')\n",
    "len(br)"
   ]
  },
  {
   "cell_type": "code",
   "execution_count": 169,
   "id": "5e49b3a0",
   "metadata": {},
   "outputs": [
    {
     "data": {
      "text/plain": [
       "['1.MSI Titan GT77-12UHS',\n",
       " '2.Lenovo Legion 7',\n",
       " '3.Alienware X17 R2',\n",
       " '4.Acer Predator Triton 500 SE PT516-52s',\n",
       " '5.Omen By HP (16-B1371TX)',\n",
       " '6.Acer Predator Helios 300 AN515-45',\n",
       " '7.MSI Delta 15 (A5EFK-083IN)',\n",
       " '8.Omen By HP (16-C0141AX)',\n",
       " '9.Lenovo Legion 5i Pro (82RF00MGIN)',\n",
       " '10.Alienware M15 R5 Ryzen Edition Icc-C780001win']"
      ]
     },
     "execution_count": 169,
     "metadata": {},
     "output_type": "execute_result"
    }
   ],
   "source": [
    " for i in br:\n",
    "   \n",
    "    Brands.append(str(i.text).replace(\"\\n\",\"\"))\n",
    "Brands[0:10]"
   ]
  },
  {
   "cell_type": "code",
   "execution_count": 171,
   "id": "b8131984",
   "metadata": {},
   "outputs": [
    {
     "data": {
      "text/plain": [
       "10"
      ]
     },
     "execution_count": 171,
     "metadata": {},
     "output_type": "execute_result"
    }
   ],
   "source": [
    "sp=driver.find_elements(By.XPATH,\"//div[@class='Specs-Wrap']\")\n",
    "len(sp)"
   ]
  },
  {
   "cell_type": "code",
   "execution_count": 172,
   "id": "0fe7174b",
   "metadata": {},
   "outputs": [
    {
     "data": {
      "text/plain": [
       "['Windows 11 Home17.3\" (3840 x 2160)12th Gen Intel Core i9-12900HX | NA2 TB SSD/64 GB DDR5',\n",
       " 'Windows 11 Home16\" (2560 x 1600)12th Gen Intel Core i9-12900HX | 2.3 GHz1 TB SSD/32 GB DDR4',\n",
       " 'Windows 11 Home17.3\" (1920 x 1080)12th Gen Intel Core i9-12900H | 5 GHz1 TB SSD/32 GB DDR5',\n",
       " 'Windows 1116\" (2560 x 1600)12th Gen Intel Core i7-12700H | 3.5 GHz2 TB SSD/32 GB DDR5',\n",
       " 'Windows 11 Home16.1\" (2560 x 1440)12th Gen Intel Core i7-12700H | 4.7 GHz1 TB SSD/8 GB DDR5',\n",
       " 'Windows 11 Home15.6\" (2560 x 1440)AMD Ryzen 9-5900HX | NA512 GB SSD/16 GB DDR4',\n",
       " 'Windows 11 Home15.6\" (1920 x 1080)AMD 5th Gen Ryzen 9-5900HX | 3.3 GHz1 TB SSD/16 GB DDR4',\n",
       " 'Windows 11 Home16.1\" (2560 x 1440)AMD Ryzen™ 9 5900HX | 3.3 GHz1 TB NVMe/16 GB DDR4',\n",
       " 'Windows 11 Home16\" (2560 x 1600)12th Gen Intel Core i7-12700H | 2.3 GHz1 TB SSD/16 GB DDR5',\n",
       " 'Windows 11 Home15.6\" (1920 x 1080)AMD Ryzen R7-5800H | 4.40 GHz512 GB SSD/16 GB DDR4']"
      ]
     },
     "execution_count": 172,
     "metadata": {},
     "output_type": "execute_result"
    }
   ],
   "source": [
    "for i in sp:\n",
    "   \n",
    "    Specification.append(str(i.text).replace(\"\\n\",\"\"))\n",
    "Specification"
   ]
  },
  {
   "cell_type": "code",
   "execution_count": 173,
   "id": "46b8206c",
   "metadata": {},
   "outputs": [
    {
     "data": {
      "text/plain": [
       "10"
      ]
     },
     "execution_count": 173,
     "metadata": {},
     "output_type": "execute_result"
    }
   ],
   "source": [
    "des=driver.find_elements(By.XPATH,\"//div[@class='Section-center']\")\n",
    "len(des)"
   ]
  },
  {
   "cell_type": "code",
   "execution_count": 174,
   "id": "a4635785",
   "metadata": {},
   "outputs": [
    {
     "data": {
      "text/plain": [
       "['The very best MSI gaming laptop featuring an Intel processor is the MSI TITAN GT77 - 12UHS. This is the top of the line model from MSI’s recent refresh of their entire gaming lineup and is powered by the Intel Core i9-12900HX which is a 16 Core (8P+8E) processor that has 24 threads and a maximum Turbo power of 157 Watts. The graphics card in this laptop is the NVIDIA RTX 3080 Ti and it too sports a high TGP of 175 Watts. This is one of the most powerful CPU+GPU combinations with plenty of thermal headroom to allow it to operate at higher clock speeds for longer time periods. As for the memory, the MSI GT77-12UHS can have up to 128 GB of DDR5 memory but ships with 64 GB DDR5 clocked at 4800 MT/s. Being a 12th Gen machine also means that the motherboard has PCIe Gen 5.0 lanes for storage devices such as M.2 SSDs. The GT77-12UHS has four M.2 slots of which one slot is PCIe Gen 5 whereas the remaining three are PCIe Gen 4 slots. Then there’s also the display, the GT77-12UHS features a massive 17.3-inch IPS-level 4K panel with a 120 Hz refresh rate. So you can actually enjoy all the high frame-rate gameplay that the powerful hardware enables. And the cherry on the cake? A built-in mechanical keyboard with Cherry MX switches. All this hardware comes at a ridiculous price of INR 5,26,990. As of now, this is at the top among the best performing gaming laptops in the world. ...Read MoreMORE SPECIFICATIONSProcessor : 12th Gen Intel Core i9-12900HX 16 core processorDisplay : 17.3″ (3840 x 2160) screen, 120 Hz refresh rateOS : Windows 11 HomeMemory : 64 GB DDR5GB RAM & 2 TB SSDGraphics Processor : 16 GB DDR6 NVIDIA GeForce RTX 3080 Ti Graphics cardBody : 397 x 330 x 23 mm dimension & 3.3 kg weight',\n",
       " 'The second Intel Core i9 laptop on our list is from the famous Legion lineup - the Lenovo Legion 7. It is a gaming laptop packed with crazy features and comes with a heavy price tag. Talking about the display panel, it has a 16 inch QHD IPS panel with 500 nits of brightness and 165Hz of screen refresh rate. Along with this, the panel is also 100% sRGB which basically means accurate colour reproduction. The Lenovo Legion 7 is powered by an Intel Core i9 12900HX processor with a max clock speed of 5.0GHz clock speed, 16GB RAM that can be extended up to 32GB, 1TB SSD and 16GB of dedicated NVIDIA RTX 3080 Ti GDDR6 graphics card. The laptop has a battery life of up to 8 hours and also supports Rapid Charge Pro that can charge the laptop up to 70 percent in just 30 minutes. This laptop has a full size 4-zone RGB LED backlit keyboard with 100% anti-ghosting support and 1.5mm key travel distance. The laptop weighs 2.5 kg and it comes with a physical kill switch for the webcam. ...Read MoreMORE SPECIFICATIONSProcessor : 12th Gen Intel Core i9-12900HX 16 core processor with 2.3 GHz clock speedDisplay : 16″ (2560 x 1600) screen, 165 Hz refresh rateOS : Windows 11 HomeMemory : 32 GB DDR4GB RAM & 1 TB SSDGraphics Processor : 16 GB DDR6 NVIDIA GeForce RTX 3080 Ti Graphics cardBody : 358 x 264 x 19 mm dimension & 2.53 kg weightPrice : ₹ 359,990AVAILABLE ₹ 359,990BUY NOW',\n",
       " 'Alienware, the premium gaming brand from Dell has its own reputation for building some of the meanest gaming machines for more than two decades. The best Alienware gaming laptop featuring an Intel processor is the Alienware x17 R2. This thing packs an Intel Core i9-12900HK which is a 14-Core (6P+8E) processor which has 20 Threads. The lower P-Core count helps it hit slightly higher clock speeds but the Max Turbo power is capped at 115W which is less than what the MSI GT77 sports. As for the graphics card, the Alienware x17 R2 also sports an NVIDIA RTX 3080 Ti with the peak TGP set to 175 Watts. The CPU+GPU combination of the Alienware x17 R2 comes close to the MSI GT77. As for the memory, the Alienware x17 R2 ships with 32 GB of DDR5 RAM clocked at 4800 MT/s. The display on the x17 R2 is a 17.3-inch FHD 360 Hz panel compared to the 120 Hz 4K panel on the MSI GT77. You’ll end up seeing higher frame rates on the Alienware x17 R2 without any tearing whereas you’ll see crisper visuals at high frame rates on the MSI GT77. Both make for great experiences. This configuration of the Dell Alienware x17 R2 goes for INR 3,89,990 making it a good gaming laptop to buy in 2022. ...Read MoreMORE SPECIFICATIONSProcessor : 12th Gen Intel Core i9-12900H 14 core processor with 5 GHz clock speedDisplay : 17.3″ (1920 x 1080) screen, 360 Hz refresh rateOS : Windows 11 HomeMemory : 32 GB DDR5GB RAM & 1 TB SSDGraphics Processor : 16 GB DDR6 NVIDIA GEFORCE RTX 3080 Ti Graphics cardBody : 299 x 359 x 21 mm dimension & 2.96 kg weightPrice : ₹ 389,990',\n",
       " 'The Predator lineup from Acer has shown great promise for gamers ever since they showcased the Predator 21X a couple of years ago. Keeping its legacy intact and also being the best Acer gaming laptop featuring an Intel processor is the Acer Predator Triton 500 SE. This machine is powered by an Intel Core i7-12700H which is a 14-Core (6P+8E) processor with 20 Threads. And the graphics card in this machine is the NVIDIA RTX 3070 Ti. The TGP isn’t specified but the RTX 3070 Ti generally ships with a TGP of between 105 to 150 Watts. For the memory, it has 32 GB of LPDDR5 memory clocked at 4800 MT/s and the display is a 16-inch 2560x1600 IPS panel sporting a 240 Hz refresh rate. Acer makes some intelligent decisions with the hardware by picking a Core i7 processor and pairing it with a high-end RTX 3070 Ti. The power backup in this machine is a 4-Cell 99 Wh Li-ion battery which is the highest that you can get in a laptop legally for it to be carried on aeroplanes. And if we are to talk about the networking then the Acer Predator Triton 500 SE comes with Killer Wi-Fi 6E 1675s and Gigabit Ethernet. This laptop gives you great gaming performance that comes close to machines that cost twice as much. Speaking of price, the Acer Predator Triton 500 SE PT516-52s is priced at INR 2,29,999 in India. ...Read MoreMORE SPECIFICATIONSProcessor : 12th Gen Intel Core i7-12700H 14 core processor with 3.5 GHz clock speedDisplay : 16″ (2560 x 1600) screenOS : Windows 11Memory : 32 GB DDR5GB RAM & 2 TB SSDGraphics Processor : 8 GB DDR6 NVIDIA GeForce RTX 3070 Ti Graphics cardBody : 262 x 359 x 20 mm dimension & 2.4 kg weightPrice : ₹ 229,990AVAILABLE ₹ 229,990BUY NOW',\n",
       " 'Omen by HP is a premium gaming lineup which is right up there with their Victus gaming laptops. The best HP gaming laptop with an Intel processor is the Omen by HP (16-B1371TX). Like the Acer Predator, this too is powered by the Intel Core i7-12700H which is a 14-Core (6P+8E) processor with 20 Threads. And the graphics card in this machine is the NVIDIA RTX 3070 Ti. Even the memory is a similar configuration with 32 GB of DDR5 RAM rated for 4800 MT/s. One of the great things about the Omen laptops is that the audio setup is powered by Bang&Olufsen for some really great-sounding audio. For the display, the Omen by HP (16-B1371TX) sports a 16.1-inch 165 Hz 2560x1440 IPS panel that is the best of both worlds, resolution and refresh rate. Moreover, it is also NVIDIA G-Sync certified. The keyboard on the HP Omen (16-B1371TX) features a 4-zone RGB backlighting that adds a bit of pizazz to the overall aesthetic. In a way, the HP Omen (16-B1371TX) checks all the boxes and it does so with a price tag of INR 1,82,999 in India. ...Read MoreMORE SPECIFICATIONSProcessor : 12th Gen Intel Core i7-12700H 14 core processor with 4.7 GHz clock speedDisplay : 16.1″ (2560 x 1440) screenOS : Windows 11 HomeMemory : 8 GB DDR5GB RAM & 1 TB SSDGraphics Processor : 8 GB GDDR6 NVIDIA GeForce RTX 3070 Graphics cardBody : 369 x 248 x 23 mm dimension & 2.32 kg weightPrice : ₹ 177,590AVAILABLE ₹ 177,590BUY NOW',\n",
       " 'Acer Predator Helios 300 AN515-45 is the best Acer gaming laptop featuring an AMD processor. It is powered by the AMD Ryzen 9 5900HX which is an 8 Core processor that gives you 16 Threads. AMD’s Ryzen 5000 series processors have broken performance records and set new benchmarks and this is the best mobile processor of the entire series. Acer has paired this with the NVIDIA RTX 3070. Together, the two make for a great combination for gaming. On the memory front, there’s 16 GB of DDR4 RAM clocked at 3200 MT/s. The display on the Acer Predator Helios 300 is a 15.6-inch 2560x1440 IPS panel that is tuned for a refresh rate of 165 Hz. Acer also packs Killer E2600 Ethernet in the Predator Helios 300 for folks who’d like to tweak their network prioritisation settings. The TGP for the RTX 3070 has not been mentioned here but a high TGP RTX 3070 can even best a low TGP RTX 3070 Ti, so there might be a few surprises there. For all these features, the Acer Predator Helios 300 carries a price tag of INR 1,39,990 in India. ...Read MoreMORE SPECIFICATIONSProcessor : AMD Ryzen 9-5900HX 8 core processorDisplay : 15.6″ (2560 x 1440) screen, 165 Hz refresh rateOS : Windows 11 HomeMemory : 16 GB DDR4GB RAM & 512 GB SSDGraphics Processor : 8 GB DDR6 NVIDIA GeForce RTX 3070 Graphics cardBody : 363 x 255 x 23.9 mm dimension & 2.4 kg weightPrice : ₹ 172,999Acer Predator Helios 300 AN515-45 AlternativesAcer Aspire 3₹ 20500Acer Swift 7₹ 110000Acer Aspire 5₹ 49790',\n",
       " \"The best MSI gaming laptop with an AMD processor is the MSI Delta 15 A5EFK-083IN. It features the top of the line AMD Ryzen 9 5900 HX which is a great 8-Core / 16-Thread processor for gaming and for the graphics card it has an AMD Radeon RX 6700M. The Radeon RX 6000 series graphics cards are well known for their power efficiency thanks to the efficient 7nm process on which the Radeon RX 6000 GPUs are built on. The RX 6700M, in particular, is a great high-end graphics card and can best even an RTX 3070 considering the TGP ranges of the GPUs. For the memory, the MSI Delta 15 comes with 16 GB of dual-channel DDR4 RAM clocked at 3200 MT/s. Coming to the display, the MSI Delta 15 sports a 15.6-inch FHD IPS-level 240 Hz panel that's geared to take advantage of AMD FreeSync. Even the backup is great with an 82 Wh 4-Cell Li-Ion battery. The keyboard on the Delta 15 is backlit and there's always the MSI Dragon Centre management software to help optimise the way you use the laptop. The MSI Delta 15 A5EFK-083IN retails for INR 1,14,990 in India. ...Read MoreMORE SPECIFICATIONSProcessor : AMD 5th Gen Ryzen 9-5900HX 8 core processor with 3.3 GHz clock speedDisplay : 15.6″ (1920 x 1080) screen, 240Hz refresh rateOS : Windows 11 HomeMemory : 16 GB DDR4GB RAM & 1 TB SSDGraphics Processor : 10 GB DDR6 AMD Radeon RX 6700M Graphics cardBody : 357 x 247 x 19 mm dimension & 1.9 kg weightPrice : ₹ 188,990MSI Delta 15 (A5EFK-083IN) AlternativesMSI GF63 Thin 9SC-240IN₹ 60990MSI GS63VR Stealth Pro₹ 683486MSI GT73VR 7RF Titan Pro 4K₹ 334990\",\n",
       " \"Another worthy gaming laptop from the Omen lineup from HP is the 16-c0141AX. In fact, it's also the best HP gaming laptop with an AMD Processor. This unit also features the best AMD mobile processor which is the AMD Ryzen 9 5900 HX, an 8-Core / 16-Thread flagship CPU that can make mincemeat of all current AAA video games. And for the graphics, HP has included the AMD Radeon RX 6600M which is very power efficient like most GPUs in the RX 6000 series and often performs better than the NVIDIA RTX 3060. Aside from these there’s 16 GB of DDR4 RAM, and for the display, the Omen by HP (16-c0141AX) has a 16.1-inch 2560x1440 IPS panel and it even has a high refresh rate of 165 Hz. HP introduced the OMEN Tempest Cooling technology for their laptops to improve their cooling. Like other Omen laptops, this model also has an audio solution powered by Bang&Olufsen which is a well-known premium audio brand. The Omen by HP (16-c0141AX) retails for INR 1,34,999 in India. ...Read MoreMORE SPECIFICATIONSProcessor : AMD Ryzen™ 9 5900HX 8 core processor with 3.3 GHz clock speedDisplay : 16.1″ (2560 x 1440) screenOS : Windows 11 HomeMemory : 16 GB DDR4GB RAM & 1 TB NVMeGraphics Processor : 8 GB GDDR6 AMD Radeon™ RX 6600M Graphics cardBody : 36.92 x 24.8 x 2.3 mm dimension & 2.3 kg weightPrice : ₹ 124,990AVAILABLE ₹ 124,990BUY NOWSee more offer detailssee more prices\",\n",
       " 'Lenovo has gone a little mainstream with their gaming laptops and the best Lenovo gaming laptop featuring an Intel processor happens to be the Lenovo Legion 5i Pro (82RF00MGIN). It features the powerful Intel Core i7-12700H which is a 14-Core (6P+8E) processor with 20 Threads. There’s 16 GB of DDR5 RAM rated for 4800 MT/s and the graphics card is the NVIDIA RTX 3060. There’s no mention of the TGP of the card on the official spec sheets. Lenovo offers a 16-inch 2560x1600 IPS panel on the Lenovo Legion 5i Pro and it also has a refresh rate of 165 Hz. While most of the specs might seem a little tame compared to the top laptop on this page, the battery is where Lenovo doesn’t hold back any punches. This machine features an 80 Wh 4-Cell battery which is pretty high among gaming laptops. Then there’s the audio setup which is enhanced by Nahimic’s AI-based audio solution for different sound profiles and some of the features can improve your gaming experience. The Lenovo Legion 5i Pro (82RF00MGIN) is priced at INR 1,64,990 in India. ...Read MoreMORE SPECIFICATIONSProcessor : 12th Gen Intel Core i7-12700H 14 core processor with 2.3 GHz clock speedDisplay : 16″ (2560 x 1600) screen, 165 Hz refresh rateOS : Windows 11 HomeMemory : 16 GB DDR5GB RAM & 1 TB SSDGraphics Processor : 6 GB DDR6 NVIDIA GeForce RTX 3060 Graphics cardBody : 360 x 264 x 20 mm dimension & 2.49 kg weightPrice : ₹ 164,990AVAILABLE ₹ 164,990BUY NOW',\n",
       " 'Dell not only has gaming laptops under the Dell Gaming brand but also under the Alienware brand. Together, both of them make up for a diverse set of configurations featuring the best hardware that money can buy. If you’re looking for the best Alienware gaming laptop with an AMD processor then the aptly named Alienware m15 R5 Ryzen Edition should be first on your list. This machine features the AMD Ryzen 7 5800H which is an 8-Core / 16-Thread CPU and for the graphics bit, it has an NVIDIA RTX 3060. Being an Alienware machine, you can safely assume that the TGP on the RTX 3060 will be scaled to its maximum allowed limits. As for the networking bit, the Alienware m15 R5 Ryzen Edition comes with Killer Wireless Wi-Fi 6E (1650) which is a top-tier Wi-Fi card that allows you to prioritise networking traffic so that your online gaming experience remains unhampered. As for the display, the Alienware m15 R5 Ryzen Edition comes with a 15.6-inch FHD panel tweaked for a refresh rate of 165 Hz. The Alienware m15 R5 Ryzen Edition retails for INR 1,44,989 in India. ...Read MoreMORE SPECIFICATIONSProcessor : AMD Ryzen R7-5800H 8 core processor with 4.40 GHz clock speedDisplay : 15.6″ (1920 x 1080) screen, 165Hz refresh rateOS : Windows 11 HomeMemory : 16 GB DDR4GB RAM & 512 GB SSDGraphics Processor : 6 GB DDR6 NVIDIA GeForce RTX 3060 Graphics cardBody : 356.2 x 272.5 x 22.85 mm dimension & 2.69 kg weightPrice : ₹ 174,000AVAILABLE ₹ 174,000BUY NOW']"
      ]
     },
     "execution_count": 174,
     "metadata": {},
     "output_type": "execute_result"
    }
   ],
   "source": [
    "for i in des:\n",
    "   \n",
    "    Products_Description.append(str(i.text).replace(\"\\n\",\"\"))\n",
    "Products_Description"
   ]
  },
  {
   "cell_type": "code",
   "execution_count": 175,
   "id": "ee5e2b75",
   "metadata": {},
   "outputs": [
    {
     "data": {
      "text/plain": [
       "10"
      ]
     },
     "execution_count": 175,
     "metadata": {},
     "output_type": "execute_result"
    }
   ],
   "source": [
    "pri=driver.find_elements(By.XPATH,\"//td[@class='smprice']\")\n",
    "len(pri)"
   ]
  },
  {
   "cell_type": "code",
   "execution_count": 176,
   "id": "88034bc4",
   "metadata": {},
   "outputs": [
    {
     "data": {
      "text/plain": [
       "['N/A',\n",
       " '₹ 359,990',\n",
       " '₹ 389,990',\n",
       " '₹ 229,990',\n",
       " '₹ 177,590',\n",
       " '₹ 172,999',\n",
       " '₹ 188,990',\n",
       " '₹ 124,990',\n",
       " '₹ 164,990',\n",
       " '₹ 174,000']"
      ]
     },
     "execution_count": 176,
     "metadata": {},
     "output_type": "execute_result"
    }
   ],
   "source": [
    "for i in pri:\n",
    "   \n",
    "    Price.append(str(i.text).replace(\"\\n\",\"\"))\n",
    "Price"
   ]
  },
  {
   "cell_type": "code",
   "execution_count": 177,
   "id": "0367bd05",
   "metadata": {},
   "outputs": [
    {
     "data": {
      "text/html": [
       "<div>\n",
       "<style scoped>\n",
       "    .dataframe tbody tr th:only-of-type {\n",
       "        vertical-align: middle;\n",
       "    }\n",
       "\n",
       "    .dataframe tbody tr th {\n",
       "        vertical-align: top;\n",
       "    }\n",
       "\n",
       "    .dataframe thead th {\n",
       "        text-align: right;\n",
       "    }\n",
       "</style>\n",
       "<table border=\"1\" class=\"dataframe\">\n",
       "  <thead>\n",
       "    <tr style=\"text-align: right;\">\n",
       "      <th></th>\n",
       "      <th>Brands</th>\n",
       "      <th>Price</th>\n",
       "      <th>Specification</th>\n",
       "      <th>Description</th>\n",
       "    </tr>\n",
       "  </thead>\n",
       "  <tbody>\n",
       "    <tr>\n",
       "      <th>0</th>\n",
       "      <td>1.MSI Titan GT77-12UHS</td>\n",
       "      <td>N/A</td>\n",
       "      <td>Windows 11 Home17.3\" (3840 x 2160)12th Gen Int...</td>\n",
       "      <td>The very best MSI gaming laptop featuring an I...</td>\n",
       "    </tr>\n",
       "    <tr>\n",
       "      <th>1</th>\n",
       "      <td>2.Lenovo Legion 7</td>\n",
       "      <td>₹ 359,990</td>\n",
       "      <td>Windows 11 Home16\" (2560 x 1600)12th Gen Intel...</td>\n",
       "      <td>The second Intel Core i9 laptop on our list is...</td>\n",
       "    </tr>\n",
       "    <tr>\n",
       "      <th>2</th>\n",
       "      <td>3.Alienware X17 R2</td>\n",
       "      <td>₹ 389,990</td>\n",
       "      <td>Windows 11 Home17.3\" (1920 x 1080)12th Gen Int...</td>\n",
       "      <td>Alienware, the premium gaming brand from Dell ...</td>\n",
       "    </tr>\n",
       "    <tr>\n",
       "      <th>3</th>\n",
       "      <td>4.Acer Predator Triton 500 SE PT516-52s</td>\n",
       "      <td>₹ 229,990</td>\n",
       "      <td>Windows 1116\" (2560 x 1600)12th Gen Intel Core...</td>\n",
       "      <td>The Predator lineup from Acer has shown great ...</td>\n",
       "    </tr>\n",
       "    <tr>\n",
       "      <th>4</th>\n",
       "      <td>5.Omen By HP (16-B1371TX)</td>\n",
       "      <td>₹ 177,590</td>\n",
       "      <td>Windows 11 Home16.1\" (2560 x 1440)12th Gen Int...</td>\n",
       "      <td>Omen by HP is a premium gaming lineup which is...</td>\n",
       "    </tr>\n",
       "    <tr>\n",
       "      <th>5</th>\n",
       "      <td>6.Acer Predator Helios 300 AN515-45</td>\n",
       "      <td>₹ 172,999</td>\n",
       "      <td>Windows 11 Home15.6\" (2560 x 1440)AMD Ryzen 9-...</td>\n",
       "      <td>Acer Predator Helios 300 AN515-45 is the best ...</td>\n",
       "    </tr>\n",
       "    <tr>\n",
       "      <th>6</th>\n",
       "      <td>7.MSI Delta 15 (A5EFK-083IN)</td>\n",
       "      <td>₹ 188,990</td>\n",
       "      <td>Windows 11 Home15.6\" (1920 x 1080)AMD 5th Gen ...</td>\n",
       "      <td>The best MSI gaming laptop with an AMD process...</td>\n",
       "    </tr>\n",
       "    <tr>\n",
       "      <th>7</th>\n",
       "      <td>8.Omen By HP (16-C0141AX)</td>\n",
       "      <td>₹ 124,990</td>\n",
       "      <td>Windows 11 Home16.1\" (2560 x 1440)AMD Ryzen™ 9...</td>\n",
       "      <td>Another worthy gaming laptop from the Omen lin...</td>\n",
       "    </tr>\n",
       "    <tr>\n",
       "      <th>8</th>\n",
       "      <td>9.Lenovo Legion 5i Pro (82RF00MGIN)</td>\n",
       "      <td>₹ 164,990</td>\n",
       "      <td>Windows 11 Home16\" (2560 x 1600)12th Gen Intel...</td>\n",
       "      <td>Lenovo has gone a little mainstream with their...</td>\n",
       "    </tr>\n",
       "    <tr>\n",
       "      <th>9</th>\n",
       "      <td>10.Alienware M15 R5 Ryzen Edition Icc-C780001win</td>\n",
       "      <td>₹ 174,000</td>\n",
       "      <td>Windows 11 Home15.6\" (1920 x 1080)AMD Ryzen R7...</td>\n",
       "      <td>Dell not only has gaming laptops under the Del...</td>\n",
       "    </tr>\n",
       "  </tbody>\n",
       "</table>\n",
       "</div>"
      ],
      "text/plain": [
       "                                             Brands      Price  \\\n",
       "0                            1.MSI Titan GT77-12UHS        N/A   \n",
       "1                                 2.Lenovo Legion 7  ₹ 359,990   \n",
       "2                                3.Alienware X17 R2  ₹ 389,990   \n",
       "3           4.Acer Predator Triton 500 SE PT516-52s  ₹ 229,990   \n",
       "4                         5.Omen By HP (16-B1371TX)  ₹ 177,590   \n",
       "5               6.Acer Predator Helios 300 AN515-45  ₹ 172,999   \n",
       "6                      7.MSI Delta 15 (A5EFK-083IN)  ₹ 188,990   \n",
       "7                         8.Omen By HP (16-C0141AX)  ₹ 124,990   \n",
       "8               9.Lenovo Legion 5i Pro (82RF00MGIN)  ₹ 164,990   \n",
       "9  10.Alienware M15 R5 Ryzen Edition Icc-C780001win  ₹ 174,000   \n",
       "\n",
       "                                       Specification  \\\n",
       "0  Windows 11 Home17.3\" (3840 x 2160)12th Gen Int...   \n",
       "1  Windows 11 Home16\" (2560 x 1600)12th Gen Intel...   \n",
       "2  Windows 11 Home17.3\" (1920 x 1080)12th Gen Int...   \n",
       "3  Windows 1116\" (2560 x 1600)12th Gen Intel Core...   \n",
       "4  Windows 11 Home16.1\" (2560 x 1440)12th Gen Int...   \n",
       "5  Windows 11 Home15.6\" (2560 x 1440)AMD Ryzen 9-...   \n",
       "6  Windows 11 Home15.6\" (1920 x 1080)AMD 5th Gen ...   \n",
       "7  Windows 11 Home16.1\" (2560 x 1440)AMD Ryzen™ 9...   \n",
       "8  Windows 11 Home16\" (2560 x 1600)12th Gen Intel...   \n",
       "9  Windows 11 Home15.6\" (1920 x 1080)AMD Ryzen R7...   \n",
       "\n",
       "                                         Description  \n",
       "0  The very best MSI gaming laptop featuring an I...  \n",
       "1  The second Intel Core i9 laptop on our list is...  \n",
       "2  Alienware, the premium gaming brand from Dell ...  \n",
       "3  The Predator lineup from Acer has shown great ...  \n",
       "4  Omen by HP is a premium gaming lineup which is...  \n",
       "5  Acer Predator Helios 300 AN515-45 is the best ...  \n",
       "6  The best MSI gaming laptop with an AMD process...  \n",
       "7  Another worthy gaming laptop from the Omen lin...  \n",
       "8  Lenovo has gone a little mainstream with their...  \n",
       "9  Dell not only has gaming laptops under the Del...  "
      ]
     },
     "execution_count": 177,
     "metadata": {},
     "output_type": "execute_result"
    }
   ],
   "source": [
    "digit_lap=pd.DataFrame({'Brands':Brands[0:10],'Price':Price[0:10],'Specification':Specification[0:10],'Description':Products_Description[0:10]})\n",
    "digit_lap"
   ]
  },
  {
   "cell_type": "markdown",
   "id": "33707b2c",
   "metadata": {},
   "source": [
    "### Q3.  Write a python program to access the search bar and search button on images.google.com and scrape 10 images each for keywords ‘fruits’, ‘cars’ and ‘Machine Learning’, ‘Guitar’, ‘Cakes’."
   ]
  },
  {
   "cell_type": "code",
   "execution_count": 194,
   "id": "7b871bdc",
   "metadata": {},
   "outputs": [],
   "source": [
    "driver=webdriver.Chrome(r\"C:\\Users\\Mauna\\Downloads\\chromedriver_win32\\chromedriver.exe\")"
   ]
  },
  {
   "cell_type": "code",
   "execution_count": 195,
   "id": "baec4fdd",
   "metadata": {},
   "outputs": [],
   "source": [
    "# Opening url in Chrome browser\n",
    "url='https://images.google.com/'\n",
    "driver.get(url)"
   ]
  },
  {
   "cell_type": "markdown",
   "id": "b77e211d",
   "metadata": {},
   "source": [
    "## Searching and extracting for Fruits."
   ]
  },
  {
   "cell_type": "code",
   "execution_count": 196,
   "id": "27face49",
   "metadata": {},
   "outputs": [],
   "source": [
    "# Finding Search bar website by class\n",
    "Search=driver.find_element(By.XPATH,'/html/body/div[1]/div[3]/form/div[1]/div[1]/div[1]/div/div[2]/textarea')\n",
    "# Clearing any previous input in search bar\n",
    "Search.clear()\n",
    "# Feeding input 'Fruits' in search bar\n",
    "Search.send_keys('Fruits')\n",
    "# Finding Search button for clicking through class name\n",
    "Search_button=driver.find_element(By.CLASS_NAME,'zgAlFc')\n",
    "# Clicking search button\n",
    "Search_button.click()"
   ]
  },
  {
   "cell_type": "code",
   "execution_count": 197,
   "id": "3bff0742",
   "metadata": {},
   "outputs": [],
   "source": [
    "# Scrolling window using ScrollBy method from 0 pixel to 25000 pixel\n",
    "driver.execute_script(\"window.scrollBy(0,25000)\",\"\")"
   ]
  },
  {
   "cell_type": "code",
   "execution_count": 198,
   "id": "e9239f3b",
   "metadata": {},
   "outputs": [],
   "source": [
    "URL=[]\n",
    "images= driver.find_elements(By.XPATH,'//img[@class=\"rg_i Q4LuWd\"]')\n",
    "for image in images:\n",
    "    source= image.get_attribute('src')\n",
    "    if source is not None:\n",
    "        if(source[0:4] == 'http'):\n",
    "            URL.append(source)"
   ]
  },
  {
   "cell_type": "code",
   "execution_count": 199,
   "id": "4532b48a",
   "metadata": {},
   "outputs": [
    {
     "data": {
      "text/plain": [
       "55"
      ]
     },
     "execution_count": 199,
     "metadata": {},
     "output_type": "execute_result"
    }
   ],
   "source": [
    "len(URL)"
   ]
  },
  {
   "cell_type": "code",
   "execution_count": 217,
   "id": "feaf3e10",
   "metadata": {},
   "outputs": [
    {
     "name": "stdout",
     "output_type": "stream",
     "text": [
      "Downloading 0 of 10 images\n",
      "Downloading 1 of 10 images\n",
      "Downloading 2 of 10 images\n",
      "Downloading 3 of 10 images\n",
      "Downloading 4 of 10 images\n",
      "Downloading 5 of 10 images\n",
      "Downloading 6 of 10 images\n",
      "Downloading 7 of 10 images\n",
      "Downloading 8 of 10 images\n",
      "Downloading 9 of 10 images\n"
     ]
    }
   ],
   "source": [
    "images = driver.find_elements(By.XPATH,'//img[@class=\"rg_i Q4LuWd\"]')\n",
    "\n",
    "img_urls = []\n",
    "img_data = []\n",
    "for image in images:\n",
    "    source= image.get_attribute('src')\n",
    "    if source is not None:\n",
    "        if(source[0:4] == 'http'):\n",
    "            img_urls.append(source)\n",
    "            \n",
    "for i in range(len(img_urls)):\n",
    "    if i >= 10:\n",
    "        break\n",
    "    print(\"Downloading {0} of {1} images\" .format(i, 10))\n",
    "    response= requests.get(img_urls[i])\n",
    "    file = open(r\"C:\\Users\\Mauna\\Downloads\\Fruits\"+str(i)+\".jpg\", \"wb\")\n",
    "    file.write(response.content)"
   ]
  },
  {
   "cell_type": "code",
   "execution_count": 209,
   "id": "07f91144",
   "metadata": {},
   "outputs": [],
   "source": [
    "# Finding cars\n",
    "Search=driver.find_element(By.XPATH,'/html/body/c-wiz/c-wiz/div/div[3]/div[2]/div/div[1]/form/div[1]/div[2]/div/div[2]/input')\n",
    "# Clearing any previous input in search bar\n",
    "Search.clear()\n",
    "# Feeding input 'Cars' in search bar\n",
    "Search.send_keys('Cars')\n",
    "# Finding Search button for clicking through class name\n",
    "Search_button=driver.find_element(By.CLASS_NAME,\"n6h3Rc\")\n",
    "# Clicking search button\n",
    "Search_button.click()"
   ]
  },
  {
   "cell_type": "code",
   "execution_count": 210,
   "id": "60e03263",
   "metadata": {},
   "outputs": [],
   "source": [
    "# Scrolling window using ScrollBy method from 0 pixel to 25000 pixel\n",
    "driver.execute_script(\"window.scrollBy(0,50000)\",\"\")"
   ]
  },
  {
   "cell_type": "code",
   "execution_count": 212,
   "id": "c00fdc17",
   "metadata": {},
   "outputs": [],
   "source": [
    "URL=[]\n",
    "images= driver.find_elements(By.XPATH,'//img[@class=\"rg_i Q4LuWd\"]')\n",
    "for image in images:\n",
    "    source= image.get_attribute('src')\n",
    "    if source is not None:\n",
    "        if(source[0:4] == 'http'):\n",
    "            URL.append(source)"
   ]
  },
  {
   "cell_type": "code",
   "execution_count": 216,
   "id": "10690d10",
   "metadata": {},
   "outputs": [
    {
     "name": "stdout",
     "output_type": "stream",
     "text": [
      "Downloading 0 of 10 images\n",
      "Downloading 1 of 10 images\n",
      "Downloading 2 of 10 images\n",
      "Downloading 3 of 10 images\n",
      "Downloading 4 of 10 images\n",
      "Downloading 5 of 10 images\n",
      "Downloading 6 of 10 images\n",
      "Downloading 7 of 10 images\n",
      "Downloading 8 of 10 images\n",
      "Downloading 9 of 10 images\n"
     ]
    }
   ],
   "source": [
    "images = driver.find_elements(By.XPATH,'//img[@class=\"rg_i Q4LuWd\"]')\n",
    "\n",
    "img_urls = []\n",
    "img_data = []\n",
    "for image in images:\n",
    "    source= image.get_attribute('src')\n",
    "    if source is not None:\n",
    "        if(source[0:4] == 'http'):\n",
    "            img_urls.append(source)\n",
    "            \n",
    "for i in range(len(img_urls)):\n",
    "    if i >= 10:\n",
    "        break\n",
    "    print(\"Downloading {0} of {1} images\" .format(i, 10))\n",
    "    response= requests.get(img_urls[i])\n",
    "    file = open(r\"C:\\Users\\Mauna\\Downloads\\Fruits\"+str(i)+\".jpg\", \"wb\")\n",
    "    file.write(response.content)"
   ]
  },
  {
   "cell_type": "markdown",
   "id": "2983cd4b",
   "metadata": {},
   "source": [
    "# SEARCHING FOR MACHINE LEARNING"
   ]
  },
  {
   "cell_type": "code",
   "execution_count": 218,
   "id": "4ff046ec",
   "metadata": {},
   "outputs": [],
   "source": [
    "driver=webdriver.Chrome(r\"C:\\Users\\Mauna\\Downloads\\chromedriver_win32\\chromedriver.exe\")"
   ]
  },
  {
   "cell_type": "code",
   "execution_count": 221,
   "id": "1ec29de1",
   "metadata": {},
   "outputs": [],
   "source": [
    "# Opening url in Chrome browser\n",
    "url='https://images.google.com/'\n",
    "driver.get(url)"
   ]
  },
  {
   "cell_type": "code",
   "execution_count": 223,
   "id": "ecbc7e28",
   "metadata": {},
   "outputs": [],
   "source": [
    "# Finding Search bar website by class\n",
    "Search=driver.find_element(By.XPATH,'/html/body/div[1]/div[3]/form/div[1]/div[1]/div[1]/div/div[2]/textarea')\n",
    "# Clearing any previous input in search bar\n",
    "Search.clear()\n",
    "# Feeding input 'Machine Learning' in search bar\n",
    "Search.send_keys('Machine Learning')\n",
    "# Finding Search button for clicking through class name\n",
    "Search_button=driver.find_element(By.CLASS_NAME,'zgAlFc')\n",
    "# Clicking search button\n",
    "Search_button.click()"
   ]
  },
  {
   "cell_type": "code",
   "execution_count": 224,
   "id": "a2af099b",
   "metadata": {},
   "outputs": [],
   "source": [
    "# Scrolling window using ScrollBy method from 0 pixel to 2500 pixel\n",
    "driver.execute_script(\"window.scrollBy(0,2500)\",\"\")"
   ]
  },
  {
   "cell_type": "code",
   "execution_count": 226,
   "id": "45fd97e8",
   "metadata": {},
   "outputs": [],
   "source": [
    "URL=[]\n",
    "images= driver.find_elements(By.XPATH,'//img[@class=\"rg_i Q4LuWd\"]')\n",
    "for image in images:\n",
    "    source= image.get_attribute('src')\n",
    "    if source is not None:\n",
    "        if(source[0:4] == 'http'):\n",
    "            URL.append(source)"
   ]
  },
  {
   "cell_type": "code",
   "execution_count": 230,
   "id": "c6771743",
   "metadata": {},
   "outputs": [
    {
     "name": "stdout",
     "output_type": "stream",
     "text": [
      "Downloading 0 of 10 images\n",
      "Downloading 1 of 10 images\n",
      "Downloading 2 of 10 images\n",
      "Downloading 3 of 10 images\n",
      "Downloading 4 of 10 images\n",
      "Downloading 5 of 10 images\n",
      "Downloading 6 of 10 images\n",
      "Downloading 7 of 10 images\n",
      "Downloading 8 of 10 images\n",
      "Downloading 9 of 10 images\n"
     ]
    }
   ],
   "source": [
    "images = driver.find_elements(By.XPATH,'//img[@class=\"rg_i Q4LuWd\"]')\n",
    "\n",
    "img_urls = []\n",
    "img_data = []\n",
    "for image in images:\n",
    "    source= image.get_attribute('src')\n",
    "    if source is not None:\n",
    "        if(source[0:4] == 'http'):\n",
    "            img_urls.append(source)\n",
    "            \n",
    "for i in range(len(img_urls)):\n",
    "    if i >= 10:\n",
    "        break\n",
    "    print(\"Downloading {0} of {1} images\" .format(i, 10))\n",
    "    response= requests.get(img_urls[i])\n",
    "    file = open(r\"C:\\Users\\Mauna\\Downloads\\Fruits\"+str(i)+\".jpg\", \"wb\")\n",
    "    file.write(response.content)"
   ]
  },
  {
   "cell_type": "markdown",
   "id": "8878710a",
   "metadata": {},
   "source": [
    "### Searching for Guitars"
   ]
  },
  {
   "cell_type": "code",
   "execution_count": 231,
   "id": "679f892e",
   "metadata": {},
   "outputs": [],
   "source": [
    "driver=webdriver.Chrome(r\"C:\\Users\\Mauna\\Downloads\\chromedriver_win32\\chromedriver.exe\")"
   ]
  },
  {
   "cell_type": "code",
   "execution_count": 232,
   "id": "9ababdcf",
   "metadata": {},
   "outputs": [],
   "source": [
    "# Opening url in Chrome browser\n",
    "url='https://images.google.com/'\n",
    "driver.get(url)"
   ]
  },
  {
   "cell_type": "code",
   "execution_count": 233,
   "id": "367ba3e6",
   "metadata": {},
   "outputs": [],
   "source": [
    "# Finding Search bar website by class\n",
    "Search=driver.find_element(By.XPATH,'/html/body/div[1]/div[3]/form/div[1]/div[1]/div[1]/div/div[2]/textarea')\n",
    "# Clearing any previous input in search bar\n",
    "Search.clear()\n",
    "# Feeding input 'Guitars' in search bar\n",
    "Search.send_keys('Guitars')\n",
    "# Finding Search button for clicking through class name\n",
    "Search_button=driver.find_element(By.CLASS_NAME,'zgAlFc')\n",
    "# Clicking search button\n",
    "Search_button.click()"
   ]
  },
  {
   "cell_type": "code",
   "execution_count": 234,
   "id": "9e5b6c81",
   "metadata": {},
   "outputs": [],
   "source": [
    "# Scrolling window using ScrollBy method from 0 pixel to 2500 pixel\n",
    "driver.execute_script(\"window.scrollBy(0,2500)\",\"\")"
   ]
  },
  {
   "cell_type": "code",
   "execution_count": 235,
   "id": "5bd2733e",
   "metadata": {},
   "outputs": [],
   "source": [
    "URL=[]\n",
    "images= driver.find_elements(By.XPATH,'//img[@class=\"rg_i Q4LuWd\"]')\n",
    "for image in images:\n",
    "    source= image.get_attribute('src')\n",
    "    if source is not None:\n",
    "        if(source[0:4] == 'http'):\n",
    "            URL.append(source)"
   ]
  },
  {
   "cell_type": "code",
   "execution_count": 236,
   "id": "4141a884",
   "metadata": {},
   "outputs": [
    {
     "name": "stdout",
     "output_type": "stream",
     "text": [
      "Downloading 0 of 10 images\n",
      "Downloading 1 of 10 images\n",
      "Downloading 2 of 10 images\n",
      "Downloading 3 of 10 images\n",
      "Downloading 4 of 10 images\n",
      "Downloading 5 of 10 images\n",
      "Downloading 6 of 10 images\n",
      "Downloading 7 of 10 images\n",
      "Downloading 8 of 10 images\n",
      "Downloading 9 of 10 images\n"
     ]
    }
   ],
   "source": [
    "images = driver.find_elements(By.XPATH,'//img[@class=\"rg_i Q4LuWd\"]')\n",
    "\n",
    "img_urls = []\n",
    "img_data = []\n",
    "for image in images:\n",
    "    source= image.get_attribute('src')\n",
    "    if source is not None:\n",
    "        if(source[0:4] == 'http'):\n",
    "            img_urls.append(source)\n",
    "            \n",
    "for i in range(len(img_urls)):\n",
    "    if i >= 10:\n",
    "        break\n",
    "    print(\"Downloading {0} of {1} images\" .format(i, 10))\n",
    "    response= requests.get(img_urls[i])\n",
    "    file = open(r\"C:\\Users\\Mauna\\Downloads\\Fruits\"+str(i)+\".jpg\", \"wb\")\n",
    "    file.write(response.content)"
   ]
  },
  {
   "cell_type": "markdown",
   "id": "039927a5",
   "metadata": {},
   "source": [
    "#### Searching for CAKES"
   ]
  },
  {
   "cell_type": "code",
   "execution_count": 237,
   "id": "617c14af",
   "metadata": {},
   "outputs": [],
   "source": [
    "driver=webdriver.Chrome(r\"C:\\Users\\Mauna\\Downloads\\chromedriver_win32\\chromedriver.exe\")"
   ]
  },
  {
   "cell_type": "code",
   "execution_count": 238,
   "id": "c0147ba9",
   "metadata": {},
   "outputs": [],
   "source": [
    "# Opening url in Chrome browser\n",
    "url='https://images.google.com/'\n",
    "driver.get(url)"
   ]
  },
  {
   "cell_type": "code",
   "execution_count": 239,
   "id": "fd8d15ea",
   "metadata": {},
   "outputs": [],
   "source": [
    "# Finding Search bar website by class\n",
    "Search=driver.find_element(By.XPATH,'/html/body/div[1]/div[3]/form/div[1]/div[1]/div[1]/div/div[2]/textarea')\n",
    "# Clearing any previous input in search bar\n",
    "Search.clear()\n",
    "# Feeding input 'CAKES' in search bar\n",
    "Search.send_keys('CAKES')\n",
    "# Finding Search button for clicking through class name\n",
    "Search_button=driver.find_element(By.CLASS_NAME,'zgAlFc')\n",
    "# Clicking search button\n",
    "Search_button.click()"
   ]
  },
  {
   "cell_type": "code",
   "execution_count": 240,
   "id": "32413043",
   "metadata": {},
   "outputs": [],
   "source": [
    "# Scrolling window using ScrollBy method from 0 pixel to 2500 pixel\n",
    "driver.execute_script(\"window.scrollBy(0,2500)\",\"\")"
   ]
  },
  {
   "cell_type": "code",
   "execution_count": 241,
   "id": "2dd4e979",
   "metadata": {},
   "outputs": [],
   "source": [
    "URL=[]\n",
    "images= driver.find_elements(By.XPATH,'//img[@class=\"rg_i Q4LuWd\"]')\n",
    "for image in images:\n",
    "    source= image.get_attribute('src')\n",
    "    if source is not None:\n",
    "        if(source[0:4] == 'http'):\n",
    "            URL.append(source)"
   ]
  },
  {
   "cell_type": "code",
   "execution_count": 242,
   "id": "6a7f4628",
   "metadata": {},
   "outputs": [
    {
     "name": "stdout",
     "output_type": "stream",
     "text": [
      "Downloading 0 of 10 images\n",
      "Downloading 1 of 10 images\n",
      "Downloading 2 of 10 images\n",
      "Downloading 3 of 10 images\n",
      "Downloading 4 of 10 images\n",
      "Downloading 5 of 10 images\n",
      "Downloading 6 of 10 images\n",
      "Downloading 7 of 10 images\n",
      "Downloading 8 of 10 images\n",
      "Downloading 9 of 10 images\n"
     ]
    }
   ],
   "source": [
    "images = driver.find_elements(By.XPATH,'//img[@class=\"rg_i Q4LuWd\"]')\n",
    "\n",
    "img_urls = []\n",
    "img_data = []\n",
    "for image in images:\n",
    "    source= image.get_attribute('src')\n",
    "    if source is not None:\n",
    "        if(source[0:4] == 'http'):\n",
    "            img_urls.append(source)\n",
    "            \n",
    "for i in range(len(img_urls)):\n",
    "    if i >= 10:\n",
    "        break\n",
    "    print(\"Downloading {0} of {1} images\" .format(i, 10))\n",
    "    response= requests.get(img_urls[i])\n",
    "    file = open(r\"C:\\Users\\Mauna\\Downloads\\Fruits\"+str(i)+\".jpg\", \"wb\")\n",
    "    file.write(response.content)"
   ]
  },
  {
   "cell_type": "markdown",
   "id": "ec83402f",
   "metadata": {},
   "source": [
    "# Q7. scrape the details for all billionaires from www.forbes.com."
   ]
  },
  {
   "cell_type": "code",
   "execution_count": 263,
   "id": "163c13de",
   "metadata": {},
   "outputs": [],
   "source": [
    "driver=webdriver.Chrome(r\"C:\\Users\\Mauna\\Downloads\\chromedriver_win32\\chromedriver.exe\")"
   ]
  },
  {
   "cell_type": "code",
   "execution_count": 268,
   "id": "68f90a17",
   "metadata": {},
   "outputs": [],
   "source": [
    "# Opening url in Chrome browser\n",
    "url='https://www.forbes.com/'\n",
    "driver.get(url)"
   ]
  },
  {
   "cell_type": "code",
   "execution_count": 275,
   "id": "85fad0c2",
   "metadata": {},
   "outputs": [],
   "source": [
    "menu=driver.find_element(By.ID,\"globalHeaderMenu\")\n",
    "menu.click()"
   ]
  },
  {
   "cell_type": "code",
   "execution_count": 276,
   "id": "3e9cfa4e",
   "metadata": {},
   "outputs": [],
   "source": [
    "bill=driver.find_element(By.XPATH,'/html/body/div[1]/header/nav/div[1]/div[1]/div/div[2]/ul/li[2]/div[1]')\n",
    "bill.click()"
   ]
  },
  {
   "cell_type": "code",
   "execution_count": 277,
   "id": "4eef8cbe",
   "metadata": {},
   "outputs": [],
   "source": [
    "all_bill=driver.find_element(By.XPATH,'/html/body/div[1]/header/nav/div[1]/div[1]/div/div[2]/ul/li[2]/div[2]/div[2]/a')\n",
    "all_bill.click()"
   ]
  },
  {
   "cell_type": "code",
   "execution_count": 279,
   "id": "ce12d234",
   "metadata": {},
   "outputs": [],
   "source": [
    "world_bill=driver.find_element(By.XPATH,'/html/body/div[1]/div[2]/main/div/section/div[2]/div/div/div/div[1]/div/div/a/h2')\n",
    "world_bill.click()"
   ]
  },
  {
   "cell_type": "code",
   "execution_count": 293,
   "id": "ff86b25a",
   "metadata": {},
   "outputs": [],
   "source": [
    "rank=[]\n",
    "name=[]\n",
    "networth=[]\n",
    "age=[]\n",
    "country=[]\n",
    "source=[]\n",
    "industry=[]\n",
    "rank_details=driver.find_elements(By.XPATH,'//div[@class=\"TableRow_cell__db-hv Table_cell__houv9\"][1]')\n",
    "for i in rank_details:\n",
    "    ranks=i.text\n",
    "    rank.append(ranks)\n",
    "name_details=driver.find_elements(By.XPATH,'//div[@class=\"TableRow_cell__db-hv Table_cell__houv9\"][2]')\n",
    "for i in name_details:\n",
    "    names=i.text\n",
    "    name.append(names)\n",
    "networth_details=driver.find_elements(By.XPATH,'//div[@class=\"TableRow_cell__db-hv Table_cell__houv9\"][3]')\n",
    "for i in networth_details:\n",
    "    networths=i.text\n",
    "    networth.append(networths)\n",
    "age_details=driver.find_elements(By.XPATH,'//div[@class=\"TableRow_cell__db-hv Table_cell__houv9\"][4]')\n",
    "for i in age_details:\n",
    "    ages=i.text\n",
    "    age.append(ages)\n",
    "country_details=driver.find_elements(By.XPATH,'//div[@class=\"TableRow_cell__db-hv Table_cell__houv9\"][5]')\n",
    "for i in country_details:\n",
    "    countries=i.text\n",
    "    country.append(countries)\n",
    "source_details=driver.find_elements(By.XPATH,'//div[@class=\"TableRow_cell__db-hv Table_cell__houv9\"][6]')\n",
    "for i in source_details:\n",
    "    sources=i.text\n",
    "    source.append(sources)\n",
    "industry_details=driver.find_elements(By.XPATH,'//div[@class=\"TableRow_cell__db-hv Table_cell__houv9\"][7]')\n",
    "for i in industry_details:\n",
    "    industries=i.text\n",
    "    industry.append(industries)"
   ]
  },
  {
   "cell_type": "code",
   "execution_count": 294,
   "id": "b660e796",
   "metadata": {},
   "outputs": [
    {
     "name": "stdout",
     "output_type": "stream",
     "text": [
      "200 200 200 200 200 200 200\n"
     ]
    }
   ],
   "source": [
    "print(len(rank),len(name),len(networth),len(age),len(country),len(source),len(industry))"
   ]
  },
  {
   "cell_type": "code",
   "execution_count": 295,
   "id": "633c87e5",
   "metadata": {},
   "outputs": [
    {
     "data": {
      "text/html": [
       "<div>\n",
       "<style scoped>\n",
       "    .dataframe tbody tr th:only-of-type {\n",
       "        vertical-align: middle;\n",
       "    }\n",
       "\n",
       "    .dataframe tbody tr th {\n",
       "        vertical-align: top;\n",
       "    }\n",
       "\n",
       "    .dataframe thead th {\n",
       "        text-align: right;\n",
       "    }\n",
       "</style>\n",
       "<table border=\"1\" class=\"dataframe\">\n",
       "  <thead>\n",
       "    <tr style=\"text-align: right;\">\n",
       "      <th></th>\n",
       "      <th>RANK</th>\n",
       "      <th>NAME</th>\n",
       "      <th>NETWORTH</th>\n",
       "      <th>AGE</th>\n",
       "      <th>COUNTRY</th>\n",
       "      <th>SOURCE</th>\n",
       "      <th>INDUSTRY</th>\n",
       "    </tr>\n",
       "  </thead>\n",
       "  <tbody>\n",
       "    <tr>\n",
       "      <th>0</th>\n",
       "      <td>1</td>\n",
       "      <td>Bernard Arnault &amp; family</td>\n",
       "      <td>$211 B</td>\n",
       "      <td>74</td>\n",
       "      <td>France</td>\n",
       "      <td>LVMH</td>\n",
       "      <td>Fashion &amp; Retail</td>\n",
       "    </tr>\n",
       "    <tr>\n",
       "      <th>1</th>\n",
       "      <td>2</td>\n",
       "      <td>Elon Musk</td>\n",
       "      <td>$180 B</td>\n",
       "      <td>51</td>\n",
       "      <td>United States</td>\n",
       "      <td>Tesla, SpaceX</td>\n",
       "      <td>Automotive</td>\n",
       "    </tr>\n",
       "    <tr>\n",
       "      <th>2</th>\n",
       "      <td>3</td>\n",
       "      <td>Jeff Bezos</td>\n",
       "      <td>$114 B</td>\n",
       "      <td>59</td>\n",
       "      <td>United States</td>\n",
       "      <td>Amazon</td>\n",
       "      <td>Technology</td>\n",
       "    </tr>\n",
       "    <tr>\n",
       "      <th>3</th>\n",
       "      <td>4</td>\n",
       "      <td>Larry Ellison</td>\n",
       "      <td>$107 B</td>\n",
       "      <td>78</td>\n",
       "      <td>United States</td>\n",
       "      <td>Oracle</td>\n",
       "      <td>Technology</td>\n",
       "    </tr>\n",
       "    <tr>\n",
       "      <th>4</th>\n",
       "      <td>5</td>\n",
       "      <td>Warren Buffett</td>\n",
       "      <td>$106 B</td>\n",
       "      <td>92</td>\n",
       "      <td>United States</td>\n",
       "      <td>Berkshire Hathaway</td>\n",
       "      <td>Finance &amp; Investments</td>\n",
       "    </tr>\n",
       "    <tr>\n",
       "      <th>...</th>\n",
       "      <td>...</td>\n",
       "      <td>...</td>\n",
       "      <td>...</td>\n",
       "      <td>...</td>\n",
       "      <td>...</td>\n",
       "      <td>...</td>\n",
       "      <td>...</td>\n",
       "    </tr>\n",
       "    <tr>\n",
       "      <th>195</th>\n",
       "      <td>195</td>\n",
       "      <td>Jin Baofang</td>\n",
       "      <td>$9.6 B</td>\n",
       "      <td>70</td>\n",
       "      <td>China</td>\n",
       "      <td>Solar panels</td>\n",
       "      <td>Energy</td>\n",
       "    </tr>\n",
       "    <tr>\n",
       "      <th>196</th>\n",
       "      <td>195</td>\n",
       "      <td>Luo Liguo &amp; family</td>\n",
       "      <td>$9.6 B</td>\n",
       "      <td>67</td>\n",
       "      <td>China</td>\n",
       "      <td>Chemicals</td>\n",
       "      <td>Manufacturing</td>\n",
       "    </tr>\n",
       "    <tr>\n",
       "      <th>197</th>\n",
       "      <td>195</td>\n",
       "      <td>Marijke Mars</td>\n",
       "      <td>$9.6 B</td>\n",
       "      <td>58</td>\n",
       "      <td>United States</td>\n",
       "      <td>Candy, pet food</td>\n",
       "      <td>Food &amp; Beverage</td>\n",
       "    </tr>\n",
       "    <tr>\n",
       "      <th>198</th>\n",
       "      <td>195</td>\n",
       "      <td>Pamela Mars</td>\n",
       "      <td>$9.6 B</td>\n",
       "      <td>62</td>\n",
       "      <td>United States</td>\n",
       "      <td>Candy, pet food</td>\n",
       "      <td>Food &amp; Beverage</td>\n",
       "    </tr>\n",
       "    <tr>\n",
       "      <th>199</th>\n",
       "      <td>195</td>\n",
       "      <td>Valerie Mars</td>\n",
       "      <td>$9.6 B</td>\n",
       "      <td>64</td>\n",
       "      <td>United States</td>\n",
       "      <td>Candy, pet food</td>\n",
       "      <td>Food &amp; Beverage</td>\n",
       "    </tr>\n",
       "  </tbody>\n",
       "</table>\n",
       "<p>200 rows × 7 columns</p>\n",
       "</div>"
      ],
      "text/plain": [
       "    RANK                      NAME NETWORTH AGE        COUNTRY  \\\n",
       "0      1  Bernard Arnault & family   $211 B  74         France   \n",
       "1      2                 Elon Musk   $180 B  51  United States   \n",
       "2      3                Jeff Bezos   $114 B  59  United States   \n",
       "3      4             Larry Ellison   $107 B  78  United States   \n",
       "4      5            Warren Buffett   $106 B  92  United States   \n",
       "..   ...                       ...      ...  ..            ...   \n",
       "195  195               Jin Baofang   $9.6 B  70          China   \n",
       "196  195        Luo Liguo & family   $9.6 B  67          China   \n",
       "197  195              Marijke Mars   $9.6 B  58  United States   \n",
       "198  195               Pamela Mars   $9.6 B  62  United States   \n",
       "199  195              Valerie Mars   $9.6 B  64  United States   \n",
       "\n",
       "                 SOURCE               INDUSTRY  \n",
       "0                  LVMH       Fashion & Retail  \n",
       "1         Tesla, SpaceX             Automotive  \n",
       "2                Amazon             Technology  \n",
       "3                Oracle             Technology  \n",
       "4    Berkshire Hathaway  Finance & Investments  \n",
       "..                  ...                    ...  \n",
       "195        Solar panels                 Energy  \n",
       "196           Chemicals          Manufacturing  \n",
       "197     Candy, pet food        Food & Beverage  \n",
       "198     Candy, pet food        Food & Beverage  \n",
       "199     Candy, pet food        Food & Beverage  \n",
       "\n",
       "[200 rows x 7 columns]"
      ]
     },
     "execution_count": 295,
     "metadata": {},
     "output_type": "execute_result"
    }
   ],
   "source": [
    "dataframe=pd.DataFrame({'RANK':rank,'NAME':name,'NETWORTH':networth,'AGE':age,'COUNTRY':country,'SOURCE':source,'INDUSTRY':industry})\n",
    "dataframe"
   ]
  },
  {
   "cell_type": "markdown",
   "id": "8396c817",
   "metadata": {},
   "source": [
    "## Q8 Write a program to extract at least 500 Comments, Comment upvote and time when comment was posted from youtube\n"
   ]
  },
  {
   "cell_type": "code",
   "execution_count": 353,
   "id": "ae709e00",
   "metadata": {},
   "outputs": [],
   "source": [
    "# Connecting to webdriver\n",
    "driver=webdriver.Chrome(r\"C:\\Users\\Mauna\\Downloads\\chromedriver_win32\\chromedriver.exe\")\n",
    "time.sleep(1)\n",
    "\n",
    "# Opening url in chrome browser\n",
    "url=\"https://www.youtube.com\"\n",
    "driver.get(url)\n",
    "time.sleep(3)"
   ]
  },
  {
   "cell_type": "code",
   "execution_count": 354,
   "id": "9659e132",
   "metadata": {},
   "outputs": [],
   "source": [
    "# Finding search menu by xpath\n",
    "Search=driver.find_element(By.XPATH,'//input[@id=\"search\"]') \n",
    "# Feeding input video name by user to search menu through send keys\n",
    "Search.send_keys('Naatu Naatu Full Video Song (Telugu) [4K] | RRR | NTR,Ram Charan | MM Keeravaani | SS Rajamouli')\n",
    "# Finding Search button for clicking through xpath\n",
    "Search_button=driver.find_element(By.XPATH,'//button[@id=\"search-icon-legacy\"]/yt-icon')  \n",
    "# Clicking search button\n",
    "Search_button.click()\n",
    "time.sleep(2)"
   ]
  },
  {
   "cell_type": "code",
   "execution_count": 355,
   "id": "0eb4ed9f",
   "metadata": {},
   "outputs": [],
   "source": [
    "# Clicking on video\n",
    "link = driver.find_element(By.XPATH,\"//yt-formatted-string[@class ='style-scope ytd-video-renderer']\")\n",
    "link.click()\n",
    "time.sleep(10)"
   ]
  },
  {
   "cell_type": "code",
   "execution_count": 356,
   "id": "cc1c643c",
   "metadata": {},
   "outputs": [],
   "source": [
    "# Scrolling window using ScrollBy method from 0 pixel to 1000 pixel\n",
    "for _ in range(1000):\n",
    "    driver.execute_script(\"window.scrollBy(0,1000)\")"
   ]
  },
  {
   "cell_type": "code",
   "execution_count": 368,
   "id": "4137f2b0",
   "metadata": {},
   "outputs": [],
   "source": [
    "# Empty lists to scrap data\n",
    "Comments = []\n",
    "Comment_posted_ago = []\n",
    "Timeline = []\n",
    "Likes = []\n",
    "No_of_Likes = []"
   ]
  },
  {
   "cell_type": "code",
   "execution_count": 369,
   "id": "97ed6598",
   "metadata": {},
   "outputs": [
    {
     "name": "stderr",
     "output_type": "stream",
     "text": [
      "100%|██████████████████████████████████████████████████████████████████████████████| 1060/1060 [01:52<00:00,  9.46it/s]\n"
     ]
    }
   ],
   "source": [
    "#extracting comment on video\n",
    "comment = driver.find_elements(By.ID,\"content-text\")\n",
    "time.sleep(3)\n",
    "from tqdm import tqdm\n",
    "for i in tqdm(comment):\n",
    "    if i.text is None:\n",
    "        Comments.append(\"--\")\n",
    "    else:\n",
    "        Comments.append(i.text)\n",
    "time.sleep(2)"
   ]
  },
  {
   "cell_type": "code",
   "execution_count": 370,
   "id": "7652296f",
   "metadata": {},
   "outputs": [
    {
     "name": "stderr",
     "output_type": "stream",
     "text": [
      "100%|██████████████████████████████████████████████████████████████████████████████| 1060/1060 [02:04<00:00,  8.53it/s]\n",
      "100%|████████████████████████████████████████████████████████████████████████████| 530/530 [00:00<00:00, 498985.66it/s]\n"
     ]
    }
   ],
   "source": [
    "# Extracting time of commenting\n",
    "timeline = driver.find_elements(By.XPATH,\"//a[contains(text(),'ago')]\")\n",
    "time.sleep(3)\n",
    "from tqdm import tqdm\n",
    "for i in tqdm(timeline):\n",
    "    if i.text is None:\n",
    "        Timeline.append(\"-\")\n",
    "    else:\n",
    "        Timeline.append(i.text)\n",
    "for i in tqdm(range(0,len(Timeline),2)):\n",
    "    Comment_posted_ago.append(Timeline[i])"
   ]
  },
  {
   "cell_type": "code",
   "execution_count": 371,
   "id": "39ce6948",
   "metadata": {},
   "outputs": [],
   "source": [
    "# scrape the comment likes\n",
    "like = driver.find_elements(By.XPATH,\"//span[@class='style-scope ytd-comment-action-buttons-renderer']\")\n",
    "for i in like:\n",
    "    Likes.append(i.text)\n",
    "    \n",
    "for i in range(1,len(Likes),2):\n",
    "    No_of_Likes.append(Likes[i])\n",
    "time.sleep(3)"
   ]
  },
  {
   "cell_type": "code",
   "execution_count": 372,
   "id": "5479ddec",
   "metadata": {},
   "outputs": [
    {
     "data": {
      "text/plain": [
       "(1060, 530, 1060)"
      ]
     },
     "execution_count": 372,
     "metadata": {},
     "output_type": "execute_result"
    }
   ],
   "source": [
    "len(Comments),len(Comment_posted_ago),len(No_of_Likes)"
   ]
  },
  {
   "cell_type": "code",
   "execution_count": 373,
   "id": "104c4f9f",
   "metadata": {},
   "outputs": [
    {
     "data": {
      "text/html": [
       "<div>\n",
       "<style scoped>\n",
       "    .dataframe tbody tr th:only-of-type {\n",
       "        vertical-align: middle;\n",
       "    }\n",
       "\n",
       "    .dataframe tbody tr th {\n",
       "        vertical-align: top;\n",
       "    }\n",
       "\n",
       "    .dataframe thead th {\n",
       "        text-align: right;\n",
       "    }\n",
       "</style>\n",
       "<table border=\"1\" class=\"dataframe\">\n",
       "  <thead>\n",
       "    <tr style=\"text-align: right;\">\n",
       "      <th></th>\n",
       "      <th>Comments</th>\n",
       "      <th>Comment Posted Ago</th>\n",
       "      <th>No. of Likes</th>\n",
       "    </tr>\n",
       "  </thead>\n",
       "  <tbody>\n",
       "    <tr>\n",
       "      <th>0</th>\n",
       "      <td>Won Oscar!! Proud️</td>\n",
       "      <td>1 month ago</td>\n",
       "      <td>18K</td>\n",
       "    </tr>\n",
       "    <tr>\n",
       "      <th>1</th>\n",
       "      <td>Fantástica canción ganadora del Oscar ,,,,muy ...</td>\n",
       "      <td>4 weeks ago</td>\n",
       "      <td>498</td>\n",
       "    </tr>\n",
       "    <tr>\n",
       "      <th>2</th>\n",
       "      <td>I am an INDIAN from Kerala which is in the sou...</td>\n",
       "      <td>4 weeks ago</td>\n",
       "      <td>258</td>\n",
       "    </tr>\n",
       "    <tr>\n",
       "      <th>3</th>\n",
       "      <td>Not  even bollywood  but south indian movies a...</td>\n",
       "      <td>1 month ago</td>\n",
       "      <td>119</td>\n",
       "    </tr>\n",
       "    <tr>\n",
       "      <th>4</th>\n",
       "      <td>Choreographer deserves the same amount of cred...</td>\n",
       "      <td>4 weeks ago (edited)</td>\n",
       "      <td>141</td>\n",
       "    </tr>\n",
       "    <tr>\n",
       "      <th>...</th>\n",
       "      <td>...</td>\n",
       "      <td>...</td>\n",
       "      <td>...</td>\n",
       "    </tr>\n",
       "    <tr>\n",
       "      <th>495</th>\n",
       "      <td>ഈ  ചിരിയിൽ ലോകം  കുടയ് വന്നു</td>\n",
       "      <td>13 days ago</td>\n",
       "      <td>1</td>\n",
       "    </tr>\n",
       "    <tr>\n",
       "      <th>496</th>\n",
       "      <td>Hindi audience didn't understand  but enjoying...</td>\n",
       "      <td>11 days ago</td>\n",
       "      <td>1</td>\n",
       "    </tr>\n",
       "    <tr>\n",
       "      <th>497</th>\n",
       "      <td>Wish me all the best\\nIm going to perform this...</td>\n",
       "      <td>3 months ago</td>\n",
       "      <td>1</td>\n",
       "    </tr>\n",
       "    <tr>\n",
       "      <th>498</th>\n",
       "      <td>Just woke up in  Greater Noida UP reading the ...</td>\n",
       "      <td>8 days ago</td>\n",
       "      <td>421</td>\n",
       "    </tr>\n",
       "    <tr>\n",
       "      <th>499</th>\n",
       "      <td>The Telugu version of this song is much better...</td>\n",
       "      <td>1 hour ago</td>\n",
       "      <td>3</td>\n",
       "    </tr>\n",
       "  </tbody>\n",
       "</table>\n",
       "<p>500 rows × 3 columns</p>\n",
       "</div>"
      ],
      "text/plain": [
       "                                              Comments    Comment Posted Ago  \\\n",
       "0                                   Won Oscar!! Proud️           1 month ago   \n",
       "1    Fantástica canción ganadora del Oscar ,,,,muy ...           4 weeks ago   \n",
       "2    I am an INDIAN from Kerala which is in the sou...           4 weeks ago   \n",
       "3    Not  even bollywood  but south indian movies a...           1 month ago   \n",
       "4    Choreographer deserves the same amount of cred...  4 weeks ago (edited)   \n",
       "..                                                 ...                   ...   \n",
       "495                      ഈ  ചിരിയിൽ ലോകം  കുടയ് വന്നു            13 days ago   \n",
       "496  Hindi audience didn't understand  but enjoying...           11 days ago   \n",
       "497  Wish me all the best\\nIm going to perform this...          3 months ago   \n",
       "498  Just woke up in  Greater Noida UP reading the ...            8 days ago   \n",
       "499  The Telugu version of this song is much better...            1 hour ago   \n",
       "\n",
       "    No. of Likes  \n",
       "0            18K  \n",
       "1            498  \n",
       "2            258  \n",
       "3            119  \n",
       "4            141  \n",
       "..           ...  \n",
       "495            1  \n",
       "496            1  \n",
       "497            1  \n",
       "498          421  \n",
       "499            3  \n",
       "\n",
       "[500 rows x 3 columns]"
      ]
     },
     "execution_count": 373,
     "metadata": {},
     "output_type": "execute_result"
    }
   ],
   "source": [
    "YT=pd.DataFrame({'Comments':Comments[:500],'Comment Posted Ago':Comment_posted_ago[:500],'No. of Likes':No_of_Likes[:500]})\n",
    "YT"
   ]
  },
  {
   "cell_type": "markdown",
   "id": "efacaa31",
   "metadata": {},
   "source": [
    "#### 10.Write a python program to scrape a data for all available Hostels from https://www.hostelworld.com/ in “London” location. You have to scrape hostel name, distance from city centre, ratings, total reviews, overall reviews, privates from price, dorms from price, facilities and property description"
   ]
  },
  {
   "cell_type": "code",
   "execution_count": 35,
   "id": "3bb7c704",
   "metadata": {},
   "outputs": [],
   "source": [
    "# Connecting to webdriver\n",
    "driver=webdriver.Chrome(r\"C:\\Users\\Mauna\\Downloads\\chromedriver_win32\\chromedriver.exe\")\n",
    "time.sleep(1)\n",
    "\n",
    "# Opening url in chrome browser\n",
    "url=\"https://www.hostelworld.com\"\n",
    "driver.get(url)\n",
    "time.sleep(2)"
   ]
  },
  {
   "cell_type": "code",
   "execution_count": 36,
   "id": "1aad3a23",
   "metadata": {},
   "outputs": [],
   "source": [
    "driver.find_element(By.XPATH,'/html/body/div[3]/div/div/div[2]/div[2]/div/div/div[3]/div/ul/li[1]/div/span').click()"
   ]
  },
  {
   "cell_type": "code",
   "execution_count": 39,
   "id": "84eabecf",
   "metadata": {},
   "outputs": [],
   "source": [
    "#locating the location search bar\n",
    "Search = driver.find_element(By.XPATH,'/html/body/div[3]/div/div/div[2]/div[2]/div/div/div[4]/div/div[2]/div/div[1]/div/div/div/input')"
   ]
  },
  {
   "cell_type": "code",
   "execution_count": 40,
   "id": "3e368694",
   "metadata": {},
   "outputs": [],
   "source": [
    " # Sending input London in search bar\n",
    "Search.send_keys(\"London\")\n",
    "time.sleep(1)"
   ]
  },
  {
   "cell_type": "code",
   "execution_count": 41,
   "id": "09236ff5",
   "metadata": {},
   "outputs": [],
   "source": [
    "#select london\n",
    "london = driver.find_element(By.XPATH,'/html/body/div[3]/div/div/div[2]/div[2]/div/div/div[4]/div/div[2]/div/div[1]/div/div/ul/li[2]/div')\n",
    "london.click()\n",
    "time.sleep(2)"
   ]
  },
  {
   "cell_type": "code",
   "execution_count": 42,
   "id": "9a48fb9e",
   "metadata": {},
   "outputs": [],
   "source": [
    "# do click on search button\n",
    "Search_button = driver.find_element(By.XPATH,'/html/body/div[3]/div/div/div[2]/div[2]/div/div/div[4]/div/div[2]/div/div[5]/button')\n",
    "Search_button.click()"
   ]
  },
  {
   "cell_type": "code",
   "execution_count": 44,
   "id": "2f71b035",
   "metadata": {},
   "outputs": [
    {
     "data": {
      "text/plain": [
       "[\"St Christopher's Village\",\n",
       " 'Hostel One Notting Hill',\n",
       " 'Generator London',\n",
       " 'Urbany Hostel London',\n",
       " \"St Christopher's Camden\",\n",
       " 'Queen Elizabeth Chelsea',\n",
       " \"St Christopher's Greenwich\",\n",
       " 'Bell House Hostel',\n",
       " 'PubLove @ The White Ferry, Victoria',\n",
       " 'Hostelle London',\n",
       " 'Kensal Green Backpackers',\n",
       " 'PubLove @ The Crown, Battersea',\n",
       " 'London Waterloo Hostel',\n",
       " 'Elmwood Hotel',\n",
       " 'PubLove @ The Exmouth Arms, Euston',\n",
       " 'PubLove @ The Green Man, Paddington',\n",
       " 'Hanover Hotel',\n",
       " 'Budget London Apartments',\n",
       " 'The London Home Hostel']"
      ]
     },
     "execution_count": 44,
     "metadata": {},
     "output_type": "execute_result"
    }
   ],
   "source": [
    "hostel_name = []\n",
    "#fetching hostel name\n",
    "try:\n",
    "    name = driver.find_elements(By.XPATH,'//h2[@class=\"title title-6\"]')\n",
    "    for i in name:\n",
    "        hostel_name.append(i.text)\n",
    "except NoSuchElementException:\n",
    "    hostel_name.append('-')\n",
    "hostel_name"
   ]
  },
  {
   "cell_type": "code",
   "execution_count": 45,
   "id": "27f3ae42",
   "metadata": {},
   "outputs": [
    {
     "data": {
      "text/plain": [
       "19"
      ]
     },
     "execution_count": 45,
     "metadata": {},
     "output_type": "execute_result"
    }
   ],
   "source": [
    "len(hostel_name)"
   ]
  },
  {
   "cell_type": "code",
   "execution_count": 46,
   "id": "9561e78b",
   "metadata": {},
   "outputs": [
    {
     "data": {
      "text/plain": [
       "['1.8km from city centre',\n",
       " '5.5km from city centre',\n",
       " '3km from city centre',\n",
       " '5.4km from city centre',\n",
       " '4.3km from city centre',\n",
       " '5.7km from city centre',\n",
       " '7.6km from city centre',\n",
       " '4.2km from city centre',\n",
       " '2.4km from city centre',\n",
       " '5.1km from city centre',\n",
       " '8.2km from city centre',\n",
       " '4.7km from city centre',\n",
       " '0.7km from city centre',\n",
       " 'Hotel - 3.2km from city centre',\n",
       " '3.4km from city centre',\n",
       " '4.3km from city centre',\n",
       " 'Hotel - 2.1km from city centre',\n",
       " 'Apartment - 8.2km from city centre',\n",
       " '8.2km from city centre']"
      ]
     },
     "execution_count": 46,
     "metadata": {},
     "output_type": "execute_result"
    }
   ],
   "source": [
    "distance = []\n",
    "#fetching distance from city centre \n",
    "try:\n",
    "    dist = driver.find_elements(By.XPATH,'//span[@ class=\"description\"]')\n",
    "    for i in dist:\n",
    "        distance.append(i.text.replace('Hostel - ',''))\n",
    "except NoSuchElementException:\n",
    "    distance.append('-')\n",
    "distance"
   ]
  },
  {
   "cell_type": "code",
   "execution_count": 47,
   "id": "1e23c4b9",
   "metadata": {},
   "outputs": [
    {
     "data": {
      "text/plain": [
       "19"
      ]
     },
     "execution_count": 47,
     "metadata": {},
     "output_type": "execute_result"
    }
   ],
   "source": [
    "len(distance)"
   ]
  },
  {
   "cell_type": "code",
   "execution_count": 48,
   "id": "9e281bc7",
   "metadata": {},
   "outputs": [
    {
     "data": {
      "text/plain": [
       "['7.7',\n",
       " '9.5',\n",
       " '7.5',\n",
       " '9.2',\n",
       " '7.8',\n",
       " '6.9',\n",
       " '7.3',\n",
       " '7.3',\n",
       " '7.4',\n",
       " '8.6',\n",
       " '5.1',\n",
       " '7.5',\n",
       " '5.4',\n",
       " '8.0',\n",
       " '6.6',\n",
       " '6.3',\n",
       " '2.6',\n",
       " '5.7']"
      ]
     },
     "execution_count": 48,
     "metadata": {},
     "output_type": "execute_result"
    }
   ],
   "source": [
    "rating = []\n",
    "#fetching ratings of each Hostel\n",
    "try:\n",
    "    rat = driver.find_elements(By.XPATH,\"//div[@class='score orange big' or @class='score gray big']\")\n",
    "    for i in rat:\n",
    "        rating.append(i.text)\n",
    "except NoSuchElementException:\n",
    "    rating.append('-')\n",
    "rating"
   ]
  },
  {
   "cell_type": "code",
   "execution_count": 49,
   "id": "a6734fa8",
   "metadata": {},
   "outputs": [
    {
     "data": {
      "text/plain": [
       "18"
      ]
     },
     "execution_count": 49,
     "metadata": {},
     "output_type": "execute_result"
    }
   ],
   "source": [
    "len(rating)"
   ]
  },
  {
   "cell_type": "code",
   "execution_count": 50,
   "id": "d0149c23",
   "metadata": {},
   "outputs": [
    {
     "data": {
      "text/plain": [
       "['Very Good',\n",
       " 'Very Good',\n",
       " 'Superb',\n",
       " 'Very Good',\n",
       " 'Superb',\n",
       " 'Very Good',\n",
       " 'Good',\n",
       " 'Very Good',\n",
       " 'Very Good',\n",
       " 'Very Good',\n",
       " 'Fabulous',\n",
       " 'Rating',\n",
       " 'Very Good',\n",
       " 'Rating',\n",
       " 'Fabulous',\n",
       " 'Good',\n",
       " 'Good',\n",
       " 'No Rating',\n",
       " 'Rating',\n",
       " 'Rating']"
      ]
     },
     "execution_count": 50,
     "metadata": {},
     "output_type": "execute_result"
    }
   ],
   "source": [
    "reviews = []\n",
    "#fetching ratings of each Hostel\n",
    "revw = driver.find_elements(By.XPATH,'//div[@ class=\"keyword\"]')\n",
    "for i in revw:\n",
    "    try:\n",
    "        reviews.append(i.text)\n",
    "    except  NoSuchElementException:\n",
    "        reviews.append('--')\n",
    "reviews"
   ]
  },
  {
   "cell_type": "code",
   "execution_count": 51,
   "id": "a871f6c9",
   "metadata": {},
   "outputs": [
    {
     "data": {
      "text/plain": [
       "20"
      ]
     },
     "execution_count": 51,
     "metadata": {},
     "output_type": "execute_result"
    }
   ],
   "source": [
    "len(reviews)"
   ]
  },
  {
   "cell_type": "code",
   "execution_count": 52,
   "id": "98eb82be",
   "metadata": {},
   "outputs": [
    {
     "data": {
      "text/plain": [
       "['12048 ',\n",
       " '1952 ',\n",
       " '7429 ',\n",
       " '724 ',\n",
       " '4013 ',\n",
       " '3445 ',\n",
       " '3329 ',\n",
       " '50 ',\n",
       " '324 ',\n",
       " '7 ',\n",
       " '3706 ',\n",
       " '298 ',\n",
       " '2528 ',\n",
       " '126 ',\n",
       " '1072 ',\n",
       " '443 ',\n",
       " '46 ',\n",
       " '357 ',\n",
       " '262 ']"
      ]
     },
     "execution_count": 52,
     "metadata": {},
     "output_type": "execute_result"
    }
   ],
   "source": [
    "over_all = []\n",
    "#fetching Overall ratings of each Hostel\n",
    "try:\n",
    "    ovr_rat = driver.find_elements(By.XPATH,'//div[@ class=\"reviews\"]')\n",
    "    for i in ovr_rat:\n",
    "        over_all.append(i.text.replace('Total Reviews',''))\n",
    "except  NoSuchElementException:\n",
    "    over_all.append(\"__\")\n",
    "over_all"
   ]
  },
  {
   "cell_type": "code",
   "execution_count": 53,
   "id": "bc2532d1",
   "metadata": {},
   "outputs": [
    {
     "data": {
      "text/plain": [
       "19"
      ]
     },
     "execution_count": 53,
     "metadata": {},
     "output_type": "execute_result"
    }
   ],
   "source": [
    "len(over_all)"
   ]
  },
  {
   "cell_type": "code",
   "execution_count": 54,
   "id": "71b39c5e",
   "metadata": {},
   "outputs": [],
   "source": [
    "prices=[]\n",
    "pvt_price = []\n",
    "dorms_price = []\n",
    "#fetching Overall ratings of each Hostel\n",
    "try:\n",
    "    price = driver.find_elements(By.XPATH,'//div[@class=\"price-col\"]')\n",
    "    for i in price:\n",
    "        prices.append(i.text)\n",
    "        pvt_price = [prices[k] for k in range(len(prices)) if k % 2 == 0]\n",
    "        dorms_price = [prices[l] for l in range(len(prices)) if l % 2 != 0]\n",
    "except  StaleElementReferenceException:\n",
    "    prices.append(\"__\")"
   ]
  },
  {
   "cell_type": "code",
   "execution_count": 55,
   "id": "87ff0718",
   "metadata": {},
   "outputs": [
    {
     "data": {
      "text/plain": [
       "(19, 19)"
      ]
     },
     "execution_count": 55,
     "metadata": {},
     "output_type": "execute_result"
    }
   ],
   "source": [
    "len(pvt_price),len(dorms_price)"
   ]
  },
  {
   "cell_type": "code",
   "execution_count": 56,
   "id": "058ed4b5",
   "metadata": {},
   "outputs": [
    {
     "data": {
      "text/plain": [
       "['Dorms From\\nRs4413.7 Rs3972',\n",
       " 'Dorms From\\nRs8359',\n",
       " 'Dorms From\\nRs4413',\n",
       " 'Dorms From\\nRs5097',\n",
       " 'Dorms From\\nRs5056.51 Rs4551',\n",
       " 'Dorms From\\nRs3388',\n",
       " 'Dorms From\\nRs3543.76 Rs3189',\n",
       " 'Dorms From\\nRs3741',\n",
       " 'Dorms From\\nRs7121',\n",
       " 'Dorms From\\nRs6712',\n",
       " 'Dorms From\\nRs3373',\n",
       " 'Dorms From\\nRs4940',\n",
       " 'Dorms From\\nRs4231',\n",
       " 'No Dorms Available',\n",
       " 'Dorms From\\nRs7087',\n",
       " 'Dorms From\\nRs5043',\n",
       " 'No Dorms Available',\n",
       " 'Dorms From\\nRs2249',\n",
       " 'Dorms From\\nRs2555']"
      ]
     },
     "execution_count": 56,
     "metadata": {},
     "output_type": "execute_result"
    }
   ],
   "source": [
    "dorms_price"
   ]
  },
  {
   "cell_type": "code",
   "execution_count": 57,
   "id": "53abda25",
   "metadata": {},
   "outputs": [
    {
     "data": {
      "text/plain": [
       "['Free WiFi\\nFollows Covid-19 sanitation guidance',\n",
       " 'Free WiFi',\n",
       " 'Free WiFi\\nFollows Covid-19 sanitation guidance',\n",
       " 'Free WiFi\\nFollows Covid-19 sanitation guidance',\n",
       " 'Free WiFi\\nFollows Covid-19 sanitation guidance',\n",
       " 'Free WiFi',\n",
       " 'Free WiFi\\nFollows Covid-19 sanitation guidance',\n",
       " 'Free WiFi',\n",
       " 'Free WiFi',\n",
       " 'Free WiFi\\nFollows Covid-19 sanitation guidance',\n",
       " 'Follows Covid-19 sanitation guidance',\n",
       " 'Free WiFi',\n",
       " 'Free WiFi\\nFollows Covid-19 sanitation guidance',\n",
       " '',\n",
       " 'Free WiFi',\n",
       " 'Free WiFi',\n",
       " 'Free WiFi\\nFree Breakfast',\n",
       " 'Free WiFi',\n",
       " 'Free WiFi']"
      ]
     },
     "execution_count": 57,
     "metadata": {},
     "output_type": "execute_result"
    }
   ],
   "source": [
    "#lets find required data\n",
    "facilities = []\n",
    "try:\n",
    "    fac1 = driver.find_elements(By.XPATH,'//div[@ class=\"facilities-label facilities\"]')\n",
    "    for i in fac1:\n",
    "        facilities.append(i.text)\n",
    "except NoSuchElementException:\n",
    "    facilities.append('-')        \n",
    "facilities"
   ]
  },
  {
   "cell_type": "code",
   "execution_count": 58,
   "id": "31083089",
   "metadata": {},
   "outputs": [
    {
     "data": {
      "text/plain": [
       "19"
      ]
     },
     "execution_count": 58,
     "metadata": {},
     "output_type": "execute_result"
    }
   ],
   "source": [
    "len(facilities)"
   ]
  },
  {
   "cell_type": "code",
   "execution_count": 59,
   "id": "3fe31c3c",
   "metadata": {},
   "outputs": [
    {
     "data": {
      "text/plain": [
       "['https://www.hostelworld.com/pwa/hosteldetails.php/St-Christopher-s-Village/London/502?from=2023-04-21&to=2023-04-24&guests=2',\n",
       " 'https://www.hostelworld.com/pwa/hosteldetails.php/Hostel-One-Notting-Hill/London/291433?from=2023-04-21&to=2023-04-24&guests=2',\n",
       " 'https://www.hostelworld.com/pwa/hosteldetails.php/Generator-London/London/510?from=2023-04-21&to=2023-04-24&guests=2',\n",
       " 'https://www.hostelworld.com/pwa/hosteldetails.php/Urbany-Hostel-London/London/303427?from=2023-04-21&to=2023-04-24&guests=2',\n",
       " 'https://www.hostelworld.com/pwa/hosteldetails.php/St-Christopher-s-Camden/London/505?from=2023-04-21&to=2023-04-24&guests=2',\n",
       " 'https://www.hostelworld.com/pwa/hosteldetails.php/Queen-Elizabeth-Chelsea/London/50443?from=2023-04-21&to=2023-04-24&guests=2',\n",
       " 'https://www.hostelworld.com/pwa/hosteldetails.php/St-Christopher-s-Greenwich/London/501?from=2023-04-21&to=2023-04-24&guests=2',\n",
       " 'https://www.hostelworld.com/pwa/hosteldetails.php/Bell-House-Hostel/London/315821?from=2023-04-21&to=2023-04-24&guests=2',\n",
       " 'https://www.hostelworld.com/pwa/hosteldetails.php/PubLove-The-White-Ferry-Victoria/London/39761?from=2023-04-21&to=2023-04-24&guests=2',\n",
       " 'https://www.hostelworld.com/pwa/hosteldetails.php/Hostelle-London/London/316723?from=2023-04-21&to=2023-04-24&guests=2',\n",
       " 'https://www.hostelworld.com/pwa/hosteldetails.php/Kensal-Green-Backpackers/London/4483?from=2023-04-21&to=2023-04-24&guests=2',\n",
       " 'https://www.hostelworld.com/pwa/hosteldetails.php/PubLove-The-Crown-Battersea/London/60336?from=2023-04-21&to=2023-04-24&guests=2',\n",
       " 'https://www.hostelworld.com/pwa/hosteldetails.php/London-Waterloo-Hostel/London/39493?from=2023-04-21&to=2023-04-24&guests=2',\n",
       " 'https://www.hostelworld.com/pwa/hosteldetails.php/Elmwood-Hotel/London/34338?from=2023-04-21&to=2023-04-24&guests=2',\n",
       " 'https://www.hostelworld.com/pwa/hosteldetails.php/PubLove-The-Exmouth-Arms-Euston/London/93796?from=2023-04-21&to=2023-04-24&guests=2',\n",
       " 'https://www.hostelworld.com/pwa/hosteldetails.php/PubLove-The-Green-Man-Paddington/London/21953?from=2023-04-21&to=2023-04-24&guests=2',\n",
       " 'https://www.hostelworld.com/pwa/hosteldetails.php/Hanover-Hotel/London/6252?from=2023-04-21&to=2023-04-24&guests=2',\n",
       " 'https://www.hostelworld.com/pwa/hosteldetails.php/Budget-London-Apartments/London/11493?from=2023-04-21&to=2023-04-24&guests=2',\n",
       " 'https://www.hostelworld.com/pwa/hosteldetails.php/The-London-Home-Hostel/London/80690?from=2023-04-21&to=2023-04-24&guests=2']"
      ]
     },
     "execution_count": 59,
     "metadata": {},
     "output_type": "execute_result"
    }
   ],
   "source": [
    "product_url=[]\n",
    "lnks=driver.find_elements(By.XPATH,'//a[@ class=\"view-button\"]')\n",
    "# traverse list\n",
    "for lnk in lnks:\n",
    "   # get_attribute() to get all href\n",
    "   product_url.append(lnk.get_attribute(\"href\"))\n",
    "product_url"
   ]
  },
  {
   "cell_type": "code",
   "execution_count": 60,
   "id": "738483da",
   "metadata": {},
   "outputs": [
    {
     "data": {
      "text/plain": [
       "19"
      ]
     },
     "execution_count": 60,
     "metadata": {},
     "output_type": "execute_result"
    }
   ],
   "source": [
    "len(product_url)"
   ]
  },
  {
   "cell_type": "code",
   "execution_count": 61,
   "id": "3b36bd44",
   "metadata": {},
   "outputs": [
    {
     "data": {
      "text/plain": [
       "['165 Borough High Street, London, England',\n",
       " \"63 Prince's Square, London, England\",\n",
       " 'Compton Place, Off 37 Tavistock Place, WC1, London, England',\n",
       " '48-49 Princes Square, Paddington, London, England',\n",
       " '48-50 Camden High Street, Camden NW1, London, England',\n",
       " '58 Bagleys Lane, London, England',\n",
       " '189 Greenwich High Road, Greenwich, London, England',\n",
       " '91 Bell St, Bell House, London, England',\n",
       " '1a Sutherland Street, Victoria, London, England',\n",
       " '458 Bethnal Green road, London, England',\n",
       " '639 Harrow Road, London, England',\n",
       " '102 Lavender Hill,, Battersea, London, England',\n",
       " '73 Lambeth Walk, London, London, England',\n",
       " '19 & 20 Argyle square, London, London, England',\n",
       " '1 Starcross Street, London, England',\n",
       " '308 Edgware Road, London, England',\n",
       " '30 St. Georges Drive, Victoria, London, England',\n",
       " '30 Chatsworth Rd., Willesden Green, London, England',\n",
       " '39 Chatsworth Road, London, London, England']"
      ]
     },
     "execution_count": 61,
     "metadata": {},
     "output_type": "execute_result"
    }
   ],
   "source": [
    "description =[]\n",
    "for i in product_url:\n",
    "    driver.get(i)\n",
    "    time.sleep(3)\n",
    "    try:\n",
    "        disc = driver.find_element(By.XPATH,\"//div[@class='content']\")\n",
    "        description.append(disc.text)\n",
    "    except NoSuchElementException:\n",
    "        description.append('-')\n",
    "description"
   ]
  },
  {
   "cell_type": "code",
   "execution_count": 62,
   "id": "4bad8a79",
   "metadata": {},
   "outputs": [
    {
     "data": {
      "text/plain": [
       "19"
      ]
     },
     "execution_count": 62,
     "metadata": {},
     "output_type": "execute_result"
    }
   ],
   "source": [
    "len(description)"
   ]
  },
  {
   "cell_type": "code",
   "execution_count": 63,
   "id": "707f91da",
   "metadata": {},
   "outputs": [
    {
     "name": "stdout",
     "output_type": "stream",
     "text": [
      "19 19 18 20 19 19 19 19 19\n"
     ]
    }
   ],
   "source": [
    "print(len(hostel_name),len(distance),len(rating),len(reviews),len(over_all),len(pvt_price),len(dorms_price),len(facilities),len(description))"
   ]
  },
  {
   "cell_type": "code",
   "execution_count": 64,
   "id": "3b462e8c",
   "metadata": {},
   "outputs": [
    {
     "name": "stdout",
     "output_type": "stream",
     "text": [
      "Hostel Available in London\n"
     ]
    },
    {
     "data": {
      "text/html": [
       "<div>\n",
       "<style scoped>\n",
       "    .dataframe tbody tr th:only-of-type {\n",
       "        vertical-align: middle;\n",
       "    }\n",
       "\n",
       "    .dataframe tbody tr th {\n",
       "        vertical-align: top;\n",
       "    }\n",
       "\n",
       "    .dataframe thead th {\n",
       "        text-align: right;\n",
       "    }\n",
       "</style>\n",
       "<table border=\"1\" class=\"dataframe\">\n",
       "  <thead>\n",
       "    <tr style=\"text-align: right;\">\n",
       "      <th></th>\n",
       "      <th>Hostel name</th>\n",
       "      <th>Distance from city centre</th>\n",
       "      <th>ratings</th>\n",
       "      <th>Total reviews</th>\n",
       "      <th>Overall review</th>\n",
       "      <th>Privates from price</th>\n",
       "      <th>Dorms from price</th>\n",
       "      <th>Facilities</th>\n",
       "      <th>Property Description</th>\n",
       "    </tr>\n",
       "  </thead>\n",
       "  <tbody>\n",
       "    <tr>\n",
       "      <th>0</th>\n",
       "      <td>St Christopher's Village</td>\n",
       "      <td>1.8km from city centre</td>\n",
       "      <td>7.7</td>\n",
       "      <td>Very Good</td>\n",
       "      <td>12048</td>\n",
       "      <td>No Privates Available</td>\n",
       "      <td>Dorms From\\nRs4413.7 Rs3972</td>\n",
       "      <td>Free WiFi\\nFollows Covid-19 sanitation guidance</td>\n",
       "      <td>165 Borough High Street, London, England</td>\n",
       "    </tr>\n",
       "    <tr>\n",
       "      <th>1</th>\n",
       "      <td>Hostel One Notting Hill</td>\n",
       "      <td>5.5km from city centre</td>\n",
       "      <td>9.5</td>\n",
       "      <td>Very Good</td>\n",
       "      <td>1952</td>\n",
       "      <td>Privates From\\nRs19677</td>\n",
       "      <td>Dorms From\\nRs8359</td>\n",
       "      <td>Free WiFi</td>\n",
       "      <td>63 Prince's Square, London, England</td>\n",
       "    </tr>\n",
       "    <tr>\n",
       "      <th>2</th>\n",
       "      <td>Generator London</td>\n",
       "      <td>3km from city centre</td>\n",
       "      <td>7.5</td>\n",
       "      <td>Superb</td>\n",
       "      <td>7429</td>\n",
       "      <td>Privates From\\nRs21345</td>\n",
       "      <td>Dorms From\\nRs4413</td>\n",
       "      <td>Free WiFi\\nFollows Covid-19 sanitation guidance</td>\n",
       "      <td>Compton Place, Off 37 Tavistock Place, WC1, Lo...</td>\n",
       "    </tr>\n",
       "    <tr>\n",
       "      <th>3</th>\n",
       "      <td>Urbany Hostel London</td>\n",
       "      <td>5.4km from city centre</td>\n",
       "      <td>9.2</td>\n",
       "      <td>Very Good</td>\n",
       "      <td>724</td>\n",
       "      <td>No Privates Available</td>\n",
       "      <td>Dorms From\\nRs5097</td>\n",
       "      <td>Free WiFi\\nFollows Covid-19 sanitation guidance</td>\n",
       "      <td>48-49 Princes Square, Paddington, London, England</td>\n",
       "    </tr>\n",
       "    <tr>\n",
       "      <th>4</th>\n",
       "      <td>St Christopher's Camden</td>\n",
       "      <td>4.3km from city centre</td>\n",
       "      <td>7.8</td>\n",
       "      <td>Superb</td>\n",
       "      <td>4013</td>\n",
       "      <td>No Privates Available</td>\n",
       "      <td>Dorms From\\nRs5056.51 Rs4551</td>\n",
       "      <td>Free WiFi\\nFollows Covid-19 sanitation guidance</td>\n",
       "      <td>48-50 Camden High Street, Camden NW1, London, ...</td>\n",
       "    </tr>\n",
       "    <tr>\n",
       "      <th>5</th>\n",
       "      <td>Queen Elizabeth Chelsea</td>\n",
       "      <td>5.7km from city centre</td>\n",
       "      <td>6.9</td>\n",
       "      <td>Very Good</td>\n",
       "      <td>3445</td>\n",
       "      <td>No Privates Available</td>\n",
       "      <td>Dorms From\\nRs3388</td>\n",
       "      <td>Free WiFi</td>\n",
       "      <td>58 Bagleys Lane, London, England</td>\n",
       "    </tr>\n",
       "    <tr>\n",
       "      <th>6</th>\n",
       "      <td>St Christopher's Greenwich</td>\n",
       "      <td>7.6km from city centre</td>\n",
       "      <td>7.3</td>\n",
       "      <td>Good</td>\n",
       "      <td>3329</td>\n",
       "      <td>No Privates Available</td>\n",
       "      <td>Dorms From\\nRs3543.76 Rs3189</td>\n",
       "      <td>Free WiFi\\nFollows Covid-19 sanitation guidance</td>\n",
       "      <td>189 Greenwich High Road, Greenwich, London, En...</td>\n",
       "    </tr>\n",
       "    <tr>\n",
       "      <th>7</th>\n",
       "      <td>Bell House Hostel</td>\n",
       "      <td>4.2km from city centre</td>\n",
       "      <td>7.3</td>\n",
       "      <td>Very Good</td>\n",
       "      <td>50</td>\n",
       "      <td>No Privates Available</td>\n",
       "      <td>Dorms From\\nRs3741</td>\n",
       "      <td>Free WiFi</td>\n",
       "      <td>91 Bell St, Bell House, London, England</td>\n",
       "    </tr>\n",
       "    <tr>\n",
       "      <th>8</th>\n",
       "      <td>PubLove @ The White Ferry, Victoria</td>\n",
       "      <td>2.4km from city centre</td>\n",
       "      <td>7.4</td>\n",
       "      <td>Very Good</td>\n",
       "      <td>324</td>\n",
       "      <td>No Privates Available</td>\n",
       "      <td>Dorms From\\nRs7121</td>\n",
       "      <td>Free WiFi</td>\n",
       "      <td>1a Sutherland Street, Victoria, London, England</td>\n",
       "    </tr>\n",
       "    <tr>\n",
       "      <th>9</th>\n",
       "      <td>Hostelle London</td>\n",
       "      <td>5.1km from city centre</td>\n",
       "      <td>8.6</td>\n",
       "      <td>Very Good</td>\n",
       "      <td>7</td>\n",
       "      <td>No Privates Available</td>\n",
       "      <td>Dorms From\\nRs6712</td>\n",
       "      <td>Free WiFi\\nFollows Covid-19 sanitation guidance</td>\n",
       "      <td>458 Bethnal Green road, London, England</td>\n",
       "    </tr>\n",
       "    <tr>\n",
       "      <th>10</th>\n",
       "      <td>Kensal Green Backpackers</td>\n",
       "      <td>8.2km from city centre</td>\n",
       "      <td>5.1</td>\n",
       "      <td>Fabulous</td>\n",
       "      <td>3706</td>\n",
       "      <td>No Privates Available</td>\n",
       "      <td>Dorms From\\nRs3373</td>\n",
       "      <td>Follows Covid-19 sanitation guidance</td>\n",
       "      <td>639 Harrow Road, London, England</td>\n",
       "    </tr>\n",
       "    <tr>\n",
       "      <th>11</th>\n",
       "      <td>PubLove @ The Crown, Battersea</td>\n",
       "      <td>4.7km from city centre</td>\n",
       "      <td>7.5</td>\n",
       "      <td>Rating</td>\n",
       "      <td>298</td>\n",
       "      <td>No Privates Available</td>\n",
       "      <td>Dorms From\\nRs4940</td>\n",
       "      <td>Free WiFi</td>\n",
       "      <td>102 Lavender Hill,, Battersea, London, England</td>\n",
       "    </tr>\n",
       "    <tr>\n",
       "      <th>12</th>\n",
       "      <td>London Waterloo Hostel</td>\n",
       "      <td>0.7km from city centre</td>\n",
       "      <td>5.4</td>\n",
       "      <td>Very Good</td>\n",
       "      <td>2528</td>\n",
       "      <td>No Privates Available</td>\n",
       "      <td>Dorms From\\nRs4231</td>\n",
       "      <td>Free WiFi\\nFollows Covid-19 sanitation guidance</td>\n",
       "      <td>73 Lambeth Walk, London, London, England</td>\n",
       "    </tr>\n",
       "    <tr>\n",
       "      <th>13</th>\n",
       "      <td>Elmwood Hotel</td>\n",
       "      <td>Hotel - 3.2km from city centre</td>\n",
       "      <td>8.0</td>\n",
       "      <td>Rating</td>\n",
       "      <td>126</td>\n",
       "      <td>Privates From\\nRs19420</td>\n",
       "      <td>No Dorms Available</td>\n",
       "      <td></td>\n",
       "      <td>19 &amp; 20 Argyle square, London, London, England</td>\n",
       "    </tr>\n",
       "    <tr>\n",
       "      <th>14</th>\n",
       "      <td>PubLove @ The Exmouth Arms, Euston</td>\n",
       "      <td>3.4km from city centre</td>\n",
       "      <td>6.6</td>\n",
       "      <td>Fabulous</td>\n",
       "      <td>1072</td>\n",
       "      <td>No Privates Available</td>\n",
       "      <td>Dorms From\\nRs7087</td>\n",
       "      <td>Free WiFi</td>\n",
       "      <td>1 Starcross Street, London, England</td>\n",
       "    </tr>\n",
       "    <tr>\n",
       "      <th>15</th>\n",
       "      <td>PubLove @ The Green Man, Paddington</td>\n",
       "      <td>4.3km from city centre</td>\n",
       "      <td>6.3</td>\n",
       "      <td>Good</td>\n",
       "      <td>443</td>\n",
       "      <td>No Privates Available</td>\n",
       "      <td>Dorms From\\nRs5043</td>\n",
       "      <td>Free WiFi</td>\n",
       "      <td>308 Edgware Road, London, England</td>\n",
       "    </tr>\n",
       "    <tr>\n",
       "      <th>16</th>\n",
       "      <td>Hanover Hotel</td>\n",
       "      <td>Hotel - 2.1km from city centre</td>\n",
       "      <td>2.6</td>\n",
       "      <td>Good</td>\n",
       "      <td>46</td>\n",
       "      <td>Privates From\\nRs55597</td>\n",
       "      <td>No Dorms Available</td>\n",
       "      <td>Free WiFi\\nFree Breakfast</td>\n",
       "      <td>30 St. Georges Drive, Victoria, London, England</td>\n",
       "    </tr>\n",
       "    <tr>\n",
       "      <th>17</th>\n",
       "      <td>Budget London Apartments</td>\n",
       "      <td>Apartment - 8.2km from city centre</td>\n",
       "      <td>5.7</td>\n",
       "      <td>No Rating</td>\n",
       "      <td>357</td>\n",
       "      <td>Privates From\\nRs5622</td>\n",
       "      <td>Dorms From\\nRs2249</td>\n",
       "      <td>Free WiFi</td>\n",
       "      <td>30 Chatsworth Rd., Willesden Green, London, En...</td>\n",
       "    </tr>\n",
       "  </tbody>\n",
       "</table>\n",
       "</div>"
      ],
      "text/plain": [
       "                            Hostel name           Distance from city centre  \\\n",
       "0              St Christopher's Village              1.8km from city centre   \n",
       "1               Hostel One Notting Hill              5.5km from city centre   \n",
       "2                      Generator London                3km from city centre   \n",
       "3                  Urbany Hostel London              5.4km from city centre   \n",
       "4               St Christopher's Camden              4.3km from city centre   \n",
       "5               Queen Elizabeth Chelsea              5.7km from city centre   \n",
       "6            St Christopher's Greenwich              7.6km from city centre   \n",
       "7                     Bell House Hostel              4.2km from city centre   \n",
       "8   PubLove @ The White Ferry, Victoria              2.4km from city centre   \n",
       "9                       Hostelle London              5.1km from city centre   \n",
       "10             Kensal Green Backpackers              8.2km from city centre   \n",
       "11       PubLove @ The Crown, Battersea              4.7km from city centre   \n",
       "12               London Waterloo Hostel              0.7km from city centre   \n",
       "13                        Elmwood Hotel      Hotel - 3.2km from city centre   \n",
       "14   PubLove @ The Exmouth Arms, Euston              3.4km from city centre   \n",
       "15  PubLove @ The Green Man, Paddington              4.3km from city centre   \n",
       "16                        Hanover Hotel      Hotel - 2.1km from city centre   \n",
       "17             Budget London Apartments  Apartment - 8.2km from city centre   \n",
       "\n",
       "   ratings Total reviews Overall review     Privates from price  \\\n",
       "0      7.7     Very Good         12048    No Privates Available   \n",
       "1      9.5     Very Good          1952   Privates From\\nRs19677   \n",
       "2      7.5        Superb          7429   Privates From\\nRs21345   \n",
       "3      9.2     Very Good           724    No Privates Available   \n",
       "4      7.8        Superb          4013    No Privates Available   \n",
       "5      6.9     Very Good          3445    No Privates Available   \n",
       "6      7.3          Good          3329    No Privates Available   \n",
       "7      7.3     Very Good            50    No Privates Available   \n",
       "8      7.4     Very Good           324    No Privates Available   \n",
       "9      8.6     Very Good             7    No Privates Available   \n",
       "10     5.1      Fabulous          3706    No Privates Available   \n",
       "11     7.5        Rating           298    No Privates Available   \n",
       "12     5.4     Very Good          2528    No Privates Available   \n",
       "13     8.0        Rating           126   Privates From\\nRs19420   \n",
       "14     6.6      Fabulous          1072    No Privates Available   \n",
       "15     6.3          Good           443    No Privates Available   \n",
       "16     2.6          Good            46   Privates From\\nRs55597   \n",
       "17     5.7     No Rating           357    Privates From\\nRs5622   \n",
       "\n",
       "                Dorms from price  \\\n",
       "0    Dorms From\\nRs4413.7 Rs3972   \n",
       "1             Dorms From\\nRs8359   \n",
       "2             Dorms From\\nRs4413   \n",
       "3             Dorms From\\nRs5097   \n",
       "4   Dorms From\\nRs5056.51 Rs4551   \n",
       "5             Dorms From\\nRs3388   \n",
       "6   Dorms From\\nRs3543.76 Rs3189   \n",
       "7             Dorms From\\nRs3741   \n",
       "8             Dorms From\\nRs7121   \n",
       "9             Dorms From\\nRs6712   \n",
       "10            Dorms From\\nRs3373   \n",
       "11            Dorms From\\nRs4940   \n",
       "12            Dorms From\\nRs4231   \n",
       "13            No Dorms Available   \n",
       "14            Dorms From\\nRs7087   \n",
       "15            Dorms From\\nRs5043   \n",
       "16            No Dorms Available   \n",
       "17            Dorms From\\nRs2249   \n",
       "\n",
       "                                         Facilities  \\\n",
       "0   Free WiFi\\nFollows Covid-19 sanitation guidance   \n",
       "1                                         Free WiFi   \n",
       "2   Free WiFi\\nFollows Covid-19 sanitation guidance   \n",
       "3   Free WiFi\\nFollows Covid-19 sanitation guidance   \n",
       "4   Free WiFi\\nFollows Covid-19 sanitation guidance   \n",
       "5                                         Free WiFi   \n",
       "6   Free WiFi\\nFollows Covid-19 sanitation guidance   \n",
       "7                                         Free WiFi   \n",
       "8                                         Free WiFi   \n",
       "9   Free WiFi\\nFollows Covid-19 sanitation guidance   \n",
       "10             Follows Covid-19 sanitation guidance   \n",
       "11                                        Free WiFi   \n",
       "12  Free WiFi\\nFollows Covid-19 sanitation guidance   \n",
       "13                                                    \n",
       "14                                        Free WiFi   \n",
       "15                                        Free WiFi   \n",
       "16                        Free WiFi\\nFree Breakfast   \n",
       "17                                        Free WiFi   \n",
       "\n",
       "                                 Property Description  \n",
       "0            165 Borough High Street, London, England  \n",
       "1                 63 Prince's Square, London, England  \n",
       "2   Compton Place, Off 37 Tavistock Place, WC1, Lo...  \n",
       "3   48-49 Princes Square, Paddington, London, England  \n",
       "4   48-50 Camden High Street, Camden NW1, London, ...  \n",
       "5                    58 Bagleys Lane, London, England  \n",
       "6   189 Greenwich High Road, Greenwich, London, En...  \n",
       "7             91 Bell St, Bell House, London, England  \n",
       "8     1a Sutherland Street, Victoria, London, England  \n",
       "9             458 Bethnal Green road, London, England  \n",
       "10                   639 Harrow Road, London, England  \n",
       "11     102 Lavender Hill,, Battersea, London, England  \n",
       "12           73 Lambeth Walk, London, London, England  \n",
       "13     19 & 20 Argyle square, London, London, England  \n",
       "14                1 Starcross Street, London, England  \n",
       "15                  308 Edgware Road, London, England  \n",
       "16    30 St. Georges Drive, Victoria, London, England  \n",
       "17  30 Chatsworth Rd., Willesden Green, London, En...  "
      ]
     },
     "execution_count": 64,
     "metadata": {},
     "output_type": "execute_result"
    }
   ],
   "source": [
    "#creating dataframe\n",
    "data = list(zip(hostel_name,distance,rating,reviews,over_all,pvt_price,dorms_price,facilities,description))       \n",
    "Hostel = pd.DataFrame(data, columns = [\"Hostel name\",\"Distance from city centre\",\"ratings\",\"Total reviews\",\"Overall review\",\"Privates from price\",\"Dorms from price\",\"Facilities\",\"Property Description\"])\n",
    "print('Hostel Available in London')\n",
    "Hostel"
   ]
  },
  {
   "cell_type": "code",
   "execution_count": null,
   "id": "ddda594a",
   "metadata": {},
   "outputs": [],
   "source": []
  }
 ],
 "metadata": {
  "kernelspec": {
   "display_name": "Python 3 (ipykernel)",
   "language": "python",
   "name": "python3"
  },
  "language_info": {
   "codemirror_mode": {
    "name": "ipython",
    "version": 3
   },
   "file_extension": ".py",
   "mimetype": "text/x-python",
   "name": "python",
   "nbconvert_exporter": "python",
   "pygments_lexer": "ipython3",
   "version": "3.9.13"
  }
 },
 "nbformat": 4,
 "nbformat_minor": 5
}
